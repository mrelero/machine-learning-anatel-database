{
 "cells": [
  {
   "cell_type": "code",
   "execution_count": 1,
   "metadata": {},
   "outputs": [
    {
     "name": "stderr",
     "output_type": "stream",
     "text": [
      "C:\\Users\\Usuario\\anaconda3\\lib\\site-packages\\IPython\\core\\interactiveshell.py:3146: DtypeWarning: Columns (54) have mixed types.Specify dtype option on import or set low_memory=False.\n",
      "  has_raised = await self.run_ast_nodes(code_ast.body, cell_name,\n"
     ]
    }
   ],
   "source": [
    "import pandas as pd\n",
    "from pandas_ods_reader import read_ods\n",
    "import matplotlib.pyplot as plt\n",
    "import seaborn as sns\n",
    "import numpy as np\n",
    "import missingno as msno\n",
    "import skopt\n",
    "\n",
    "from sklearn.model_selection import train_test_split\n",
    "from sklearn import svm\n",
    "from sklearn import metrics\n",
    "from sklearn.metrics import confusion_matrix\n",
    "\n",
    "from sklearn.metrics import precision_score, recall_score, f1_score, roc_curve, roc_auc_score\n",
    "\n",
    "dados= pd.read_csv(\"raw_data\\Anatel.csv\")\n",
    "\n",
    "linhas= dados.index\n",
    "colunas= dados.columns\n",
    "\n",
    "Data_Filter = dados.copy()\n",
    "\n",
    "Data_Filter = Data_Filter[ dados[\"ANO_BASE\"] > 2016]\n",
    "Data_Filter = Data_Filter[ Data_Filter[\"E1\"] == 1]\n",
    "Data_Filter = Data_Filter[ Data_Filter[\"E7\"] == 1]\n",
    "Data_Filter = Data_Filter[ Data_Filter[\"F3\"] == 1]\n",
    "Data_Filter = Data_Filter[ Data_Filter[\"A1_1\"] == 1]\n",
    "\n",
    "\n",
    "Data_Filter[\"ESTADO\"] = Data_Filter[\"ESTADO\"].astype('category').cat.codes\n",
    "Data_Filter[\"OPERADORA\"] = Data_Filter[\"OPERADORA\"].astype('category').cat.codes\n",
    "Data_Filter.drop(\"Q2\", inplace= True, axis = 1)\n",
    "Data_Filter.drop(\"Q2_1\", inplace= True, axis = 1)\n",
    "Data_Filter.drop(\"Q2_2\", inplace= True, axis = 1)\n",
    "Data_Filter.drop(\"Q3\", inplace= True, axis = 1)\n",
    "Data_Filter.drop(\"Q4\", inplace= True, axis = 1)\n",
    "Data_Filter.drop(\"Q7a\", inplace= True, axis = 1)\n",
    "Data_Filter.drop(\"A1_1\", inplace= True, axis = 1)\n",
    "Data_Filter.drop(\"A1_4\", inplace= True, axis = 1)\n",
    "Data_Filter.drop(\"A4\", inplace= True, axis = 1)\n",
    "Data_Filter.drop(\"IDTNS\", inplace= True, axis = 1)\n",
    "Data_Filter.drop(\"G1\", inplace= True, axis = 1)\n",
    "Data_Filter.drop(\"G2_1\", inplace= True, axis = 1)\n",
    "Data_Filter.drop(\"G2_2\", inplace= True, axis = 1)\n",
    "Data_Filter.drop(\"G2_3\", inplace= True, axis = 1)\n",
    "Data_Filter.drop(\"E1\", inplace= True, axis = 1)\n",
    "Data_Filter.drop(\"E4\", inplace= True, axis = 1)\n",
    "Data_Filter.drop(\"E6\", inplace= True, axis = 1)\n",
    "Data_Filter.drop(\"E7\", inplace= True, axis = 1)\n",
    "Data_Filter.drop(\"F2_1\", inplace= True, axis = 1)\n",
    "Data_Filter.drop(\"F2_2\", inplace= True, axis = 1)\n",
    "Data_Filter.drop(\"F2_3\", inplace= True, axis = 1)\n",
    "Data_Filter.drop(\"F3\", inplace= True, axis = 1)\n",
    "Data_Filter.drop(\"I1\", inplace= True, axis = 1)\n",
    "Data_Filter.drop(\"PESO\", inplace= True, axis = 1)\n",
    "Data_Filter.drop(\"Q1\", inplace= True, axis = 1)\n",
    "Data_Filter.drop(\"Q6\", inplace= True, axis = 1)\n",
    "Data_Filter.drop(\"H3\", inplace= True, axis = 1)\n",
    "Data_Filter.drop(\"COD_IBGE\", inplace= True, axis = 1)\n",
    "Data_Filter.drop(\"H2a\", inplace= True, axis = 1)\n",
    "Data_Filter.drop(\"I2\", inplace= True, axis = 1)\n",
    "Data_Filter.drop(\"TIPO\", inplace= True, axis = 1)\n",
    "Data_Filter.drop(\"DATA\", inplace= True, axis = 1)\n",
    "Data_Filter.drop(\"H0\", inplace= True, axis = 1)\n",
    "\n",
    "\n",
    "\n",
    "\n",
    "\n",
    "Data_Filter[\"A1_2\"] = Data_Filter[\"A1_2\"].replace(2,1)\n",
    "Data_Filter[\"A1_3\"] = Data_Filter[\"A1_3\"].replace(3,1)\n",
    "Data_Filter[\"A1_2\"] = Data_Filter[\"A1_2\"].fillna(2)\n",
    "Data_Filter[\"A1_3\"] = Data_Filter[\"A1_3\"].fillna(2)\n",
    "\n",
    "Data_Filter.loc[Data_Filter.J1 >= 7, \"J1\"] = \"SATISFEITO\"\n",
    "Data_Filter.loc[Data_Filter.J1 != \"SATISFEITO\", \"J1\"] = \"INSATISFEITO\"\n",
    "\n",
    "Data_Filter[\"J1\"] = Data_Filter[\"J1\"].replace(\"SATISFEITO\",1)\n",
    "Data_Filter[\"J1\"] = Data_Filter[\"J1\"].replace(\"INSATISFEITO\",0)\n",
    "\n",
    "\n",
    "def plot_roc_curve(fpr, tpr, label = None):\n",
    "    plt.plot(fpr, tpr, linewidth = 2, label = label)\n",
    "    plt.plot([0,1], [0,1], 'k--')\n",
    "    plt.axis([0,1,0,1])\n",
    "    plt.xlabel(\"Taxa de Falsos Positivos\")\n",
    "    plt.ylabel(\"Taxa de Verdadeiros Positivos\")"
   ]
  },
  {
   "cell_type": "markdown",
   "metadata": {},
   "source": [
    "# Split"
   ]
  },
  {
   "cell_type": "code",
   "execution_count": 2,
   "metadata": {},
   "outputs": [],
   "source": [
    "\n",
    "\n",
    "Dados_Y = Data_Filter[\"J1\"].copy()\n",
    "Dados_X = Data_Filter.copy()\n",
    "Dados_X.drop(\"J1\", inplace= True, axis = 1)\n",
    "\n",
    "X_train, X_test, y_train, y_test = train_test_split(Dados_X, Dados_Y, test_size=0.3,random_state=109) # 70% training and 30% test\n"
   ]
  },
  {
   "cell_type": "markdown",
   "metadata": {},
   "source": [
    "## Indicadores de Precisão \n",
    "\n",
    "- Previsão: Acurácia das Previsões positivas;\n",
    "\n",
    "precisão = (TP/(TP+FP))\n",
    "\n",
    "- Revocação (Recall): Taxa de Instâncias positivas que são identificadas pelo classificador; \n",
    "\n",
    "revocação = (TP/(TP+FN))\n",
    "            \n",
    "|          |     0       |     1      |\n",
    "|----------|-------------|------------|\n",
    "|     0    |     TN    |     FP    |\n",
    "|     1    |     FN     |     TP    |\n",
    "\n",
    "TN = True Negative\n",
    "FP = False Positive\n",
    "FN = False Negative\n",
    "TP = True Positive\n",
    "\n",
    "- Score F1: É uma média harmônica entre precisão e revocação. A média harmônica da mais peso para valores baixos, ou seja, para ter um F1 alto, deve-se ter um valor alto para Revocação e Precisão.\n",
    "\n",
    "> Análise de Precisão e Revocação: A ideia de ter uma precisão e revocação iguais não é necessariamente o objetivo. Por exemplo, em caso do treinamento de uma ML para detectar vídeos para crianças é melhor ter uma precisão alta, para que apenas vídeos adequados passem, mas a Revocação pode ser baixa, ou seja, alguns vídeos não passem. Para detecção de Doenças, é melhor um revocação alta, onde ele detecta quase 100% dos doentes, mas erra pessoas que não tem a doença (Revocação ALTA e Precisão BAIXA). \n",
    "\n",
    "### Compensação da Precisão/Revocação\n",
    "\n",
    "O classificador calcula uma pontuação através de uma função de decisão, se esse resultado for maior que um limiar, ele classifica como Positivo, caso contrário Negativo. Ou seja, se você altera o limiar, ocorre uma compensação na Precisão e Revocação. A figura abaixo mostra como a Taxa de Falsos Positivos e Falsos Negativos mudam conforme a mudança dos Trherholds. \n",
    "\n",
    "- Curva ROC:Plot entre a Taxa de Falsos Positivos (FPR) x Verdadeiros posisitos (TPR). Quanto maior a Revocação (TPR - TAXA DE VERDADIEROS POSITIVOS), mais falsos positivos o Classificador Produz.\n",
    "\n",
    "**TPR** = TAXA DE VERDADEIROS POSITIVOS > Ou seja, quantos valores Positivos foram realmente classificados como positivos (Outro nome para revocação)\n",
    "\n",
    "**FPR** = TAXA DE FALSOS POSITIVOS > Ou seja, a taxa de instâncias negativas incorretamente classificadas como positivas.\n",
    "\n",
    "> Um bom classificador a curva fica o mais distante possivel da linha pontilhada. "
   ]
  },
  {
   "cell_type": "markdown",
   "metadata": {},
   "source": [
    "# SVM\n",
    "\n",
    "SVM é a sigla para Support Vector Machines, e são um conjunto de métodos de aprendizados supervisionados, que usam classificação, regressão e outliers detection. \n",
    "\n",
    "### Vantagens\n",
    "\n",
    "* Efetivo para alto espaço dimensional;\n",
    "* Ainda efetivo em casos onde o número de dimensões é maior que o número de amostras;\n",
    "\n",
    "### Parâmetros SVC\n",
    "\n",
    "```\n",
    "class sklearn.svm.SVC(*, C=1.0, kernel='rbf', degree=3, gamma='scale', coef0=0.0, shrinking=True, probability=False, tol=0.001, cache_size=200, class_weight=None, verbose=False, max_iter=- 1, decision_function_shape='ovr', break_ties=False, random_state=None)\n",
    "```\n",
    "\n",
    "* C = Parâmetro de Regularização. Deve ser > 0, e a penalidade é ao quadrado ?\n",
    "\n",
    ">Regularization: Regularization parameter in python's Scikit-learn C parameter used to maintain regularization. Here C is the penalty parameter, which represents misclassification or error term. The misclassification or error term tells the SVM optimization how much error is bearable. This is how you can control the trade-off between decision boundary and misclassification term. A smaller value of C creates a small-margin hyperplane and a larger value of C creates a larger-margin hyperplane.\n",
    "\n",
    "\n",
    "* kernel = Especifíca o tipo de Kernel usada pelo algoritmo, pode ser \"linear\", \"poly\", \"rbf\", \"sigmoid\", \"precomputada\" ou chamada. O Default é o 'rbf\";\n",
    "\n",
    "> The kernel function is what is applied on each data instance to map the original non-linear observations into a higher-dimensional space in which they become separable.\n",
    "\n",
    "![](https://miro.medium.com/max/234/1*LLYqny39Q9OxInToWfrkyA.gif)\n",
    "\n",
    "* degree: Default 3, e utilizado para o caso de kernel polinomial.\n",
    "* gamma: coefiencente do kernel: default = 'scale' 1/(n_features * X.var())\n",
    "* coef0: apenas signficativo em sigmoid e poly;\n",
    "* shrinking: se usar encolhimento heurístico ?\n",
    "* probality: default = false;\n",
    "* tol: default = 1e-3, diz a respeito da tolerância de parar o critério. (Erro ?)\n",
    "* cache: tamanho ca cache do Kernel;\n",
    "* class_weight: dict ou balanceador, default = None. \n",
    "* verbose: bool, default = False. Habilita sáida verbose?\n",
    "* max_iter: default = -1, \n",
    "* decision_funcion_shape: {'ovo',  Default = 'ovr'} - Ovo sempre utilizada para multiclasse. \n",
    "* break_ties: Caso a função de decisão 'ovr' e o número de classes >2, o modelo quebrará empates ?\n",
    "* random_state: controla os números aleatórios gerados. \n",
    "\n",
    "### Funcionamento Breve do SVM\n",
    "\n",
    "1. O SVM constroi um chamado HyperPlano que segrega as classes. \n",
    "\n",
    "![](http://res.cloudinary.com/dyd911kmh/image/upload/f_auto,q_auto:best/v1526288454/index2_ub1uzd.png)\n",
    "\n",
    "2. O melhor Hyperplano é o que melhor segrefa os support vectos. \n",
    "\n",
    "3. Para alguns casos, a posição dos SuportVectos não são lineares e triviais como a figura acima. Para isso, existem os Kernels, que transformam o espaço de forma a divisão ficar mais simples. \n",
    "\n",
    "![](http://res.cloudinary.com/dyd911kmh/image/upload/f_auto,q_auto:best/v1526288453/index_bnr4rx.png)\n",
    "\n",
    "> Here, the kernel takes a low-dimensional input space and transforms it into a higher dimensional space. In other words, you can say that it converts nonseparable problem to separable problems by adding more dimension to it.\n",
    "\n",
    "\n",
    "* RBF - Radial Basis Funcition Kernel: Modelo mais pular, e consegue mapear um espaço de entratada em um espaço dimensional infinito. \n",
    "\n",
    "K(x, xi) = exp(-gamma * sum ((x - xi^2)))\n",
    "\n",
    "Gamma tem um valor de 0 até 1, deafaul é 0.1; \n",
    "\n",
    "\n",
    ">With so many kernels to choose from, how can you decide which one to use? As a rule of thumb, you should always try the linear kernel first (remember that LinearSVC is much faster than SVC(kernel=\"linear\")), especially if the training set is very large or if it has plenty of features. If the training set is not too large, you should also try the Gaussian RBF kernel; it works well in most cases. Then if you have spare time and computing power, you can experiment with a few other kernels, using cross-validation and grid search. You’d want to experiment like that especially if there are kernels specialized for your training set’s data structure.\n",
    "\n"
   ]
  },
  {
   "cell_type": "code",
   "execution_count": 14,
   "metadata": {},
   "outputs": [],
   "source": [
    "clf = svm.SVC(kernel='linear', C = 100) # rbf  Kernel\n",
    "\n",
    "#Train the model using the training sets\n",
    "clf.fit(X_train, y_train)\n",
    "\n",
    "#Predict the response for test dataset\n",
    "y_pred = clf.predict(X_test)\n",
    "\n",
    "# Model Accuracy: how often is the classifier correct?\n",
    "print(\"Accuracy:\",metrics.accuracy_score(y_test, y_pred))\n",
    "cmSVM = confusion_matrix(y_test, y_pred)\n",
    "\n",
    "pSVM = precision_score(y_test,y_pred)\n",
    "rSVM = recall_score(y_test,y_pred)\n",
    "F1SVM = f1_score(y_test, y_pred)\n",
    "print(\"Precisão:\", pSVM)\n",
    "print(\"Recall:\",rSVM)\n",
    "print(\"F1 Score\",F1SVM)"
   ]
  },
  {
   "cell_type": "code",
   "execution_count": 12,
   "metadata": {},
   "outputs": [
    {
     "name": "stdout",
     "output_type": "stream",
     "text": [
      "Accuracy: 0.7598597721297108\n",
      "Precisão: 0.7691815856777494\n",
      "Recall: 0.5438517179023508\n",
      "F1 Score 0.6371822033898306\n"
     ]
    }
   ],
   "source": [
    "#Create a svm Classifier\n",
    "clf = svm.SVC(kernel='linear') # Linear Kernel\n",
    "\n",
    "#Train the model using the training sets\n",
    "clf.fit(X_train, y_train)\n",
    "\n",
    "#Predict the response for test dataset\n",
    "y_pred = clf.predict(X_test)\n",
    "\n",
    "# Model Accuracy: how often is the classifier correct?\n",
    "print(\"Accuracy:\",metrics.accuracy_score(y_test, y_pred))\n",
    "cmSVM = confusion_matrix(y_test, y_pred)\n",
    "\n",
    "pSVM = precision_score(y_test,y_pred)\n",
    "rSVM = recall_score(y_test,y_pred)\n",
    "F1SVM = f1_score(y_test, y_pred)\n",
    "print(\"Precisão:\", pSVM)\n",
    "print(\"Recall:\",rSVM)\n",
    "print(\"F1 Score\",F1SVM)"
   ]
  },
  {
   "cell_type": "code",
   "execution_count": 5,
   "metadata": {},
   "outputs": [
    {
     "ename": "NameError",
     "evalue": "name 'y_pred' is not defined",
     "output_type": "error",
     "traceback": [
      "\u001b[1;31m---------------------------------------------------------------------------\u001b[0m",
      "\u001b[1;31mNameError\u001b[0m                                 Traceback (most recent call last)",
      "\u001b[1;32m<ipython-input-5-46b70929d781>\u001b[0m in \u001b[0;36m<module>\u001b[1;34m\u001b[0m\n\u001b[0;32m      1\u001b[0m \u001b[1;31m##Curva ROC\u001b[0m\u001b[1;33m\u001b[0m\u001b[1;33m\u001b[0m\u001b[1;33m\u001b[0m\u001b[0m\n\u001b[0;32m      2\u001b[0m \u001b[1;33m\u001b[0m\u001b[0m\n\u001b[1;32m----> 3\u001b[1;33m \u001b[0mfprSVM\u001b[0m\u001b[1;33m,\u001b[0m \u001b[0mtprSVM\u001b[0m\u001b[1;33m,\u001b[0m \u001b[0mthreshold\u001b[0m \u001b[1;33m=\u001b[0m \u001b[0mroc_curve\u001b[0m\u001b[1;33m(\u001b[0m\u001b[0my_test\u001b[0m\u001b[1;33m,\u001b[0m\u001b[0my_pred\u001b[0m\u001b[1;33m)\u001b[0m\u001b[1;33m\u001b[0m\u001b[1;33m\u001b[0m\u001b[0m\n\u001b[0m\u001b[0;32m      4\u001b[0m \u001b[1;33m\u001b[0m\u001b[0m\n\u001b[0;32m      5\u001b[0m \u001b[1;32mdef\u001b[0m \u001b[0mplot_roc_curve\u001b[0m\u001b[1;33m(\u001b[0m\u001b[0mfpr\u001b[0m\u001b[1;33m,\u001b[0m \u001b[0mtpr\u001b[0m\u001b[1;33m,\u001b[0m \u001b[0mlabel\u001b[0m \u001b[1;33m=\u001b[0m \u001b[1;32mNone\u001b[0m\u001b[1;33m)\u001b[0m\u001b[1;33m:\u001b[0m\u001b[1;33m\u001b[0m\u001b[1;33m\u001b[0m\u001b[0m\n",
      "\u001b[1;31mNameError\u001b[0m: name 'y_pred' is not defined"
     ]
    }
   ],
   "source": [
    "##Curva ROC\n",
    "\n",
    "fprSVM, tprSVM, threshold = roc_curve(y_test,y_pred)\n",
    "\n",
    "def plot_roc_curve(fpr, tpr, label = None):\n",
    "    plt.plot(fpr, tpr, linewidth = 2, label = label)\n",
    "    plt.plot([0,1], [0,1], 'k--')\n",
    "    plt.axis([0,1,0,1])\n",
    "    plt.xlabel(\"Taxa de Falsos Positivos\")\n",
    "    plt.ylabel(\"Taxa de Verdadeiros Positivos\")\n",
    "\n",
    "plot_roc_curve(fprSVM,tprSVM)\n",
    "aucSVM = roc_auc_score(y_test,y_pred)\n",
    "print(aucSVM)"
   ]
  },
  {
   "cell_type": "markdown",
   "metadata": {},
   "source": [
    "## Results\n",
    "\n",
    "Matriz de Confusão\n",
    "\n",
    "**\\>7** \n",
    "\n",
    "|          |     0       |     1      |\n",
    "|----------|-------------|------------|\n",
    "|     0    |     4062    |     352    |\n",
    "|     1    |     720     |     571    |\n",
    "\n",
    "Accuracy: 0.8120946538124453\n",
    "\n",
    "**\\>=7** \n",
    "\n",
    "|          |     0       |     1      |\n",
    "|----------|-------------|------------|\n",
    "|     0    |     3132    |     361    |\n",
    "|     1    |     1009     |     1203    |\n",
    "\n",
    "Accuracy: 0.7598597721297108\n",
    "\n",
    "Precisão: 0.7691815856777494\n",
    "\n",
    "Revocação: 0.5438517179023508\n",
    "\n",
    "F1: 0.6371822033898306\n",
    "\n",
    "aucScore = 0.7202510808234914\n",
    "\n",
    "Ou seja, detectou apenas 50% dos 1's e acertou apenas 76% na detecção de 1's.\n",
    "\n",
    "\n",
    "\n",
    "------------\n",
    "\n",
    "Kernel = RBF\n",
    "C =1\n",
    "gamma = 0.1\n",
    "\n",
    "\n",
    "\n",
    "|          |     0       |     1      |\n",
    "|----------|-------------|------------|\n",
    "|     0    |     3492    |     1    |\n",
    "|     1    |     2197     |     15    |\n",
    "\n",
    "Accuracy: 0.6147239263803681\n",
    "\n",
    "Precisão: 0.9375\n",
    "\n",
    "Recall: 0.006781193490054249\n",
    "\n",
    "F1: 0.01346499102333931"
   ]
  },
  {
   "cell_type": "markdown",
   "metadata": {},
   "source": [
    "# Logistics Regression"
   ]
  },
  {
   "cell_type": "code",
   "execution_count": 3,
   "metadata": {},
   "outputs": [],
   "source": [
    "from sklearn.linear_model import LogisticRegression"
   ]
  },
  {
   "cell_type": "code",
   "execution_count": 9,
   "metadata": {},
   "outputs": [
    {
     "name": "stdout",
     "output_type": "stream",
     "text": [
      "Accuracy: 0.8068361086765995\n",
      "Precisão: 0.7675988428158148\n",
      "Recall: 0.7197106690777577\n",
      "F1Score: 0.7428838077461501\n",
      "AUC Score: 0.7908602014154893\n"
     ]
    },
    {
     "data": {
      "image/png": "[encoded data removed]",
      "text/plain": [
       "<Figure size 432x288 with 1 Axes>"
      ]
     },
     "metadata": {
      "needs_background": "light"
     },
     "output_type": "display_data"
    }
   ],
   "source": [
    "logisticRegr = LogisticRegression()\n",
    "\n",
    "logisticRegr.fit(X_train, y_train)\n",
    "\n",
    "y_pred = logisticRegr.predict(X_test)\n",
    "\n",
    "print(\"Accuracy:\",metrics.accuracy_score(y_test, y_pred))\n",
    "cmLR = confusion_matrix(y_test, y_pred)\n",
    "\n",
    "##Indicadores\n",
    "\n",
    "pLR = precision_score(y_test,y_pred)\n",
    "rLR = recall_score(y_test,y_pred)\n",
    "F1LR = f1_score(y_test, y_pred)\n",
    "print(\"Precisão:\", pLR)\n",
    "print(\"Recall:\", rLR)\n",
    "print(\"F1Score:\", F1LR)\n",
    "fprLR, tprLR, threshold_LR = roc_curve(y_test,y_pred)\n",
    "plot_roc_curve(fprLR,tprLR)\n",
    "aucLR = roc_auc_score(y_test,y_pred)\n",
    "print(\"AUC Score:\",aucLR)\n"
   ]
  },
  {
   "cell_type": "markdown",
   "metadata": {},
   "source": [
    "## Results\n",
    "**\\>7** \n",
    "\n",
    "|          |     0       |     1      |\n",
    "|----------|-------------|------------|\n",
    "|     0    |     4199    |     215    |\n",
    "|     1    |     869     |     422    |\n",
    "\n",
    "Accuracy: 0.8099912357581069\n",
    "\n",
    "**\\>=7** \n",
    "\n",
    "|          |     0       |     1      |\n",
    "|----------|-------------|------------|\n",
    "|     0    |     3011    |     482    |\n",
    "|     1    |     620     |     1592   |\n",
    "\n",
    "Accuracy: 0.8068361086765995\n",
    "\n",
    "Precisão: 0.7675988428158148\n",
    "\n",
    "Recall: 0.7197106690777577\n",
    "\n",
    "F1Score: 0.7428838077461501\n",
    "\n",
    "AUC Score: 0.7908602014154893\n",
    "\n",
    "Para Regressão Logística ele acertou 72% dos 1's e teve uma precisão de 76%, ou seja 24% de Falsos Negativos (Onde era para ser 1, ele dectou como 0). A curva ROC se mostrou próxima da Linha, mas mais distante que o SVM. "
   ]
  },
  {
   "cell_type": "markdown",
   "metadata": {},
   "source": [
    "## KNN"
   ]
  },
  {
   "cell_type": "code",
   "execution_count": 10,
   "metadata": {},
   "outputs": [
    {
     "name": "stdout",
     "output_type": "stream",
     "text": [
      "Accuracy: 0.7985977212971078\n",
      "Precisão: 0.7324005247048535\n",
      "Recall: 0.7572332730560579\n",
      "F1Score: 0.7446099133140698\n",
      "AUC Score: 0.7910128575414844\n"
     ]
    },
    {
     "data": {
      "image/png": "[encoded data removed]",
      "text/plain": [
       "<Figure size 432x288 with 1 Axes>"
      ]
     },
     "metadata": {
      "needs_background": "light"
     },
     "output_type": "display_data"
    }
   ],
   "source": [
    "from sklearn.neighbors import KNeighborsClassifier\n",
    "\n",
    "Knn_Class = KNeighborsClassifier()\n",
    "\n",
    "Knn_Class.fit(X_train, y_train)\n",
    "y_pred = Knn_Class.predict(X_test)\n",
    "\n",
    "print(\"Accuracy:\",metrics.accuracy_score(y_test, y_pred))\n",
    "cmKNN = confusion_matrix(y_test, y_pred)\n",
    "\n",
    "pKNN = precision_score(y_test,y_pred)\n",
    "rKNN = recall_score(y_test,y_pred)\n",
    "F1KNN = f1_score(y_test, y_pred)\n",
    "print(\"Precisão:\", pKNN)\n",
    "print(\"Recall:\", rKNN)\n",
    "print(\"F1Score:\", F1KNN)\n",
    "fprKNN, tprKNN, threshold_KNN = roc_curve(y_test,y_pred)\n",
    "plot_roc_curve(fprKNN,tprKNN)\n",
    "\n",
    "aucKNN = roc_auc_score(y_test,y_pred)\n",
    "\n",
    "print(\"AUC Score:\",aucKNN)"
   ]
  },
  {
   "cell_type": "markdown",
   "metadata": {},
   "source": [
    "## Results\n",
    "\n",
    "**\\>7** \n",
    "\n",
    "|          |     0       |     1      |\n",
    "|----------|-------------|------------|\n",
    "|     0    |     4020    |     394    |\n",
    "|     1    |     573     |     718    |\n",
    "\n",
    "Accuracy: 0.8304995617879053\n",
    "\n",
    "**\\>=7** \n",
    "\n",
    "|          |     0       |     1      |\n",
    "|----------|-------------|------------|\n",
    "|     0    |     2881    |     612    |\n",
    "|     1    |     537     |     1675    |\n",
    "\n",
    "Accuracy: 0.7985977212971078\n",
    "\n",
    "Precisão: 0.7324005247048535\n",
    "\n",
    "Recall: 0.7572332730560579\n",
    "\n",
    "F1Score: 0.7446099133140698\n",
    "\n",
    "AUC Score: 0.7910128575414844\n",
    "\n",
    "Novamente existem valores muito próximos entre precisão e Recall, tudo em torno de 75%. Ou seja, ao mesmo tempo que a técnica acerta 75% dos positivos totais, ele também tem uma acurácia das previsões positivas de 75%. Equilíbrio entre as partes. "
   ]
  },
  {
   "cell_type": "markdown",
   "metadata": {},
   "source": [
    "# Método Ensemble e Bagging\n",
    "\n",
    "Um grupo de preditores é chamado de \"Ensemble\". Em Bagging o conjunto de treinamento é dividio em grupos, e utilizados classificadores separados para o treinamento. \n",
    "\n",
    "![](https://res.cloudinary.com/dyd911kmh/image/upload/f_auto,q_auto:best/v1542651255/image_2_pu8tu6.png)\n",
    "\n",
    "A Random Forest é um metodo de Bagging da Árvore de Decisão\n",
    "\n",
    "\n",
    "## Função RandomForestClassifier\n",
    "\n",
    "```\n",
    "class sklearn.ensemble.RandomForestClassifier(n_estimators=100, *, criterion='gini', max_depth=None, min_samples_split=2, min_samples_leaf=1, min_weight_fraction_leaf=0.0, max_features='auto', max_leaf_nodes=None, min_impurity_decrease=0.0, min_impurity_split=None, bootstrap=True, oob_score=False, n_jobs=None, random_state=None, verbose=0, warm_start=False, class_weight=None, ccp_alpha=0.0, max_samples=None)\n",
    "```\n",
    "\n",
    "* n_estimators: Default igual a 100 e representa o número máximo de estimadores;\n",
    "* criteerion: Função que mede a qualidade do Split;\n",
    "* max_leaf_nodes: redução realtiva de impureza, é a quandiade máxima de \"folhas\" ESTUDAR ÁRVORE DE DECISÃO\n",
    "\n",
    "\n",
    "> Reducing max_depth will regularize the model and thus reduce the risk of overfitting.\n",
    "\n",
    "A regulagem das árvores podem ser realizadas por meio dos parâmetros:\n",
    "\n",
    "* min_samples_split: O número mínimo de amostras que um nó pode ter antes de dividir;\n",
    "* min_samples_leaf: O número mínimo de amostras que uma folha pode ter; \n",
    "* min_wight_fraction_leaf: mesmo que samples_leaf, mas aqui é trabalhado em proporção;\n",
    "* max_features: Número máximo de features que pode ser avaliada em cada nó; \n",
    "\n",
    ">Increasing min_* hyperparameters or reducing max_* hyperparameters will regularize the model."
   ]
  },
  {
   "cell_type": "markdown",
   "metadata": {},
   "source": [
    "# Random Forest\n"
   ]
  },
  {
   "cell_type": "code",
   "execution_count": 22,
   "metadata": {},
   "outputs": [],
   "source": [
    "from sklearn.ensemble import RandomForestClassifier\n",
    "\n",
    "from bayes_opt import BayesianOptimization\n",
    "\n",
    "from sklearn.model_selection import cross_val_score"
   ]
  },
  {
   "cell_type": "markdown",
   "metadata": {},
   "source": []
  },
  {
   "cell_type": "code",
   "execution_count": 6,
   "metadata": {},
   "outputs": [],
   "source": [
    "from skopt import BayesSearchCV\n",
    "from skopt.space import Real, Categorical, Integer\n",
    "\n",
    "search_space = {\"bootstrap\": Categorical([True, False]), # values for boostrap can be either True or False\n",
    "        \"max_depth\": Integer(6, 12, 24, 48), # values of max_depth are integers from 6 to 20\n",
    "        \"min_samples_leaf\": Integer(2, 4, 8, 16),\n",
    "        \"min_samples_split\": Integer(2, 4, 8, 16),\n",
    "        \"n_estimators\": Integer(200, 400, 600, 800)\n",
    "    }\n",
    "\n",
    "\n"
   ]
  },
  {
   "cell_type": "code",
   "execution_count": 23,
   "metadata": {},
   "outputs": [],
   "source": [
    "def rfc_optimization(cv_splits):\n",
    "    def function(n_estimators, max_depth, min_samples_split):\n",
    "        return cross_val_score(\n",
    "               RandomForestClassifier(\n",
    "                   n_estimators=int(max(n_estimators,0)),                                                               \n",
    "                   max_depth=int(max(max_depth,1)),\n",
    "                   min_samples_split=int(max(min_samples_split,2)), \n",
    "                   n_jobs=-1, \n",
    "                   random_state=42,   \n",
    "                   class_weight=\"balanced\"),  \n",
    "               X=X_train, \n",
    "               y=y_train, \n",
    "               cv=cv_splits,\n",
    "               scoring=\"roc_auc\",\n",
    "               n_jobs=-1).mean()\n",
    "\n",
    "    parameters = {\"n_estimators\": (10, 1000),\n",
    "                  \"max_depth\": (1, 150),\n",
    "                  \"min_samples_split\": (2, 10)}\n",
    "    \n",
    "    return function, parameters\n"
   ]
  },
  {
   "cell_type": "code",
   "execution_count": null,
   "metadata": {},
   "outputs": [],
   "source": [
    "bayesian_optimization()"
   ]
  },
  {
   "cell_type": "code",
   "execution_count": 21,
   "metadata": {},
   "outputs": [
    {
     "name": "stdout",
     "output_type": "stream",
     "text": [
      "|   iter    |  target   | max_depth | min_sa... | min_sa... | n_esti... |\n",
      "-------------------------------------------------------------------------\n"
     ]
    },
    {
     "ename": "TypeError",
     "evalue": "'RandomForestClassifier' object is not callable",
     "output_type": "error",
     "traceback": [
      "\u001b[1;31m---------------------------------------------------------------------------\u001b[0m",
      "\u001b[1;31mKeyError\u001b[0m                                  Traceback (most recent call last)",
      "\u001b[1;32m~\\anaconda3\\lib\\site-packages\\bayes_opt\\target_space.py\u001b[0m in \u001b[0;36mprobe\u001b[1;34m(self, params)\u001b[0m\n\u001b[0;32m    190\u001b[0m         \u001b[1;32mtry\u001b[0m\u001b[1;33m:\u001b[0m\u001b[1;33m\u001b[0m\u001b[1;33m\u001b[0m\u001b[0m\n\u001b[1;32m--> 191\u001b[1;33m             \u001b[0mtarget\u001b[0m \u001b[1;33m=\u001b[0m \u001b[0mself\u001b[0m\u001b[1;33m.\u001b[0m\u001b[0m_cache\u001b[0m\u001b[1;33m[\u001b[0m\u001b[0m_hashable\u001b[0m\u001b[1;33m(\u001b[0m\u001b[0mx\u001b[0m\u001b[1;33m)\u001b[0m\u001b[1;33m]\u001b[0m\u001b[1;33m\u001b[0m\u001b[1;33m\u001b[0m\u001b[0m\n\u001b[0m\u001b[0;32m    192\u001b[0m         \u001b[1;32mexcept\u001b[0m \u001b[0mKeyError\u001b[0m\u001b[1;33m:\u001b[0m\u001b[1;33m\u001b[0m\u001b[1;33m\u001b[0m\u001b[0m\n",
      "\u001b[1;31mKeyError\u001b[0m: (6.424459092787619, 7.795698695051492, 7.186675116734527, 660.0786223102306)",
      "\nDuring handling of the above exception, another exception occurred:\n",
      "\u001b[1;31mTypeError\u001b[0m                                 Traceback (most recent call last)",
      "\u001b[1;32m<ipython-input-21-a5f49c6d1e92>\u001b[0m in \u001b[0;36m<module>\u001b[1;34m\u001b[0m\n\u001b[0;32m      7\u001b[0m     })\n\u001b[0;32m      8\u001b[0m \u001b[1;33m\u001b[0m\u001b[0m\n\u001b[1;32m----> 9\u001b[1;33m \u001b[0mforestOptB\u001b[0m\u001b[1;33m.\u001b[0m\u001b[0mmaximize\u001b[0m\u001b[1;33m(\u001b[0m\u001b[0mn_iter\u001b[0m\u001b[1;33m=\u001b[0m\u001b[1;36m15\u001b[0m\u001b[1;33m,\u001b[0m \u001b[0minit_points\u001b[0m\u001b[1;33m=\u001b[0m\u001b[1;36m2\u001b[0m\u001b[1;33m)\u001b[0m\u001b[1;33m\u001b[0m\u001b[1;33m\u001b[0m\u001b[0m\n\u001b[0m",
      "\u001b[1;32m~\\anaconda3\\lib\\site-packages\\bayes_opt\\bayesian_optimization.py\u001b[0m in \u001b[0;36mmaximize\u001b[1;34m(self, init_points, n_iter, acq, kappa, kappa_decay, kappa_decay_delay, xi, **gp_params)\u001b[0m\n\u001b[0;32m    183\u001b[0m                 \u001b[0miteration\u001b[0m \u001b[1;33m+=\u001b[0m \u001b[1;36m1\u001b[0m\u001b[1;33m\u001b[0m\u001b[1;33m\u001b[0m\u001b[0m\n\u001b[0;32m    184\u001b[0m \u001b[1;33m\u001b[0m\u001b[0m\n\u001b[1;32m--> 185\u001b[1;33m             \u001b[0mself\u001b[0m\u001b[1;33m.\u001b[0m\u001b[0mprobe\u001b[0m\u001b[1;33m(\u001b[0m\u001b[0mx_probe\u001b[0m\u001b[1;33m,\u001b[0m \u001b[0mlazy\u001b[0m\u001b[1;33m=\u001b[0m\u001b[1;32mFalse\u001b[0m\u001b[1;33m)\u001b[0m\u001b[1;33m\u001b[0m\u001b[1;33m\u001b[0m\u001b[0m\n\u001b[0m\u001b[0;32m    186\u001b[0m \u001b[1;33m\u001b[0m\u001b[0m\n\u001b[0;32m    187\u001b[0m             \u001b[1;32mif\u001b[0m \u001b[0mself\u001b[0m\u001b[1;33m.\u001b[0m\u001b[0m_bounds_transformer\u001b[0m\u001b[1;33m:\u001b[0m\u001b[1;33m\u001b[0m\u001b[1;33m\u001b[0m\u001b[0m\n",
      "\u001b[1;32m~\\anaconda3\\lib\\site-packages\\bayes_opt\\bayesian_optimization.py\u001b[0m in \u001b[0;36mprobe\u001b[1;34m(self, params, lazy)\u001b[0m\n\u001b[0;32m    114\u001b[0m             \u001b[0mself\u001b[0m\u001b[1;33m.\u001b[0m\u001b[0m_queue\u001b[0m\u001b[1;33m.\u001b[0m\u001b[0madd\u001b[0m\u001b[1;33m(\u001b[0m\u001b[0mparams\u001b[0m\u001b[1;33m)\u001b[0m\u001b[1;33m\u001b[0m\u001b[1;33m\u001b[0m\u001b[0m\n\u001b[0;32m    115\u001b[0m         \u001b[1;32melse\u001b[0m\u001b[1;33m:\u001b[0m\u001b[1;33m\u001b[0m\u001b[1;33m\u001b[0m\u001b[0m\n\u001b[1;32m--> 116\u001b[1;33m             \u001b[0mself\u001b[0m\u001b[1;33m.\u001b[0m\u001b[0m_space\u001b[0m\u001b[1;33m.\u001b[0m\u001b[0mprobe\u001b[0m\u001b[1;33m(\u001b[0m\u001b[0mparams\u001b[0m\u001b[1;33m)\u001b[0m\u001b[1;33m\u001b[0m\u001b[1;33m\u001b[0m\u001b[0m\n\u001b[0m\u001b[0;32m    117\u001b[0m             \u001b[0mself\u001b[0m\u001b[1;33m.\u001b[0m\u001b[0mdispatch\u001b[0m\u001b[1;33m(\u001b[0m\u001b[0mEvents\u001b[0m\u001b[1;33m.\u001b[0m\u001b[0mOPTIMIZATION_STEP\u001b[0m\u001b[1;33m)\u001b[0m\u001b[1;33m\u001b[0m\u001b[1;33m\u001b[0m\u001b[0m\n\u001b[0;32m    118\u001b[0m \u001b[1;33m\u001b[0m\u001b[0m\n",
      "\u001b[1;32m~\\anaconda3\\lib\\site-packages\\bayes_opt\\target_space.py\u001b[0m in \u001b[0;36mprobe\u001b[1;34m(self, params)\u001b[0m\n\u001b[0;32m    192\u001b[0m         \u001b[1;32mexcept\u001b[0m \u001b[0mKeyError\u001b[0m\u001b[1;33m:\u001b[0m\u001b[1;33m\u001b[0m\u001b[1;33m\u001b[0m\u001b[0m\n\u001b[0;32m    193\u001b[0m             \u001b[0mparams\u001b[0m \u001b[1;33m=\u001b[0m \u001b[0mdict\u001b[0m\u001b[1;33m(\u001b[0m\u001b[0mzip\u001b[0m\u001b[1;33m(\u001b[0m\u001b[0mself\u001b[0m\u001b[1;33m.\u001b[0m\u001b[0m_keys\u001b[0m\u001b[1;33m,\u001b[0m \u001b[0mx\u001b[0m\u001b[1;33m)\u001b[0m\u001b[1;33m)\u001b[0m\u001b[1;33m\u001b[0m\u001b[1;33m\u001b[0m\u001b[0m\n\u001b[1;32m--> 194\u001b[1;33m             \u001b[0mtarget\u001b[0m \u001b[1;33m=\u001b[0m \u001b[0mself\u001b[0m\u001b[1;33m.\u001b[0m\u001b[0mtarget_func\u001b[0m\u001b[1;33m(\u001b[0m\u001b[1;33m**\u001b[0m\u001b[0mparams\u001b[0m\u001b[1;33m)\u001b[0m\u001b[1;33m\u001b[0m\u001b[1;33m\u001b[0m\u001b[0m\n\u001b[0m\u001b[0;32m    195\u001b[0m             \u001b[0mself\u001b[0m\u001b[1;33m.\u001b[0m\u001b[0mregister\u001b[0m\u001b[1;33m(\u001b[0m\u001b[0mx\u001b[0m\u001b[1;33m,\u001b[0m \u001b[0mtarget\u001b[0m\u001b[1;33m)\u001b[0m\u001b[1;33m\u001b[0m\u001b[1;33m\u001b[0m\u001b[0m\n\u001b[0;32m    196\u001b[0m         \u001b[1;32mreturn\u001b[0m \u001b[0mtarget\u001b[0m\u001b[1;33m\u001b[0m\u001b[1;33m\u001b[0m\u001b[0m\n",
      "\u001b[1;31mTypeError\u001b[0m: 'RandomForestClassifier' object is not callable"
     ]
    }
   ],
   "source": [
    "\n",
    "\n",
    "forest_clf = RandomForestClassifier()\n",
    "\n",
    "forestOptB = BayesianOptimization(forest_clf, {\"max_depth\": (6, 12), # values of max_depth are integers from 6 to 20\n",
    "        \"min_samples_leaf\": (2, 8),\n",
    "        \"min_samples_split\": (2, 8),\n",
    "        \"n_estimators\": (600, 800)\n",
    "    })\n",
    "\n",
    "forestOptB.maximize(n_iter=15, init_points=2)"
   ]
  },
  {
   "cell_type": "code",
   "execution_count": 14,
   "metadata": {},
   "outputs": [
    {
     "data": {
      "text/plain": [
       "BayesSearchCV(estimator=RandomForestClassifier(), n_iter=10, n_jobs=-1,\n",
       "              scoring='roc_auc',\n",
       "              search_spaces={'bootstrap': Categorical(categories=(True, False), prior=None),\n",
       "                             'max_depth': Integer(low=6, high=12, prior='24', transform='identity'),\n",
       "                             'min_samples_leaf': Integer(low=2, high=4, prior='8', transform='identity'),\n",
       "                             'min_samples_split': Integer(low=2, high=4, prior='8', transform='identity'),\n",
       "                             'n_estimators': Integer(low=200, high=400, prior='600', transform='identity')})"
      ]
     },
     "execution_count": 14,
     "metadata": {},
     "output_type": "execute_result"
    }
   ],
   "source": [
    "forest_clf = RandomForestClassifier()\n",
    "\n",
    "forest_bayes_search = BayesSearchCV(forest_clf, search_space, n_iter=10, # specify how many iterations\n",
    "                                    scoring=\"roc_auc\", n_jobs=-1)\n",
    "\n",
    "forest_bayes_search.fit(X_train, y_train) "
   ]
  },
  {
   "cell_type": "code",
   "execution_count": 9,
   "metadata": {},
   "outputs": [
    {
     "data": {
      "text/plain": [
       "RandomForestClassifier(bootstrap=False, max_depth=8, min_samples_leaf=5,\n",
       "                       min_samples_split=5, n_estimators=382)"
      ]
     },
     "execution_count": 9,
     "metadata": {},
     "output_type": "execute_result"
    }
   ],
   "source": [
    "forest_bayes_search.best_score_\n",
    "\n",
    "forest_bayes_search.best_estimator_\n",
    "\n"
   ]
  },
  {
   "cell_type": "code",
   "execution_count": 15,
   "metadata": {},
   "outputs": [
    {
     "name": "stdout",
     "output_type": "stream",
     "text": [
      "Accuracy: 0.8581945661700263\n",
      "Precisão: 0.8307402168788307\n",
      "Recall: 0.7965641952983725\n",
      "F1Score: 0.8132933302561737\n",
      "AUC Score: 0.8468936063809355\n"
     ]
    },
    {
     "data": {
      "image/png": "[encoded data removed]",
      "text/plain": [
       "<Figure size 432x288 with 1 Axes>"
      ]
     },
     "metadata": {
      "needs_background": "light"
     },
     "output_type": "display_data"
    }
   ],
   "source": [
    "Rand_Forest_Class = forest_bayes_search.best_estimator_\n",
    "\n",
    "y_pred = Rand_Forest_Class.predict(X_test)\n",
    "\n",
    "print(\"Accuracy:\",metrics.accuracy_score(y_test, y_pred))\n",
    "cmRF = confusion_matrix(y_test, y_pred)\n",
    "\n",
    "\n",
    "pRF = precision_score(y_test,y_pred)\n",
    "rRF = recall_score(y_test,y_pred)\n",
    "F1RF = f1_score(y_test, y_pred)\n",
    "print(\"Precisão:\", pRF)\n",
    "print(\"Recall:\", rRF)\n",
    "print(\"F1Score:\", F1RF)\n",
    "fprRF, tprRF, threshold_RF = roc_curve(y_test,y_pred)\n",
    "plot_roc_curve(fprRF,tprRF)\n",
    "aucRF = roc_auc_score(y_test,y_pred)\n",
    "print(\"AUC Score:\",aucRF)"
   ]
  },
  {
   "cell_type": "code",
   "execution_count": 11,
   "metadata": {},
   "outputs": [],
   "source": [
    "## Código - Parâmetros Ajustados\n",
    "estimadores = [100, 200, 300, 400, 500, 600, 700, 800, 900, 1000]\n",
    "resultados_estimadores = pd.DataFrame(columns=[\"n_estimadores\", \"Acc\", \"Precis\", \"Recall\", \"F1\", \"AUC\"])\n",
    "\n",
    "\n",
    "for index, i in enumerate(estimadores):\n",
    "    Rand_Forest_Class = RandomForestClassifier(n_estimators=i, n_jobs=-1)\n",
    "    Rand_Forest_Class.fit(X_train, y_train)\n",
    "    y_pred = Rand_Forest_Class.predict(X_test)\n",
    "    AccRF = metrics.accuracy_score(y_test, y_pred)\n",
    "    cmRF = confusion_matrix(y_test, y_pred)\n",
    "    pRF = precision_score(y_test,y_pred)\n",
    "    rRF = recall_score(y_test,y_pred)\n",
    "    F1RF = f1_score(y_test, y_pred)\n",
    "    fprRF, tprRF, threshold_RF = roc_curve(y_test,y_pred)\n",
    "    aucRF = roc_auc_score(y_test,y_pred)\n",
    "    resultados_estimadores.loc[index] = [i, AccRF, pRF, rRF, F1RF, aucRF]\n",
    "    \n",
    "\n"
   ]
  },
  {
   "cell_type": "code",
   "execution_count": 12,
   "metadata": {},
   "outputs": [
    {
     "name": "stdout",
     "output_type": "stream",
     "text": [
      "   n_estimadores       Acc    Precis    Recall        F1       AUC\n",
      "0          100.0  0.853111  0.828708  0.783002  0.805207  0.840256\n",
      "1          200.0  0.857143  0.832778  0.790235  0.810949  0.844874\n",
      "2          300.0  0.855741  0.828991  0.791139  0.809623  0.843895\n",
      "3          400.0  0.857143  0.832461  0.790687  0.811036  0.844957\n",
      "4          500.0  0.856792  0.830725  0.792043  0.810923  0.844919\n",
      "5          600.0  0.857844  0.833413  0.791591  0.811964  0.845695\n",
      "6          700.0  0.858370  0.833333  0.793400  0.812876  0.846456\n",
      "7          800.0  0.857318  0.831909  0.792043  0.811487  0.845349\n",
      "8          900.0  0.858370  0.833017  0.793852  0.812963  0.846539\n",
      "9         1000.0  0.857844  0.831833  0.793852  0.812399  0.846110\n"
     ]
    }
   ],
   "source": [
    "print(resultados_estimadores)"
   ]
  },
  {
   "cell_type": "code",
   "execution_count": 8,
   "metadata": {},
   "outputs": [
    {
     "name": "stdout",
     "output_type": "stream",
     "text": [
      "n_estimadores = 100 \n",
      "\n",
      "   max_depth       Acc    Precis    Recall        F1       AUC\n",
      "0        1.0  0.849080  0.860267  0.729204  0.789332  0.827099\n",
      "1        5.0  0.859246  0.837243  0.790687  0.813299  0.846675\n",
      "2       10.0  0.854864  0.825800  0.792948  0.809041  0.843511\n",
      "3       15.0  0.857669  0.829257  0.797016  0.812817  0.846547\n",
      "4       20.0  0.854689  0.827260  0.790235  0.808324  0.842870\n",
      "5       25.0  0.856617  0.832856  0.788427  0.810033  0.844113\n",
      "6       30.0  0.857493  0.832304  0.792043  0.811675  0.845492\n",
      "7       35.0  0.855565  0.831107  0.787523  0.808728  0.843089\n",
      "8       40.0  0.857844  0.833096  0.792043  0.812051  0.845778\n",
      "9       45.0  0.856617  0.836715  0.783002  0.808968  0.843118\n"
     ]
    }
   ],
   "source": [
    "## Código - Parâmetros Ajustados - Max Depth\n",
    "max_depth_list = [1, 5, 10, 15, 20, 25, 30, 35, 40, 45]\n",
    "resultados_max_depth = pd.DataFrame(columns=[\"max_depth\", \"Acc\", \"Precis\", \"Recall\", \"F1\", \"AUC\"])\n",
    "\n",
    "\n",
    "for index, i in enumerate(max_depth_list):\n",
    "    Rand_Forest_Class = RandomForestClassifier(n_estimators=100, n_jobs=-1, max_depth= i)\n",
    "    Rand_Forest_Class.fit(X_train, y_train)\n",
    "    y_pred = Rand_Forest_Class.predict(X_test)\n",
    "    AccRF = metrics.accuracy_score(y_test, y_pred)\n",
    "    cmRF = confusion_matrix(y_test, y_pred)\n",
    "    pRF = precision_score(y_test,y_pred)\n",
    "    rRF = recall_score(y_test,y_pred)\n",
    "    F1RF = f1_score(y_test, y_pred)\n",
    "    fprRF, tprRF, threshold_RF = roc_curve(y_test,y_pred)\n",
    "    aucRF = roc_auc_score(y_test,y_pred)\n",
    "    resultados_max_depth.loc[index] = [i, AccRF, pRF, rRF, F1RF, aucRF]\n",
    "\n",
    "print(\"n_estimadores = 100 \\n\")\n",
    "\n",
    "print(resultados_max_depth)\n",
    "\n"
   ]
  },
  {
   "cell_type": "code",
   "execution_count": 10,
   "metadata": {},
   "outputs": [
    {
     "name": "stdout",
     "output_type": "stream",
     "text": [
      "n_estimadores = 100 \n",
      "\n",
      "    leaf_nodes       Acc    Precis    Recall        F1       AUC\n",
      "0          2.0  0.850482  0.860477  0.733273  0.791799  0.828990\n",
      "1          4.0  0.850307  0.856993  0.736890  0.792416  0.829510\n",
      "2          8.0  0.854514  0.840730  0.770796  0.804245  0.839163\n",
      "3         10.0  0.855565  0.840864  0.773960  0.806026  0.840602\n",
      "4         12.0  0.857318  0.840312  0.780289  0.809189  0.843194\n",
      "5         14.0  0.855565  0.835590  0.781193  0.807477  0.841928\n",
      "6         16.0  0.856792  0.840078  0.778933  0.808351  0.842516\n",
      "7         18.0  0.855916  0.839355  0.777125  0.807042  0.841468\n",
      "8         20.0  0.855565  0.838537  0.777125  0.806664  0.841182\n",
      "9         22.0  0.858545  0.841517  0.782550  0.810963  0.844610\n",
      "10        30.0  0.858195  0.839381  0.784358  0.810937  0.844655\n",
      "11        40.0  0.859246  0.842489  0.783454  0.811900  0.845348\n",
      "12        50.0  0.856442  0.832458  0.788427  0.809844  0.843970\n"
     ]
    }
   ],
   "source": [
    "## Código - Parâmetros Ajustados - Max Depth\n",
    "max_leafnodes_list = [2, 4, 8, 10, 12, 14, 16, 18, 20, 22, 30, 40, 50]\n",
    "resultados_max_nodes = pd.DataFrame(columns=[\"leaf_nodes\", \"Acc\", \"Precis\", \"Recall\", \"F1\", \"AUC\"])\n",
    "\n",
    "\n",
    "for index, i in enumerate(max_leafnodes_list):\n",
    "    Rand_Forest_Class = RandomForestClassifier(n_estimators=100, n_jobs=-1, max_leaf_nodes= i)\n",
    "    Rand_Forest_Class.fit(X_train, y_train)\n",
    "    y_pred = Rand_Forest_Class.predict(X_test)\n",
    "    AccRF = metrics.accuracy_score(y_test, y_pred)\n",
    "    cmRF = confusion_matrix(y_test, y_pred)\n",
    "    pRF = precision_score(y_test,y_pred)\n",
    "    rRF = recall_score(y_test,y_pred)\n",
    "    F1RF = f1_score(y_test, y_pred)\n",
    "    fprRF, tprRF, threshold_RF = roc_curve(y_test,y_pred)\n",
    "    aucRF = roc_auc_score(y_test,y_pred)\n",
    "    resultados_max_nodes.loc[index] = [i, AccRF, pRF, rRF, F1RF, aucRF]\n",
    "\n",
    "print(\"n_estimadores = 100 \\n\")\n",
    "\n",
    "print(resultados_max_nodes)\n"
   ]
  },
  {
   "cell_type": "code",
   "execution_count": 12,
   "metadata": {},
   "outputs": [
    {
     "name": "stdout",
     "output_type": "stream",
     "text": [
      "n_estimadores = 100 \n",
      "\n",
      "    min_samples       Acc    Precis    Recall        F1       AUC\n",
      "0           2.0  0.856792  0.830412  0.792495  0.811011  0.845002\n",
      "1           4.0  0.857669  0.831126  0.794304  0.812298  0.846050\n",
      "2           8.0  0.856091  0.830404  0.790235  0.809822  0.844015\n",
      "3          10.0  0.859071  0.833018  0.796112  0.814147  0.847526\n",
      "4          12.0  0.858896  0.832310  0.796564  0.814045  0.847466\n",
      "5          14.0  0.856617  0.830019  0.792495  0.810823  0.844859\n",
      "6          16.0  0.859597  0.836433  0.792948  0.814110  0.847376\n",
      "7          18.0  0.857143  0.830886  0.792948  0.811474  0.845372\n",
      "8          20.0  0.856968  0.830492  0.792948  0.811286  0.845228\n",
      "9          22.0  0.857669  0.833651  0.790687  0.811601  0.845387\n",
      "10         30.0  0.857143  0.833731  0.788879  0.810685  0.844626\n",
      "11         40.0  0.856968  0.831120  0.792043  0.811111  0.845063\n",
      "12         50.0  0.856968  0.834291  0.787523  0.810233  0.844234\n"
     ]
    }
   ],
   "source": [
    "## Código - Parâmetros Ajustados - Min Samples\n",
    "min_samples_list = [2, 4, 8, 10, 12, 14, 16, 18, 20, 22, 30, 40, 50]\n",
    "resultados_min_samples = pd.DataFrame(columns=[\"min_samples\", \"Acc\", \"Precis\", \"Recall\", \"F1\", \"AUC\"])\n",
    "\n",
    "\n",
    "for index, i in enumerate(min_samples_list):\n",
    "    Rand_Forest_Class = RandomForestClassifier(n_estimators=100, n_jobs=-1, min_samples_leaf= i)\n",
    "    Rand_Forest_Class.fit(X_train, y_train)\n",
    "    y_pred = Rand_Forest_Class.predict(X_test)\n",
    "    AccRF = metrics.accuracy_score(y_test, y_pred)\n",
    "    cmRF = confusion_matrix(y_test, y_pred)\n",
    "    pRF = precision_score(y_test,y_pred)\n",
    "    rRF = recall_score(y_test,y_pred)\n",
    "    F1RF = f1_score(y_test, y_pred)\n",
    "    fprRF, tprRF, threshold_RF = roc_curve(y_test,y_pred)\n",
    "    aucRF = roc_auc_score(y_test,y_pred)\n",
    "    resultados_min_samples.loc[index] = [i, AccRF, pRF, rRF, F1RF, aucRF]\n",
    "\n",
    "print(\"n_estimadores = 100 \\n\")\n",
    "\n",
    "print(resultados_min_samples)\n"
   ]
  },
  {
   "cell_type": "code",
   "execution_count": 53,
   "metadata": {},
   "outputs": [
    {
     "name": "stdout",
     "output_type": "stream",
     "text": [
      "Accuracy: 0.8581945661700263\n",
      "Precisão: 0.832937826293308\n",
      "Recall: 0.7933996383363472\n",
      "F1Score: 0.812688122250521\n",
      "AUC Score: 0.8463133319079389\n"
     ]
    },
    {
     "data": {
      "image/png": "[encoded data removed]",
      "text/plain": [
       "<Figure size 600x400 with 1 Axes>"
      ]
     },
     "metadata": {
      "needs_background": "light"
     },
     "output_type": "display_data"
    }
   ],
   "source": [
    "## Código Inicial - Parâmetros Default\n",
    "\n",
    "Rand_Forest_Class = RandomForestClassifier()\n",
    "\n",
    "Rand_Forest_Class.fit(X_train, y_train)\n",
    "\n",
    "y_pred = Rand_Forest_Class.predict(X_test)\n",
    "\n",
    "print(\"Accuracy:\",metrics.accuracy_score(y_test, y_pred))\n",
    "cmRF = confusion_matrix(y_test, y_pred)\n",
    "\n",
    "\n",
    "pRF = precision_score(y_test,y_pred)\n",
    "rRF = recall_score(y_test,y_pred)\n",
    "F1RF = f1_score(y_test, y_pred)\n",
    "print(\"Precisão:\", pRF)\n",
    "print(\"Recall:\", rRF)\n",
    "print(\"F1Score:\", F1RF)\n",
    "fprRF, tprRF, threshold_RF = roc_curve(y_test,y_pred)\n",
    "plot_roc_curve(fprRF,tprRF)\n",
    "aucRF = roc_auc_score(y_test,y_pred)\n",
    "print(\"AUC Score:\",aucRF)"
   ]
  },
  {
   "cell_type": "code",
   "execution_count": 9,
   "metadata": {},
   "outputs": [
    {
     "name": "stdout",
     "output_type": "stream",
     "text": [
      "OPERADORA 0.01519283990766028\n",
      "ESTADO 0.027097297708722344\n",
      "ANO_BASE 0.011879207114724495\n",
      "Q5 0.00490077634094653\n",
      "Q7 0.03087522744419723\n",
      "Q8 0.00610230968883058\n",
      "B1_1 0.06380206919187986\n",
      "B1_2 0.13820599211736848\n",
      "C1_1 0.08539921704012678\n",
      "C1_2 0.1008162488808531\n",
      "C1_3 0.1466592621224701\n",
      "D1_1 0.028967921713405276\n",
      "D1_2 0.02316714200156242\n",
      "A1_2 0.005674374536424691\n",
      "A1_3 0.004298537932308901\n",
      "A2_1 0.019986976811898708\n",
      "A2_2 0.02993562541834148\n",
      "A2_3 0.018045452989855777\n",
      "A3 0.023503935970584134\n",
      "E2 0.03124609081990927\n",
      "E3 0.00579301749571393\n",
      "E5 0.005403114196148945\n",
      "E8 0.06319510272392892\n",
      "F1 0.00445784708412152\n",
      "F4_1 0.01944041065096065\n",
      "F4_2 0.0219232846929379\n",
      "F4_3 0.026530202064156235\n",
      "H1 0.013191872755420995\n",
      "H2 0.024308642584540473\n"
     ]
    }
   ],
   "source": [
    "## Importância dos Parâmetros\n",
    "features = X_train.columns\n",
    "feature_dict = dict()\n",
    "\n",
    "for name, score in zip(features, Rand_Forest_Class.feature_importances_):\n",
    "    feature_dict[name] = score\n",
    "    print(name, score)"
   ]
  },
  {
   "cell_type": "markdown",
   "metadata": {},
   "source": [
    "## Análise de Pareto\n",
    "\n",
    "Para o Random Forest será realizada uma análise de Pareto e selecionar apenas as colunas que representam predominância na classificação."
   ]
  },
  {
   "cell_type": "code",
   "execution_count": 11,
   "metadata": {},
   "outputs": [
    {
     "name": "stdout",
     "output_type": "stream",
     "text": [
      "[0.01519283990766028, 0.042290137616382624, 0.05416934473110712, 0.05907012107205365, 0.08994534851625088, 0.09604765820508146, 0.15984972739696132, 0.2980557195143298, 0.38345493655445656, 0.48427118543530967, 0.6309304475577797, 0.659898369271185, 0.6830655112727474, 0.6887398858091721, 0.6930384237414811, 0.7130254005533798, 0.7429610259717213, 0.7610064789615771, 0.7845104149321612, 0.8157565057520705, 0.8215495232477844, 0.8269526374439333, 0.8901477401678622, 0.8946055872519838, 0.9140459979029445, 0.9359692825958824, 0.9624994846600387, 0.9756913574154596, 1.0000000000000002]\n"
     ]
    }
   ],
   "source": [
    "cum_sum = list()\n",
    "\n",
    "sum = 0\n",
    "for i in features:\n",
    "    sum = sum + feature_dict[i]\n",
    "    cum_sum.append(sum)\n",
    "\n",
    "print(cum_sum)\n",
    "\n",
    "\n",
    "\n"
   ]
  },
  {
   "cell_type": "code",
   "execution_count": 22,
   "metadata": {},
   "outputs": [
    {
     "name": "stdout",
     "output_type": "stream",
     "text": [
      "dict_keys(['C1_3', 'B1_2', 'C1_2', 'C1_1', 'B1_1', 'E8', 'E2', 'Q7', 'A2_2', 'D1_1', 'ESTADO', 'F4_3', 'H2', 'A3', 'D1_2', 'F4_2', 'A2_1', 'F4_1', 'A2_3', 'OPERADORA', 'H1', 'ANO_BASE', 'Q8', 'E3', 'A1_2', 'E5', 'Q5', 'F1', 'A1_3'])\n",
      "{'C1_3': 0.1466592621224701, 'B1_2': 0.13820599211736848, 'C1_2': 0.1008162488808531, 'C1_1': 0.08539921704012678, 'B1_1': 0.06380206919187986, 'E8': 0.06319510272392892, 'E2': 0.03124609081990927, 'Q7': 0.03087522744419723, 'A2_2': 0.02993562541834148, 'D1_1': 0.028967921713405276, 'ESTADO': 0.027097297708722344, 'F4_3': 0.026530202064156235, 'H2': 0.024308642584540473, 'A3': 0.023503935970584134, 'D1_2': 0.02316714200156242, 'F4_2': 0.0219232846929379, 'A2_1': 0.019986976811898708, 'F4_1': 0.01944041065096065, 'A2_3': 0.018045452989855777, 'OPERADORA': 0.01519283990766028, 'H1': 0.013191872755420995, 'ANO_BASE': 0.011879207114724495, 'Q8': 0.00610230968883058, 'E3': 0.00579301749571393, 'A1_2': 0.005674374536424691, 'E5': 0.005403114196148945, 'Q5': 0.00490077634094653, 'F1': 0.00445784708412152, 'A1_3': 0.004298537932308901}\n"
     ]
    }
   ],
   "source": [
    "print(feature_dict.keys())\n",
    "\n",
    "feature_dict =  dict(sorted(feature_dict.items(), key=lambda item: item[1], reverse=True))\n",
    "\n",
    "print(feature_dict)"
   ]
  },
  {
   "cell_type": "code",
   "execution_count": 44,
   "metadata": {},
   "outputs": [
    {
     "data": {
      "image/png": "[encoded data removed]",
      "text/plain": [
       "<Figure size 600x400 with 2 Axes>"
      ]
     },
     "metadata": {},
     "output_type": "display_data"
    }
   ],
   "source": [
    "fig, ax = plt.subplots()\n",
    "ax.bar(feature_dict.keys(), feature_dict.values(), color=\"C0\")\n",
    "ax2 = ax.twinx()\n",
    "ax2.plot(feature_dict.keys(), cum_sum, color=\"C1\", marker=\"D\", ms=7)\n",
    "plt.rcParams[\"figure.dpi\"] = 100\n",
    "ax.tick_params(axis=\"y\", colors=\"C0\")\n",
    "ax2.tick_params(axis=\"y\", colors=\"C1\")\n",
    "plt.setp(ax.get_xticklabels(), rotation=45, ha=\"right\", rotation_mode=\"anchor\", size = 8)\n",
    "plt.show()"
   ]
  },
  {
   "cell_type": "markdown",
   "metadata": {},
   "source": [
    "Com base na relação de Pareto encontrada, os parâmetros C1_3, B1_2, C1_2, C1_1, B1_1, E8 e E2 são os principais atributos. "
   ]
  },
  {
   "cell_type": "code",
   "execution_count": 50,
   "metadata": {},
   "outputs": [],
   "source": [
    "most_rlv_features_dataset = Data_Filter.copy()\n",
    "\n",
    "params = most_rlv_features_dataset.columns\n",
    "\n",
    "for i in params:\n",
    "    if i != \"C1_3\" and i != \"B1_2\" and i != \"C1_2\" and i != \"C1_1\" and i != \"B1_1\" and i != \"E8\" and i != \"E2\" and i != \"J1\":\n",
    "        most_rlv_features_dataset.drop(i, inplace= True, axis = 1)\n",
    "\n",
    "\n",
    "Dados_Y_N = Data_Filter[\"J1\"].copy()\n",
    "Dados_X_N = most_rlv_features_dataset.copy()\n",
    "Dados_X_N.drop(\"J1\", inplace= True, axis = 1)\n",
    "\n",
    "X_train_N, X_test_N, y_train_N, y_test_N = train_test_split(Dados_X_N, Dados_Y_N, test_size=0.3,random_state=109) # 70% training and 30% test\n",
    "\n"
   ]
  },
  {
   "cell_type": "code",
   "execution_count": 52,
   "metadata": {},
   "outputs": [
    {
     "name": "stdout",
     "output_type": "stream",
     "text": [
      "Accuracy: 0.8476774758983348\n",
      "Precisão: 0.8199142448785136\n",
      "Recall: 0.7780289330922242\n",
      "F1Score: 0.7984226397587567\n",
      "AUC Score: 0.8349062501132465\n"
     ]
    },
    {
     "data": {
      "image/png": "[encoded data removed]",
      "text/plain": [
       "<Figure size 600x400 with 1 Axes>"
      ]
     },
     "metadata": {
      "needs_background": "light"
     },
     "output_type": "display_data"
    }
   ],
   "source": [
    "## Random Forest com apenas Parâmetros selecionados\n",
    "\n",
    "\n",
    "Rand_Forest_Class = RandomForestClassifier()\n",
    "\n",
    "Rand_Forest_Class.fit(X_train_N, y_train_N)\n",
    "\n",
    "y_pred_N = Rand_Forest_Class.predict(X_test_N)\n",
    "\n",
    "print(\"Accuracy:\",metrics.accuracy_score(y_test_N, y_pred_N))\n",
    "cmRF = confusion_matrix(y_test_N, y_pred_N)\n",
    "\n",
    "\n",
    "pRF = precision_score(y_test_N,y_pred_N)\n",
    "rRF = recall_score(y_test_N,y_pred_N)\n",
    "F1RF = f1_score(y_test_N, y_pred_N)\n",
    "print(\"Precisão:\", pRF)\n",
    "print(\"Recall:\", rRF)\n",
    "print(\"F1Score:\", F1RF)\n",
    "fprRF, tprRF, threshold_RF = roc_curve(y_test_N,y_pred_N)\n",
    "plot_roc_curve(fprRF,tprRF)\n",
    "aucRF = roc_auc_score(y_test_N,y_pred_N)\n",
    "print(\"AUC Score:\",aucRF)"
   ]
  },
  {
   "cell_type": "markdown",
   "metadata": {},
   "source": [
    "## Results\n",
    "**\\>7**\n",
    "\n",
    "|          |     0       |     1      |\n",
    "|----------|-------------|------------|\n",
    "|     0    |     4174    |     240    |\n",
    "|     1    |     527     |     864    |\n",
    "\n",
    "Accuracy: 0.8830850131463628\n",
    "\n",
    "**\\>=7** \n",
    "\n",
    "|          |     0       |     1      |\n",
    "|----------|-------------|------------|\n",
    "|     0    |     3140    |     353    |\n",
    "|     1    |     468     |     1744   |\n",
    "\n",
    "Accuracy: 0.856091148115688\n",
    "\n",
    "Precisão: 0.8316642823080591\n",
    "\n",
    "Recall: 0.7884267631103075\n",
    "\n",
    "F1Score: 0.809468554188907\n",
    "\n",
    "AUC Score: 0.8444071687679154\n",
    "\n",
    "Aqui existe uma precisão maior que o Recall, significa que existem vários Falsos Negativos, pois muitos 1's não são detectados, mas muito 0 foi detectado como 1 ou Falsos Positivos. A curva ROC Distancia um pouco mais. \n",
    "\n",
    "Comparação Após o Pareto\n",
    "\n",
    "| Técnica             | Acurácia           | Precisão           | Revocação          | F1 Score           | ROC AUC            |\n",
    "|---------------------|--------------------|--------------------|--------------------|--------------------|--------------------|\n",
    "| Antes                 | 85609 | 0.83166 | 0.78842 |  0.8094|0.84440 |\n",
    "| Depois | 0.8476 | 0.8199 | 0.778 | 0.7984 | 0.8349 |\n",
    "\n",
    "\n"
   ]
  },
  {
   "cell_type": "code",
   "execution_count": 17,
   "metadata": {},
   "outputs": [
    {
     "data": {
      "text/plain": [
       "Text(0, 0.5, 'Taxa de Verdadeiros Positivos')"
      ]
     },
     "execution_count": 17,
     "metadata": {},
     "output_type": "execute_result"
    },
    {
     "data": {
      "image/png": "[encoded data removed]",
      "image/svg+xml": "<?xml version=\"1.0\" encoding=\"utf-8\" standalone=\"no\"?>\r\n<!DOCTYPE svg PUBLIC \"-//W3C//DTD SVG 1.1//EN\"\r\n  \"http://www.w3.org/Graphics/SVG/1.1/DTD/svg11.dtd\">\r\n<svg height=\"265.995469pt\" version=\"1.1\" viewBox=\"0 0 393.732813 265.995469\" width=\"393.732813pt\" xmlns=\"http://www.w3.org/2000/svg\" xmlns:xlink=\"http://www.w3.org/1999/xlink\">\r\n <metadata>\r\n  <rdf:RDF xmlns:cc=\"http://creativecommons.org/ns#\" xmlns:dc=\"http://purl.org/dc/elements/1.1/\" xmlns:rdf=\"http://www.w3.org/1999/02/22-rdf-syntax-ns#\">\r\n   <cc:Work>\r\n    <dc:type rdf:resource=\"http://purl.org/dc/dcmitype/StillImage\"/>\r\n    <dc:date>2021-09-06T12:12:57.027975</dc:date>\r\n    <dc:format>image/svg+xml</dc:format>\r\n    <dc:creator>\r\n     <cc:Agent>\r\n      <dc:title>Matplotlib v3.4.2, https://matplotlib.org/</dc:title>\r\n     </cc:Agent>\r\n    </dc:creator>\r\n   </cc:Work>\r\n  </rdf:RDF>\r\n </metadata>\r\n <defs>\r\n  <style type=\"text/css\">*{stroke-linecap:butt;stroke-linejoin:round;}</style>\r\n </defs>\r\n <g id=\"figure_1\">\r\n  <g id=\"patch_1\">\r\n   <path d=\"M 0 265.995469 \r\nL 393.732813 265.995469 \r\nL 393.732813 0 \r\nL 0 0 \r\nz\r\n\" style=\"fill:none;\"/>\r\n  </g>\r\n  <g id=\"axes_1\">\r\n   <g id=\"patch_2\">\r\n    <path d=\"M 43.78125 228.439219 \r\nL 378.58125 228.439219 \r\nL 378.58125 10.999219 \r\nL 43.78125 10.999219 \r\nz\r\n\" style=\"fill:#ffffff;\"/>\r\n   </g>\r\n   <g id=\"matplotlib.axis_1\">\r\n    <g id=\"xtick_1\">\r\n     <g id=\"line2d_1\">\r\n      <defs>\r\n       <path d=\"M 0 0 \r\nL 0 3.5 \r\n\" id=\"m074d70723d\" style=\"stroke:#000000;stroke-width:0.8;\"/>\r\n      </defs>\r\n      <g>\r\n       <use style=\"stroke:#000000;stroke-width:0.8;\" x=\"43.78125\" xlink:href=\"#m074d70723d\" y=\"228.439219\"/>\r\n      </g>\r\n     </g>\r\n     <g id=\"text_1\">\r\n      <!-- 0.0 -->\r\n      <g transform=\"translate(35.829688 243.037656)scale(0.1 -0.1)\">\r\n       <defs>\r\n        <path d=\"M 2034 4250 \r\nQ 1547 4250 1301 3770 \r\nQ 1056 3291 1056 2328 \r\nQ 1056 1369 1301 889 \r\nQ 1547 409 2034 409 \r\nQ 2525 409 2770 889 \r\nQ 3016 1369 3016 2328 \r\nQ 3016 3291 2770 3770 \r\nQ 2525 4250 2034 4250 \r\nz\r\nM 2034 4750 \r\nQ 2819 4750 3233 4129 \r\nQ 3647 3509 3647 2328 \r\nQ 3647 1150 3233 529 \r\nQ 2819 -91 2034 -91 \r\nQ 1250 -91 836 529 \r\nQ 422 1150 422 2328 \r\nQ 422 3509 836 4129 \r\nQ 1250 4750 2034 4750 \r\nz\r\n\" id=\"DejaVuSans-30\" transform=\"scale(0.015625)\"/>\r\n        <path d=\"M 684 794 \r\nL 1344 794 \r\nL 1344 0 \r\nL 684 0 \r\nL 684 794 \r\nz\r\n\" id=\"DejaVuSans-2e\" transform=\"scale(0.015625)\"/>\r\n       </defs>\r\n       <use xlink:href=\"#DejaVuSans-30\"/>\r\n       <use x=\"63.623047\" xlink:href=\"#DejaVuSans-2e\"/>\r\n       <use x=\"95.410156\" xlink:href=\"#DejaVuSans-30\"/>\r\n      </g>\r\n     </g>\r\n    </g>\r\n    <g id=\"xtick_2\">\r\n     <g id=\"line2d_2\">\r\n      <g>\r\n       <use style=\"stroke:#000000;stroke-width:0.8;\" x=\"110.74125\" xlink:href=\"#m074d70723d\" y=\"228.439219\"/>\r\n      </g>\r\n     </g>\r\n     <g id=\"text_2\">\r\n      <!-- 0.2 -->\r\n      <g transform=\"translate(102.789688 243.037656)scale(0.1 -0.1)\">\r\n       <defs>\r\n        <path d=\"M 1228 531 \r\nL 3431 531 \r\nL 3431 0 \r\nL 469 0 \r\nL 469 531 \r\nQ 828 903 1448 1529 \r\nQ 2069 2156 2228 2338 \r\nQ 2531 2678 2651 2914 \r\nQ 2772 3150 2772 3378 \r\nQ 2772 3750 2511 3984 \r\nQ 2250 4219 1831 4219 \r\nQ 1534 4219 1204 4116 \r\nQ 875 4013 500 3803 \r\nL 500 4441 \r\nQ 881 4594 1212 4672 \r\nQ 1544 4750 1819 4750 \r\nQ 2544 4750 2975 4387 \r\nQ 3406 4025 3406 3419 \r\nQ 3406 3131 3298 2873 \r\nQ 3191 2616 2906 2266 \r\nQ 2828 2175 2409 1742 \r\nQ 1991 1309 1228 531 \r\nz\r\n\" id=\"DejaVuSans-32\" transform=\"scale(0.015625)\"/>\r\n       </defs>\r\n       <use xlink:href=\"#DejaVuSans-30\"/>\r\n       <use x=\"63.623047\" xlink:href=\"#DejaVuSans-2e\"/>\r\n       <use x=\"95.410156\" xlink:href=\"#DejaVuSans-32\"/>\r\n      </g>\r\n     </g>\r\n    </g>\r\n    <g id=\"xtick_3\">\r\n     <g id=\"line2d_3\">\r\n      <g>\r\n       <use style=\"stroke:#000000;stroke-width:0.8;\" x=\"177.70125\" xlink:href=\"#m074d70723d\" y=\"228.439219\"/>\r\n      </g>\r\n     </g>\r\n     <g id=\"text_3\">\r\n      <!-- 0.4 -->\r\n      <g transform=\"translate(169.749688 243.037656)scale(0.1 -0.1)\">\r\n       <defs>\r\n        <path d=\"M 2419 4116 \r\nL 825 1625 \r\nL 2419 1625 \r\nL 2419 4116 \r\nz\r\nM 2253 4666 \r\nL 3047 4666 \r\nL 3047 1625 \r\nL 3713 1625 \r\nL 3713 1100 \r\nL 3047 1100 \r\nL 3047 0 \r\nL 2419 0 \r\nL 2419 1100 \r\nL 313 1100 \r\nL 313 1709 \r\nL 2253 4666 \r\nz\r\n\" id=\"DejaVuSans-34\" transform=\"scale(0.015625)\"/>\r\n       </defs>\r\n       <use xlink:href=\"#DejaVuSans-30\"/>\r\n       <use x=\"63.623047\" xlink:href=\"#DejaVuSans-2e\"/>\r\n       <use x=\"95.410156\" xlink:href=\"#DejaVuSans-34\"/>\r\n      </g>\r\n     </g>\r\n    </g>\r\n    <g id=\"xtick_4\">\r\n     <g id=\"line2d_4\">\r\n      <g>\r\n       <use style=\"stroke:#000000;stroke-width:0.8;\" x=\"244.66125\" xlink:href=\"#m074d70723d\" y=\"228.439219\"/>\r\n      </g>\r\n     </g>\r\n     <g id=\"text_4\">\r\n      <!-- 0.6 -->\r\n      <g transform=\"translate(236.709688 243.037656)scale(0.1 -0.1)\">\r\n       <defs>\r\n        <path d=\"M 2113 2584 \r\nQ 1688 2584 1439 2293 \r\nQ 1191 2003 1191 1497 \r\nQ 1191 994 1439 701 \r\nQ 1688 409 2113 409 \r\nQ 2538 409 2786 701 \r\nQ 3034 994 3034 1497 \r\nQ 3034 2003 2786 2293 \r\nQ 2538 2584 2113 2584 \r\nz\r\nM 3366 4563 \r\nL 3366 3988 \r\nQ 3128 4100 2886 4159 \r\nQ 2644 4219 2406 4219 \r\nQ 1781 4219 1451 3797 \r\nQ 1122 3375 1075 2522 \r\nQ 1259 2794 1537 2939 \r\nQ 1816 3084 2150 3084 \r\nQ 2853 3084 3261 2657 \r\nQ 3669 2231 3669 1497 \r\nQ 3669 778 3244 343 \r\nQ 2819 -91 2113 -91 \r\nQ 1303 -91 875 529 \r\nQ 447 1150 447 2328 \r\nQ 447 3434 972 4092 \r\nQ 1497 4750 2381 4750 \r\nQ 2619 4750 2861 4703 \r\nQ 3103 4656 3366 4563 \r\nz\r\n\" id=\"DejaVuSans-36\" transform=\"scale(0.015625)\"/>\r\n       </defs>\r\n       <use xlink:href=\"#DejaVuSans-30\"/>\r\n       <use x=\"63.623047\" xlink:href=\"#DejaVuSans-2e\"/>\r\n       <use x=\"95.410156\" xlink:href=\"#DejaVuSans-36\"/>\r\n      </g>\r\n     </g>\r\n    </g>\r\n    <g id=\"xtick_5\">\r\n     <g id=\"line2d_5\">\r\n      <g>\r\n       <use style=\"stroke:#000000;stroke-width:0.8;\" x=\"311.62125\" xlink:href=\"#m074d70723d\" y=\"228.439219\"/>\r\n      </g>\r\n     </g>\r\n     <g id=\"text_5\">\r\n      <!-- 0.8 -->\r\n      <g transform=\"translate(303.669688 243.037656)scale(0.1 -0.1)\">\r\n       <defs>\r\n        <path d=\"M 2034 2216 \r\nQ 1584 2216 1326 1975 \r\nQ 1069 1734 1069 1313 \r\nQ 1069 891 1326 650 \r\nQ 1584 409 2034 409 \r\nQ 2484 409 2743 651 \r\nQ 3003 894 3003 1313 \r\nQ 3003 1734 2745 1975 \r\nQ 2488 2216 2034 2216 \r\nz\r\nM 1403 2484 \r\nQ 997 2584 770 2862 \r\nQ 544 3141 544 3541 \r\nQ 544 4100 942 4425 \r\nQ 1341 4750 2034 4750 \r\nQ 2731 4750 3128 4425 \r\nQ 3525 4100 3525 3541 \r\nQ 3525 3141 3298 2862 \r\nQ 3072 2584 2669 2484 \r\nQ 3125 2378 3379 2068 \r\nQ 3634 1759 3634 1313 \r\nQ 3634 634 3220 271 \r\nQ 2806 -91 2034 -91 \r\nQ 1263 -91 848 271 \r\nQ 434 634 434 1313 \r\nQ 434 1759 690 2068 \r\nQ 947 2378 1403 2484 \r\nz\r\nM 1172 3481 \r\nQ 1172 3119 1398 2916 \r\nQ 1625 2713 2034 2713 \r\nQ 2441 2713 2670 2916 \r\nQ 2900 3119 2900 3481 \r\nQ 2900 3844 2670 4047 \r\nQ 2441 4250 2034 4250 \r\nQ 1625 4250 1398 4047 \r\nQ 1172 3844 1172 3481 \r\nz\r\n\" id=\"DejaVuSans-38\" transform=\"scale(0.015625)\"/>\r\n       </defs>\r\n       <use xlink:href=\"#DejaVuSans-30\"/>\r\n       <use x=\"63.623047\" xlink:href=\"#DejaVuSans-2e\"/>\r\n       <use x=\"95.410156\" xlink:href=\"#DejaVuSans-38\"/>\r\n      </g>\r\n     </g>\r\n    </g>\r\n    <g id=\"xtick_6\">\r\n     <g id=\"line2d_6\">\r\n      <g>\r\n       <use style=\"stroke:#000000;stroke-width:0.8;\" x=\"378.58125\" xlink:href=\"#m074d70723d\" y=\"228.439219\"/>\r\n      </g>\r\n     </g>\r\n     <g id=\"text_6\">\r\n      <!-- 1.0 -->\r\n      <g transform=\"translate(370.629687 243.037656)scale(0.1 -0.1)\">\r\n       <defs>\r\n        <path d=\"M 794 531 \r\nL 1825 531 \r\nL 1825 4091 \r\nL 703 3866 \r\nL 703 4441 \r\nL 1819 4666 \r\nL 2450 4666 \r\nL 2450 531 \r\nL 3481 531 \r\nL 3481 0 \r\nL 794 0 \r\nL 794 531 \r\nz\r\n\" id=\"DejaVuSans-31\" transform=\"scale(0.015625)\"/>\r\n       </defs>\r\n       <use xlink:href=\"#DejaVuSans-31\"/>\r\n       <use x=\"63.623047\" xlink:href=\"#DejaVuSans-2e\"/>\r\n       <use x=\"95.410156\" xlink:href=\"#DejaVuSans-30\"/>\r\n      </g>\r\n     </g>\r\n    </g>\r\n    <g id=\"text_7\">\r\n     <!-- Taxa de Falsos Positivos -->\r\n     <g transform=\"translate(151.846094 256.715781)scale(0.1 -0.1)\">\r\n      <defs>\r\n       <path d=\"M -19 4666 \r\nL 3928 4666 \r\nL 3928 4134 \r\nL 2272 4134 \r\nL 2272 0 \r\nL 1638 0 \r\nL 1638 4134 \r\nL -19 4134 \r\nL -19 4666 \r\nz\r\n\" id=\"DejaVuSans-54\" transform=\"scale(0.015625)\"/>\r\n       <path d=\"M 2194 1759 \r\nQ 1497 1759 1228 1600 \r\nQ 959 1441 959 1056 \r\nQ 959 750 1161 570 \r\nQ 1363 391 1709 391 \r\nQ 2188 391 2477 730 \r\nQ 2766 1069 2766 1631 \r\nL 2766 1759 \r\nL 2194 1759 \r\nz\r\nM 3341 1997 \r\nL 3341 0 \r\nL 2766 0 \r\nL 2766 531 \r\nQ 2569 213 2275 61 \r\nQ 1981 -91 1556 -91 \r\nQ 1019 -91 701 211 \r\nQ 384 513 384 1019 \r\nQ 384 1609 779 1909 \r\nQ 1175 2209 1959 2209 \r\nL 2766 2209 \r\nL 2766 2266 \r\nQ 2766 2663 2505 2880 \r\nQ 2244 3097 1772 3097 \r\nQ 1472 3097 1187 3025 \r\nQ 903 2953 641 2809 \r\nL 641 3341 \r\nQ 956 3463 1253 3523 \r\nQ 1550 3584 1831 3584 \r\nQ 2591 3584 2966 3190 \r\nQ 3341 2797 3341 1997 \r\nz\r\n\" id=\"DejaVuSans-61\" transform=\"scale(0.015625)\"/>\r\n       <path d=\"M 3513 3500 \r\nL 2247 1797 \r\nL 3578 0 \r\nL 2900 0 \r\nL 1881 1375 \r\nL 863 0 \r\nL 184 0 \r\nL 1544 1831 \r\nL 300 3500 \r\nL 978 3500 \r\nL 1906 2253 \r\nL 2834 3500 \r\nL 3513 3500 \r\nz\r\n\" id=\"DejaVuSans-78\" transform=\"scale(0.015625)\"/>\r\n       <path id=\"DejaVuSans-20\" transform=\"scale(0.015625)\"/>\r\n       <path d=\"M 2906 2969 \r\nL 2906 4863 \r\nL 3481 4863 \r\nL 3481 0 \r\nL 2906 0 \r\nL 2906 525 \r\nQ 2725 213 2448 61 \r\nQ 2172 -91 1784 -91 \r\nQ 1150 -91 751 415 \r\nQ 353 922 353 1747 \r\nQ 353 2572 751 3078 \r\nQ 1150 3584 1784 3584 \r\nQ 2172 3584 2448 3432 \r\nQ 2725 3281 2906 2969 \r\nz\r\nM 947 1747 \r\nQ 947 1113 1208 752 \r\nQ 1469 391 1925 391 \r\nQ 2381 391 2643 752 \r\nQ 2906 1113 2906 1747 \r\nQ 2906 2381 2643 2742 \r\nQ 2381 3103 1925 3103 \r\nQ 1469 3103 1208 2742 \r\nQ 947 2381 947 1747 \r\nz\r\n\" id=\"DejaVuSans-64\" transform=\"scale(0.015625)\"/>\r\n       <path d=\"M 3597 1894 \r\nL 3597 1613 \r\nL 953 1613 \r\nQ 991 1019 1311 708 \r\nQ 1631 397 2203 397 \r\nQ 2534 397 2845 478 \r\nQ 3156 559 3463 722 \r\nL 3463 178 \r\nQ 3153 47 2828 -22 \r\nQ 2503 -91 2169 -91 \r\nQ 1331 -91 842 396 \r\nQ 353 884 353 1716 \r\nQ 353 2575 817 3079 \r\nQ 1281 3584 2069 3584 \r\nQ 2775 3584 3186 3129 \r\nQ 3597 2675 3597 1894 \r\nz\r\nM 3022 2063 \r\nQ 3016 2534 2758 2815 \r\nQ 2500 3097 2075 3097 \r\nQ 1594 3097 1305 2825 \r\nQ 1016 2553 972 2059 \r\nL 3022 2063 \r\nz\r\n\" id=\"DejaVuSans-65\" transform=\"scale(0.015625)\"/>\r\n       <path d=\"M 628 4666 \r\nL 3309 4666 \r\nL 3309 4134 \r\nL 1259 4134 \r\nL 1259 2759 \r\nL 3109 2759 \r\nL 3109 2228 \r\nL 1259 2228 \r\nL 1259 0 \r\nL 628 0 \r\nL 628 4666 \r\nz\r\n\" id=\"DejaVuSans-46\" transform=\"scale(0.015625)\"/>\r\n       <path d=\"M 603 4863 \r\nL 1178 4863 \r\nL 1178 0 \r\nL 603 0 \r\nL 603 4863 \r\nz\r\n\" id=\"DejaVuSans-6c\" transform=\"scale(0.015625)\"/>\r\n       <path d=\"M 2834 3397 \r\nL 2834 2853 \r\nQ 2591 2978 2328 3040 \r\nQ 2066 3103 1784 3103 \r\nQ 1356 3103 1142 2972 \r\nQ 928 2841 928 2578 \r\nQ 928 2378 1081 2264 \r\nQ 1234 2150 1697 2047 \r\nL 1894 2003 \r\nQ 2506 1872 2764 1633 \r\nQ 3022 1394 3022 966 \r\nQ 3022 478 2636 193 \r\nQ 2250 -91 1575 -91 \r\nQ 1294 -91 989 -36 \r\nQ 684 19 347 128 \r\nL 347 722 \r\nQ 666 556 975 473 \r\nQ 1284 391 1588 391 \r\nQ 1994 391 2212 530 \r\nQ 2431 669 2431 922 \r\nQ 2431 1156 2273 1281 \r\nQ 2116 1406 1581 1522 \r\nL 1381 1569 \r\nQ 847 1681 609 1914 \r\nQ 372 2147 372 2553 \r\nQ 372 3047 722 3315 \r\nQ 1072 3584 1716 3584 \r\nQ 2034 3584 2315 3537 \r\nQ 2597 3491 2834 3397 \r\nz\r\n\" id=\"DejaVuSans-73\" transform=\"scale(0.015625)\"/>\r\n       <path d=\"M 1959 3097 \r\nQ 1497 3097 1228 2736 \r\nQ 959 2375 959 1747 \r\nQ 959 1119 1226 758 \r\nQ 1494 397 1959 397 \r\nQ 2419 397 2687 759 \r\nQ 2956 1122 2956 1747 \r\nQ 2956 2369 2687 2733 \r\nQ 2419 3097 1959 3097 \r\nz\r\nM 1959 3584 \r\nQ 2709 3584 3137 3096 \r\nQ 3566 2609 3566 1747 \r\nQ 3566 888 3137 398 \r\nQ 2709 -91 1959 -91 \r\nQ 1206 -91 779 398 \r\nQ 353 888 353 1747 \r\nQ 353 2609 779 3096 \r\nQ 1206 3584 1959 3584 \r\nz\r\n\" id=\"DejaVuSans-6f\" transform=\"scale(0.015625)\"/>\r\n       <path d=\"M 1259 4147 \r\nL 1259 2394 \r\nL 2053 2394 \r\nQ 2494 2394 2734 2622 \r\nQ 2975 2850 2975 3272 \r\nQ 2975 3691 2734 3919 \r\nQ 2494 4147 2053 4147 \r\nL 1259 4147 \r\nz\r\nM 628 4666 \r\nL 2053 4666 \r\nQ 2838 4666 3239 4311 \r\nQ 3641 3956 3641 3272 \r\nQ 3641 2581 3239 2228 \r\nQ 2838 1875 2053 1875 \r\nL 1259 1875 \r\nL 1259 0 \r\nL 628 0 \r\nL 628 4666 \r\nz\r\n\" id=\"DejaVuSans-50\" transform=\"scale(0.015625)\"/>\r\n       <path d=\"M 603 3500 \r\nL 1178 3500 \r\nL 1178 0 \r\nL 603 0 \r\nL 603 3500 \r\nz\r\nM 603 4863 \r\nL 1178 4863 \r\nL 1178 4134 \r\nL 603 4134 \r\nL 603 4863 \r\nz\r\n\" id=\"DejaVuSans-69\" transform=\"scale(0.015625)\"/>\r\n       <path d=\"M 1172 4494 \r\nL 1172 3500 \r\nL 2356 3500 \r\nL 2356 3053 \r\nL 1172 3053 \r\nL 1172 1153 \r\nQ 1172 725 1289 603 \r\nQ 1406 481 1766 481 \r\nL 2356 481 \r\nL 2356 0 \r\nL 1766 0 \r\nQ 1100 0 847 248 \r\nQ 594 497 594 1153 \r\nL 594 3053 \r\nL 172 3053 \r\nL 172 3500 \r\nL 594 3500 \r\nL 594 4494 \r\nL 1172 4494 \r\nz\r\n\" id=\"DejaVuSans-74\" transform=\"scale(0.015625)\"/>\r\n       <path d=\"M 191 3500 \r\nL 800 3500 \r\nL 1894 563 \r\nL 2988 3500 \r\nL 3597 3500 \r\nL 2284 0 \r\nL 1503 0 \r\nL 191 3500 \r\nz\r\n\" id=\"DejaVuSans-76\" transform=\"scale(0.015625)\"/>\r\n      </defs>\r\n      <use xlink:href=\"#DejaVuSans-54\"/>\r\n      <use x=\"44.583984\" xlink:href=\"#DejaVuSans-61\"/>\r\n      <use x=\"105.863281\" xlink:href=\"#DejaVuSans-78\"/>\r\n      <use x=\"165.042969\" xlink:href=\"#DejaVuSans-61\"/>\r\n      <use x=\"226.322266\" xlink:href=\"#DejaVuSans-20\"/>\r\n      <use x=\"258.109375\" xlink:href=\"#DejaVuSans-64\"/>\r\n      <use x=\"321.585938\" xlink:href=\"#DejaVuSans-65\"/>\r\n      <use x=\"383.109375\" xlink:href=\"#DejaVuSans-20\"/>\r\n      <use x=\"414.896484\" xlink:href=\"#DejaVuSans-46\"/>\r\n      <use x=\"463.291016\" xlink:href=\"#DejaVuSans-61\"/>\r\n      <use x=\"524.570312\" xlink:href=\"#DejaVuSans-6c\"/>\r\n      <use x=\"552.353516\" xlink:href=\"#DejaVuSans-73\"/>\r\n      <use x=\"604.453125\" xlink:href=\"#DejaVuSans-6f\"/>\r\n      <use x=\"665.634766\" xlink:href=\"#DejaVuSans-73\"/>\r\n      <use x=\"717.734375\" xlink:href=\"#DejaVuSans-20\"/>\r\n      <use x=\"749.521484\" xlink:href=\"#DejaVuSans-50\"/>\r\n      <use x=\"806.199219\" xlink:href=\"#DejaVuSans-6f\"/>\r\n      <use x=\"867.380859\" xlink:href=\"#DejaVuSans-73\"/>\r\n      <use x=\"919.480469\" xlink:href=\"#DejaVuSans-69\"/>\r\n      <use x=\"947.263672\" xlink:href=\"#DejaVuSans-74\"/>\r\n      <use x=\"986.472656\" xlink:href=\"#DejaVuSans-69\"/>\r\n      <use x=\"1014.255859\" xlink:href=\"#DejaVuSans-76\"/>\r\n      <use x=\"1073.435547\" xlink:href=\"#DejaVuSans-6f\"/>\r\n      <use x=\"1134.617188\" xlink:href=\"#DejaVuSans-73\"/>\r\n     </g>\r\n    </g>\r\n   </g>\r\n   <g id=\"matplotlib.axis_2\">\r\n    <g id=\"ytick_1\">\r\n     <g id=\"line2d_7\">\r\n      <defs>\r\n       <path d=\"M 0 0 \r\nL -3.5 0 \r\n\" id=\"maa301a30a9\" style=\"stroke:#000000;stroke-width:0.8;\"/>\r\n      </defs>\r\n      <g>\r\n       <use style=\"stroke:#000000;stroke-width:0.8;\" x=\"43.78125\" xlink:href=\"#maa301a30a9\" y=\"228.439219\"/>\r\n      </g>\r\n     </g>\r\n     <g id=\"text_8\">\r\n      <!-- 0.0 -->\r\n      <g transform=\"translate(20.878125 232.238437)scale(0.1 -0.1)\">\r\n       <use xlink:href=\"#DejaVuSans-30\"/>\r\n       <use x=\"63.623047\" xlink:href=\"#DejaVuSans-2e\"/>\r\n       <use x=\"95.410156\" xlink:href=\"#DejaVuSans-30\"/>\r\n      </g>\r\n     </g>\r\n    </g>\r\n    <g id=\"ytick_2\">\r\n     <g id=\"line2d_8\">\r\n      <g>\r\n       <use style=\"stroke:#000000;stroke-width:0.8;\" x=\"43.78125\" xlink:href=\"#maa301a30a9\" y=\"184.951219\"/>\r\n      </g>\r\n     </g>\r\n     <g id=\"text_9\">\r\n      <!-- 0.2 -->\r\n      <g transform=\"translate(20.878125 188.750437)scale(0.1 -0.1)\">\r\n       <use xlink:href=\"#DejaVuSans-30\"/>\r\n       <use x=\"63.623047\" xlink:href=\"#DejaVuSans-2e\"/>\r\n       <use x=\"95.410156\" xlink:href=\"#DejaVuSans-32\"/>\r\n      </g>\r\n     </g>\r\n    </g>\r\n    <g id=\"ytick_3\">\r\n     <g id=\"line2d_9\">\r\n      <g>\r\n       <use style=\"stroke:#000000;stroke-width:0.8;\" x=\"43.78125\" xlink:href=\"#maa301a30a9\" y=\"141.463219\"/>\r\n      </g>\r\n     </g>\r\n     <g id=\"text_10\">\r\n      <!-- 0.4 -->\r\n      <g transform=\"translate(20.878125 145.262437)scale(0.1 -0.1)\">\r\n       <use xlink:href=\"#DejaVuSans-30\"/>\r\n       <use x=\"63.623047\" xlink:href=\"#DejaVuSans-2e\"/>\r\n       <use x=\"95.410156\" xlink:href=\"#DejaVuSans-34\"/>\r\n      </g>\r\n     </g>\r\n    </g>\r\n    <g id=\"ytick_4\">\r\n     <g id=\"line2d_10\">\r\n      <g>\r\n       <use style=\"stroke:#000000;stroke-width:0.8;\" x=\"43.78125\" xlink:href=\"#maa301a30a9\" y=\"97.975219\"/>\r\n      </g>\r\n     </g>\r\n     <g id=\"text_11\">\r\n      <!-- 0.6 -->\r\n      <g transform=\"translate(20.878125 101.774437)scale(0.1 -0.1)\">\r\n       <use xlink:href=\"#DejaVuSans-30\"/>\r\n       <use x=\"63.623047\" xlink:href=\"#DejaVuSans-2e\"/>\r\n       <use x=\"95.410156\" xlink:href=\"#DejaVuSans-36\"/>\r\n      </g>\r\n     </g>\r\n    </g>\r\n    <g id=\"ytick_5\">\r\n     <g id=\"line2d_11\">\r\n      <g>\r\n       <use style=\"stroke:#000000;stroke-width:0.8;\" x=\"43.78125\" xlink:href=\"#maa301a30a9\" y=\"54.487219\"/>\r\n      </g>\r\n     </g>\r\n     <g id=\"text_12\">\r\n      <!-- 0.8 -->\r\n      <g transform=\"translate(20.878125 58.286437)scale(0.1 -0.1)\">\r\n       <use xlink:href=\"#DejaVuSans-30\"/>\r\n       <use x=\"63.623047\" xlink:href=\"#DejaVuSans-2e\"/>\r\n       <use x=\"95.410156\" xlink:href=\"#DejaVuSans-38\"/>\r\n      </g>\r\n     </g>\r\n    </g>\r\n    <g id=\"ytick_6\">\r\n     <g id=\"line2d_12\">\r\n      <g>\r\n       <use style=\"stroke:#000000;stroke-width:0.8;\" x=\"43.78125\" xlink:href=\"#maa301a30a9\" y=\"10.999219\"/>\r\n      </g>\r\n     </g>\r\n     <g id=\"text_13\">\r\n      <!-- 1.0 -->\r\n      <g transform=\"translate(20.878125 14.798437)scale(0.1 -0.1)\">\r\n       <use xlink:href=\"#DejaVuSans-31\"/>\r\n       <use x=\"63.623047\" xlink:href=\"#DejaVuSans-2e\"/>\r\n       <use x=\"95.410156\" xlink:href=\"#DejaVuSans-30\"/>\r\n      </g>\r\n     </g>\r\n    </g>\r\n    <g id=\"text_14\">\r\n     <!-- Taxa de Verdadeiros Positivos -->\r\n     <g transform=\"translate(14.798438 193.475469)rotate(-90)scale(0.1 -0.1)\">\r\n      <defs>\r\n       <path d=\"M 1831 0 \r\nL 50 4666 \r\nL 709 4666 \r\nL 2188 738 \r\nL 3669 4666 \r\nL 4325 4666 \r\nL 2547 0 \r\nL 1831 0 \r\nz\r\n\" id=\"DejaVuSans-56\" transform=\"scale(0.015625)\"/>\r\n       <path d=\"M 2631 2963 \r\nQ 2534 3019 2420 3045 \r\nQ 2306 3072 2169 3072 \r\nQ 1681 3072 1420 2755 \r\nQ 1159 2438 1159 1844 \r\nL 1159 0 \r\nL 581 0 \r\nL 581 3500 \r\nL 1159 3500 \r\nL 1159 2956 \r\nQ 1341 3275 1631 3429 \r\nQ 1922 3584 2338 3584 \r\nQ 2397 3584 2469 3576 \r\nQ 2541 3569 2628 3553 \r\nL 2631 2963 \r\nz\r\n\" id=\"DejaVuSans-72\" transform=\"scale(0.015625)\"/>\r\n      </defs>\r\n      <use xlink:href=\"#DejaVuSans-54\"/>\r\n      <use x=\"44.583984\" xlink:href=\"#DejaVuSans-61\"/>\r\n      <use x=\"105.863281\" xlink:href=\"#DejaVuSans-78\"/>\r\n      <use x=\"165.042969\" xlink:href=\"#DejaVuSans-61\"/>\r\n      <use x=\"226.322266\" xlink:href=\"#DejaVuSans-20\"/>\r\n      <use x=\"258.109375\" xlink:href=\"#DejaVuSans-64\"/>\r\n      <use x=\"321.585938\" xlink:href=\"#DejaVuSans-65\"/>\r\n      <use x=\"383.109375\" xlink:href=\"#DejaVuSans-20\"/>\r\n      <use x=\"414.896484\" xlink:href=\"#DejaVuSans-56\"/>\r\n      <use x=\"475.554688\" xlink:href=\"#DejaVuSans-65\"/>\r\n      <use x=\"537.078125\" xlink:href=\"#DejaVuSans-72\"/>\r\n      <use x=\"576.441406\" xlink:href=\"#DejaVuSans-64\"/>\r\n      <use x=\"639.917969\" xlink:href=\"#DejaVuSans-61\"/>\r\n      <use x=\"701.197266\" xlink:href=\"#DejaVuSans-64\"/>\r\n      <use x=\"764.673828\" xlink:href=\"#DejaVuSans-65\"/>\r\n      <use x=\"826.197266\" xlink:href=\"#DejaVuSans-69\"/>\r\n      <use x=\"853.980469\" xlink:href=\"#DejaVuSans-72\"/>\r\n      <use x=\"892.84375\" xlink:href=\"#DejaVuSans-6f\"/>\r\n      <use x=\"954.025391\" xlink:href=\"#DejaVuSans-73\"/>\r\n      <use x=\"1006.125\" xlink:href=\"#DejaVuSans-20\"/>\r\n      <use x=\"1037.912109\" xlink:href=\"#DejaVuSans-50\"/>\r\n      <use x=\"1094.589844\" xlink:href=\"#DejaVuSans-6f\"/>\r\n      <use x=\"1155.771484\" xlink:href=\"#DejaVuSans-73\"/>\r\n      <use x=\"1207.871094\" xlink:href=\"#DejaVuSans-69\"/>\r\n      <use x=\"1235.654297\" xlink:href=\"#DejaVuSans-74\"/>\r\n      <use x=\"1274.863281\" xlink:href=\"#DejaVuSans-69\"/>\r\n      <use x=\"1302.646484\" xlink:href=\"#DejaVuSans-76\"/>\r\n      <use x=\"1361.826172\" xlink:href=\"#DejaVuSans-6f\"/>\r\n      <use x=\"1423.007812\" xlink:href=\"#DejaVuSans-73\"/>\r\n     </g>\r\n    </g>\r\n   </g>\r\n   <g id=\"line2d_13\">\r\n    <path clip-path=\"url(#pc20fc409a0)\" d=\"M 43.78125 228.439219 \r\nL 102.44074 63.786416 \r\nL 378.58125 10.999219 \r\n\" style=\"fill:none;stroke:#1f77b4;stroke-linecap:square;stroke-width:2;\"/>\r\n   </g>\r\n   <g id=\"line2d_14\">\r\n    <path clip-path=\"url(#pc20fc409a0)\" d=\"M 43.78125 228.439219 \r\nL 89.980391 71.945331 \r\nL 378.58125 10.999219 \r\n\" style=\"fill:none;stroke:#ff7f0e;stroke-linecap:square;stroke-width:2;\"/>\r\n   </g>\r\n   <g id=\"line2d_15\">\r\n    <path clip-path=\"url(#pc20fc409a0)\" d=\"M 43.78125 228.439219 \r\nL 77.615891 57.003703 \r\nL 378.58125 10.999219 \r\n\" style=\"fill:none;stroke:#2ca02c;stroke-linecap:square;stroke-width:2;\"/>\r\n   </g>\r\n   <g id=\"line2d_16\">\r\n    <path clip-path=\"url(#pc20fc409a0)\" d=\"M 43.78125 228.439219 \r\nL 78.382681 110.184101 \r\nL 378.58125 10.999219 \r\n\" style=\"fill:none;stroke:#d62728;stroke-linecap:square;stroke-width:2;\"/>\r\n   </g>\r\n   <g id=\"line2d_17\">\r\n    <path clip-path=\"url(#pc20fc409a0)\" d=\"M 43.78125 228.439219 \r\nL 378.58125 10.999219 \r\n\" style=\"fill:none;stroke:#000000;stroke-dasharray:5.55,2.4;stroke-dashoffset:0;stroke-width:1.5;\"/>\r\n   </g>\r\n   <g id=\"patch_3\">\r\n    <path d=\"M 43.78125 228.439219 \r\nL 43.78125 10.999219 \r\n\" style=\"fill:none;stroke:#000000;stroke-linecap:square;stroke-linejoin:miter;stroke-width:0.8;\"/>\r\n   </g>\r\n   <g id=\"patch_4\">\r\n    <path d=\"M 378.58125 228.439219 \r\nL 378.58125 10.999219 \r\n\" style=\"fill:none;stroke:#000000;stroke-linecap:square;stroke-linejoin:miter;stroke-width:0.8;\"/>\r\n   </g>\r\n   <g id=\"patch_5\">\r\n    <path d=\"M 43.78125 228.439219 \r\nL 378.58125 228.439219 \r\n\" style=\"fill:none;stroke:#000000;stroke-linecap:square;stroke-linejoin:miter;stroke-width:0.8;\"/>\r\n   </g>\r\n   <g id=\"patch_6\">\r\n    <path d=\"M 43.78125 10.999219 \r\nL 378.58125 10.999219 \r\n\" style=\"fill:none;stroke:#000000;stroke-linecap:square;stroke-linejoin:miter;stroke-width:0.8;\"/>\r\n   </g>\r\n   <g id=\"legend_1\">\r\n    <g id=\"patch_7\">\r\n     <path d=\"M 243.6625 223.439219 \r\nL 371.58125 223.439219 \r\nQ 373.58125 223.439219 373.58125 221.439219 \r\nL 373.58125 163.726719 \r\nQ 373.58125 161.726719 371.58125 161.726719 \r\nL 243.6625 161.726719 \r\nQ 241.6625 161.726719 241.6625 163.726719 \r\nL 241.6625 221.439219 \r\nQ 241.6625 223.439219 243.6625 223.439219 \r\nz\r\n\" style=\"fill:#ffffff;opacity:0.8;stroke:#cccccc;stroke-linejoin:miter;\"/>\r\n    </g>\r\n    <g id=\"line2d_18\">\r\n     <path d=\"M 245.6625 169.825156 \r\nL 265.6625 169.825156 \r\n\" style=\"fill:none;stroke:#1f77b4;stroke-linecap:square;stroke-width:2;\"/>\r\n    </g>\r\n    <g id=\"line2d_19\"/>\r\n    <g id=\"text_15\">\r\n     <!-- KNN -->\r\n     <g transform=\"translate(273.6625 173.325156)scale(0.1 -0.1)\">\r\n      <defs>\r\n       <path d=\"M 628 4666 \r\nL 1259 4666 \r\nL 1259 2694 \r\nL 3353 4666 \r\nL 4166 4666 \r\nL 1850 2491 \r\nL 4331 0 \r\nL 3500 0 \r\nL 1259 2247 \r\nL 1259 0 \r\nL 628 0 \r\nL 628 4666 \r\nz\r\n\" id=\"DejaVuSans-4b\" transform=\"scale(0.015625)\"/>\r\n       <path d=\"M 628 4666 \r\nL 1478 4666 \r\nL 3547 763 \r\nL 3547 4666 \r\nL 4159 4666 \r\nL 4159 0 \r\nL 3309 0 \r\nL 1241 3903 \r\nL 1241 0 \r\nL 628 0 \r\nL 628 4666 \r\nz\r\n\" id=\"DejaVuSans-4e\" transform=\"scale(0.015625)\"/>\r\n      </defs>\r\n      <use xlink:href=\"#DejaVuSans-4b\"/>\r\n      <use x=\"65.576172\" xlink:href=\"#DejaVuSans-4e\"/>\r\n      <use x=\"140.380859\" xlink:href=\"#DejaVuSans-4e\"/>\r\n     </g>\r\n    </g>\r\n    <g id=\"line2d_20\">\r\n     <path d=\"M 245.6625 184.503281 \r\nL 265.6625 184.503281 \r\n\" style=\"fill:none;stroke:#ff7f0e;stroke-linecap:square;stroke-width:2;\"/>\r\n    </g>\r\n    <g id=\"line2d_21\"/>\r\n    <g id=\"text_16\">\r\n     <!-- Logistic Regression -->\r\n     <g transform=\"translate(273.6625 188.003281)scale(0.1 -0.1)\">\r\n      <defs>\r\n       <path d=\"M 628 4666 \r\nL 1259 4666 \r\nL 1259 531 \r\nL 3531 531 \r\nL 3531 0 \r\nL 628 0 \r\nL 628 4666 \r\nz\r\n\" id=\"DejaVuSans-4c\" transform=\"scale(0.015625)\"/>\r\n       <path d=\"M 2906 1791 \r\nQ 2906 2416 2648 2759 \r\nQ 2391 3103 1925 3103 \r\nQ 1463 3103 1205 2759 \r\nQ 947 2416 947 1791 \r\nQ 947 1169 1205 825 \r\nQ 1463 481 1925 481 \r\nQ 2391 481 2648 825 \r\nQ 2906 1169 2906 1791 \r\nz\r\nM 3481 434 \r\nQ 3481 -459 3084 -895 \r\nQ 2688 -1331 1869 -1331 \r\nQ 1566 -1331 1297 -1286 \r\nQ 1028 -1241 775 -1147 \r\nL 775 -588 \r\nQ 1028 -725 1275 -790 \r\nQ 1522 -856 1778 -856 \r\nQ 2344 -856 2625 -561 \r\nQ 2906 -266 2906 331 \r\nL 2906 616 \r\nQ 2728 306 2450 153 \r\nQ 2172 0 1784 0 \r\nQ 1141 0 747 490 \r\nQ 353 981 353 1791 \r\nQ 353 2603 747 3093 \r\nQ 1141 3584 1784 3584 \r\nQ 2172 3584 2450 3431 \r\nQ 2728 3278 2906 2969 \r\nL 2906 3500 \r\nL 3481 3500 \r\nL 3481 434 \r\nz\r\n\" id=\"DejaVuSans-67\" transform=\"scale(0.015625)\"/>\r\n       <path d=\"M 3122 3366 \r\nL 3122 2828 \r\nQ 2878 2963 2633 3030 \r\nQ 2388 3097 2138 3097 \r\nQ 1578 3097 1268 2742 \r\nQ 959 2388 959 1747 \r\nQ 959 1106 1268 751 \r\nQ 1578 397 2138 397 \r\nQ 2388 397 2633 464 \r\nQ 2878 531 3122 666 \r\nL 3122 134 \r\nQ 2881 22 2623 -34 \r\nQ 2366 -91 2075 -91 \r\nQ 1284 -91 818 406 \r\nQ 353 903 353 1747 \r\nQ 353 2603 823 3093 \r\nQ 1294 3584 2113 3584 \r\nQ 2378 3584 2631 3529 \r\nQ 2884 3475 3122 3366 \r\nz\r\n\" id=\"DejaVuSans-63\" transform=\"scale(0.015625)\"/>\r\n       <path d=\"M 2841 2188 \r\nQ 3044 2119 3236 1894 \r\nQ 3428 1669 3622 1275 \r\nL 4263 0 \r\nL 3584 0 \r\nL 2988 1197 \r\nQ 2756 1666 2539 1819 \r\nQ 2322 1972 1947 1972 \r\nL 1259 1972 \r\nL 1259 0 \r\nL 628 0 \r\nL 628 4666 \r\nL 2053 4666 \r\nQ 2853 4666 3247 4331 \r\nQ 3641 3997 3641 3322 \r\nQ 3641 2881 3436 2590 \r\nQ 3231 2300 2841 2188 \r\nz\r\nM 1259 4147 \r\nL 1259 2491 \r\nL 2053 2491 \r\nQ 2509 2491 2742 2702 \r\nQ 2975 2913 2975 3322 \r\nQ 2975 3731 2742 3939 \r\nQ 2509 4147 2053 4147 \r\nL 1259 4147 \r\nz\r\n\" id=\"DejaVuSans-52\" transform=\"scale(0.015625)\"/>\r\n       <path d=\"M 3513 2113 \r\nL 3513 0 \r\nL 2938 0 \r\nL 2938 2094 \r\nQ 2938 2591 2744 2837 \r\nQ 2550 3084 2163 3084 \r\nQ 1697 3084 1428 2787 \r\nQ 1159 2491 1159 1978 \r\nL 1159 0 \r\nL 581 0 \r\nL 581 3500 \r\nL 1159 3500 \r\nL 1159 2956 \r\nQ 1366 3272 1645 3428 \r\nQ 1925 3584 2291 3584 \r\nQ 2894 3584 3203 3211 \r\nQ 3513 2838 3513 2113 \r\nz\r\n\" id=\"DejaVuSans-6e\" transform=\"scale(0.015625)\"/>\r\n      </defs>\r\n      <use xlink:href=\"#DejaVuSans-4c\"/>\r\n      <use x=\"53.962891\" xlink:href=\"#DejaVuSans-6f\"/>\r\n      <use x=\"115.144531\" xlink:href=\"#DejaVuSans-67\"/>\r\n      <use x=\"178.621094\" xlink:href=\"#DejaVuSans-69\"/>\r\n      <use x=\"206.404297\" xlink:href=\"#DejaVuSans-73\"/>\r\n      <use x=\"258.503906\" xlink:href=\"#DejaVuSans-74\"/>\r\n      <use x=\"297.712891\" xlink:href=\"#DejaVuSans-69\"/>\r\n      <use x=\"325.496094\" xlink:href=\"#DejaVuSans-63\"/>\r\n      <use x=\"380.476562\" xlink:href=\"#DejaVuSans-20\"/>\r\n      <use x=\"412.263672\" xlink:href=\"#DejaVuSans-52\"/>\r\n      <use x=\"477.246094\" xlink:href=\"#DejaVuSans-65\"/>\r\n      <use x=\"538.769531\" xlink:href=\"#DejaVuSans-67\"/>\r\n      <use x=\"602.246094\" xlink:href=\"#DejaVuSans-72\"/>\r\n      <use x=\"641.109375\" xlink:href=\"#DejaVuSans-65\"/>\r\n      <use x=\"702.632812\" xlink:href=\"#DejaVuSans-73\"/>\r\n      <use x=\"754.732422\" xlink:href=\"#DejaVuSans-73\"/>\r\n      <use x=\"806.832031\" xlink:href=\"#DejaVuSans-69\"/>\r\n      <use x=\"834.615234\" xlink:href=\"#DejaVuSans-6f\"/>\r\n      <use x=\"895.796875\" xlink:href=\"#DejaVuSans-6e\"/>\r\n     </g>\r\n    </g>\r\n    <g id=\"line2d_22\">\r\n     <path d=\"M 245.6625 199.181406 \r\nL 265.6625 199.181406 \r\n\" style=\"fill:none;stroke:#2ca02c;stroke-linecap:square;stroke-width:2;\"/>\r\n    </g>\r\n    <g id=\"line2d_23\"/>\r\n    <g id=\"text_17\">\r\n     <!-- Random Forest -->\r\n     <g transform=\"translate(273.6625 202.681406)scale(0.1 -0.1)\">\r\n      <defs>\r\n       <path d=\"M 3328 2828 \r\nQ 3544 3216 3844 3400 \r\nQ 4144 3584 4550 3584 \r\nQ 5097 3584 5394 3201 \r\nQ 5691 2819 5691 2113 \r\nL 5691 0 \r\nL 5113 0 \r\nL 5113 2094 \r\nQ 5113 2597 4934 2840 \r\nQ 4756 3084 4391 3084 \r\nQ 3944 3084 3684 2787 \r\nQ 3425 2491 3425 1978 \r\nL 3425 0 \r\nL 2847 0 \r\nL 2847 2094 \r\nQ 2847 2600 2669 2842 \r\nQ 2491 3084 2119 3084 \r\nQ 1678 3084 1418 2786 \r\nQ 1159 2488 1159 1978 \r\nL 1159 0 \r\nL 581 0 \r\nL 581 3500 \r\nL 1159 3500 \r\nL 1159 2956 \r\nQ 1356 3278 1631 3431 \r\nQ 1906 3584 2284 3584 \r\nQ 2666 3584 2933 3390 \r\nQ 3200 3197 3328 2828 \r\nz\r\n\" id=\"DejaVuSans-6d\" transform=\"scale(0.015625)\"/>\r\n      </defs>\r\n      <use xlink:href=\"#DejaVuSans-52\"/>\r\n      <use x=\"67.232422\" xlink:href=\"#DejaVuSans-61\"/>\r\n      <use x=\"128.511719\" xlink:href=\"#DejaVuSans-6e\"/>\r\n      <use x=\"191.890625\" xlink:href=\"#DejaVuSans-64\"/>\r\n      <use x=\"255.367188\" xlink:href=\"#DejaVuSans-6f\"/>\r\n      <use x=\"316.548828\" xlink:href=\"#DejaVuSans-6d\"/>\r\n      <use x=\"413.960938\" xlink:href=\"#DejaVuSans-20\"/>\r\n      <use x=\"445.748047\" xlink:href=\"#DejaVuSans-46\"/>\r\n      <use x=\"499.642578\" xlink:href=\"#DejaVuSans-6f\"/>\r\n      <use x=\"560.824219\" xlink:href=\"#DejaVuSans-72\"/>\r\n      <use x=\"599.6875\" xlink:href=\"#DejaVuSans-65\"/>\r\n      <use x=\"661.210938\" xlink:href=\"#DejaVuSans-73\"/>\r\n      <use x=\"713.310547\" xlink:href=\"#DejaVuSans-74\"/>\r\n     </g>\r\n    </g>\r\n    <g id=\"line2d_24\">\r\n     <path d=\"M 245.6625 213.859531 \r\nL 265.6625 213.859531 \r\n\" style=\"fill:none;stroke:#d62728;stroke-linecap:square;stroke-width:2;\"/>\r\n    </g>\r\n    <g id=\"line2d_25\"/>\r\n    <g id=\"text_18\">\r\n     <!-- SVM -->\r\n     <g transform=\"translate(273.6625 217.359531)scale(0.1 -0.1)\">\r\n      <defs>\r\n       <path d=\"M 3425 4513 \r\nL 3425 3897 \r\nQ 3066 4069 2747 4153 \r\nQ 2428 4238 2131 4238 \r\nQ 1616 4238 1336 4038 \r\nQ 1056 3838 1056 3469 \r\nQ 1056 3159 1242 3001 \r\nQ 1428 2844 1947 2747 \r\nL 2328 2669 \r\nQ 3034 2534 3370 2195 \r\nQ 3706 1856 3706 1288 \r\nQ 3706 609 3251 259 \r\nQ 2797 -91 1919 -91 \r\nQ 1588 -91 1214 -16 \r\nQ 841 59 441 206 \r\nL 441 856 \r\nQ 825 641 1194 531 \r\nQ 1563 422 1919 422 \r\nQ 2459 422 2753 634 \r\nQ 3047 847 3047 1241 \r\nQ 3047 1584 2836 1778 \r\nQ 2625 1972 2144 2069 \r\nL 1759 2144 \r\nQ 1053 2284 737 2584 \r\nQ 422 2884 422 3419 \r\nQ 422 4038 858 4394 \r\nQ 1294 4750 2059 4750 \r\nQ 2388 4750 2728 4690 \r\nQ 3069 4631 3425 4513 \r\nz\r\n\" id=\"DejaVuSans-53\" transform=\"scale(0.015625)\"/>\r\n       <path d=\"M 628 4666 \r\nL 1569 4666 \r\nL 2759 1491 \r\nL 3956 4666 \r\nL 4897 4666 \r\nL 4897 0 \r\nL 4281 0 \r\nL 4281 4097 \r\nL 3078 897 \r\nL 2444 897 \r\nL 1241 4097 \r\nL 1241 0 \r\nL 628 0 \r\nL 628 4666 \r\nz\r\n\" id=\"DejaVuSans-4d\" transform=\"scale(0.015625)\"/>\r\n      </defs>\r\n      <use xlink:href=\"#DejaVuSans-53\"/>\r\n      <use x=\"63.476562\" xlink:href=\"#DejaVuSans-56\"/>\r\n      <use x=\"131.884766\" xlink:href=\"#DejaVuSans-4d\"/>\r\n     </g>\r\n    </g>\r\n   </g>\r\n  </g>\r\n </g>\r\n <defs>\r\n  <clipPath id=\"pc20fc409a0\">\r\n   <rect height=\"217.44\" width=\"334.8\" x=\"43.78125\" y=\"10.999219\"/>\r\n  </clipPath>\r\n </defs>\r\n</svg>\r\n",
      "text/plain": [
       "<Figure size 432x288 with 1 Axes>"
      ]
     },
     "metadata": {
      "needs_background": "light"
     },
     "output_type": "display_data"
    }
   ],
   "source": [
    "plt.plot(fprKNN, tprKNN, linewidth = 2, label = \"KNN\")\n",
    "plt.plot(fprLR, tprLR, linewidth = 2, label = \"Logistic Regression\")\n",
    "plt.plot(fprRF, tprRF, linewidth = 2, label = \"Random Forest\")\n",
    "plt.plot(fprSVM, tprSVM, linewidth = 2, label = \"SVM\")\n",
    "plt.plot([0,1], [0,1], 'k--')\n",
    "plt.axis([0,1,0,1])\n",
    "plt.legend()\n",
    "plt.xlabel(\"Taxa de Falsos Positivos\")\n",
    "plt.ylabel(\"Taxa de Verdadeiros Positivos\")"
   ]
  },
  {
   "cell_type": "markdown",
   "metadata": {},
   "source": [
    "| Técnica             | Acurácia           | Precisão           | Revocação          | F1 Score           | ROC AUC            |\n",
    "|---------------------|--------------------|--------------------|--------------------|--------------------|--------------------|\n",
    "| SVM                 | 0.7598 | 0.7691 | 0.5438 | 0.6371| 0.7202 |\n",
    "| Logistic Regression | 0.8068 | 0.7675 | 0.7197 | 0.7428 | 0.7908 |\n",
    "| Random Forest       | 0.8560  | 0.8316 | 0.7884 | 0.8094  | 0.8444 |\n",
    "| KNN                 | 0.7985 | 0.7324 | 0.7572 | 0.7446 | 0.7910 |"
   ]
  }
 ],
 "metadata": {
  "interpreter": {
   "hash": "11ffc019a02cc0e21e59860b66c88ea81995ce9237607e8ab2c087a287ee4867"
  },
  "kernelspec": {
   "display_name": "Python 3.8.5 64-bit ('base': conda)",
   "name": "python3"
  },
  "language_info": {
   "codemirror_mode": {
    "name": "ipython",
    "version": 3
   },
   "file_extension": ".py",
   "mimetype": "text/x-python",
   "name": "python",
   "nbconvert_exporter": "python",
   "pygments_lexer": "ipython3",
   "version": "3.8.5"
  },
  "orig_nbformat": 4
 },
 "nbformat": 4,
 "nbformat_minor": 2
}
