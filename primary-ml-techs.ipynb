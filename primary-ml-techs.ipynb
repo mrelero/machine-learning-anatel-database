{
 "cells": [
  {
   "cell_type": "code",
   "execution_count": 20,
   "source": [
    "import pandas as pd\r\n",
    "from pandas_ods_reader import read_ods\r\n",
    "import matplotlib.pyplot as plt\r\n",
    "import seaborn as sns\r\n",
    "import numpy as np\r\n",
    "import missingno as msno\r\n",
    "dados= pd.read_csv(\"Anatel.csv\")\r\n",
    "\r\n",
    "linhas= dados.index\r\n",
    "colunas= dados.columns\r\n",
    "\r\n",
    "Data_Filter = dados.copy()\r\n",
    "\r\n",
    "Data_Filter = Data_Filter[ dados[\"ANO_BASE\"] > 2016]\r\n",
    "Data_Filter = Data_Filter[ Data_Filter[\"E1\"] == 1]\r\n",
    "Data_Filter = Data_Filter[ Data_Filter[\"E7\"] == 1]\r\n",
    "Data_Filter = Data_Filter[ Data_Filter[\"F3\"] == 1]\r\n",
    "Data_Filter = Data_Filter[ Data_Filter[\"A1_1\"] == 1]\r\n",
    "\r\n",
    "\r\n",
    "Data_Filter[\"ESTADO\"] = Data_Filter[\"ESTADO\"].astype('category').cat.codes\r\n",
    "Data_Filter[\"OPERADORA\"] = Data_Filter[\"OPERADORA\"].astype('category').cat.codes\r\n",
    "Data_Filter.drop(\"Q2\", inplace= True, axis = 1)\r\n",
    "Data_Filter.drop(\"Q2_1\", inplace= True, axis = 1)\r\n",
    "Data_Filter.drop(\"Q2_2\", inplace= True, axis = 1)\r\n",
    "Data_Filter.drop(\"Q3\", inplace= True, axis = 1)\r\n",
    "Data_Filter.drop(\"Q4\", inplace= True, axis = 1)\r\n",
    "Data_Filter.drop(\"Q7a\", inplace= True, axis = 1)\r\n",
    "Data_Filter.drop(\"A1_1\", inplace= True, axis = 1)\r\n",
    "Data_Filter.drop(\"A1_4\", inplace= True, axis = 1)\r\n",
    "Data_Filter.drop(\"A4\", inplace= True, axis = 1)\r\n",
    "Data_Filter.drop(\"IDTNS\", inplace= True, axis = 1)\r\n",
    "Data_Filter.drop(\"G1\", inplace= True, axis = 1)\r\n",
    "Data_Filter.drop(\"G2_1\", inplace= True, axis = 1)\r\n",
    "Data_Filter.drop(\"G2_2\", inplace= True, axis = 1)\r\n",
    "Data_Filter.drop(\"G2_3\", inplace= True, axis = 1)\r\n",
    "Data_Filter.drop(\"E1\", inplace= True, axis = 1)\r\n",
    "Data_Filter.drop(\"E4\", inplace= True, axis = 1)\r\n",
    "Data_Filter.drop(\"E6\", inplace= True, axis = 1)\r\n",
    "Data_Filter.drop(\"E7\", inplace= True, axis = 1)\r\n",
    "Data_Filter.drop(\"F2_1\", inplace= True, axis = 1)\r\n",
    "Data_Filter.drop(\"F2_2\", inplace= True, axis = 1)\r\n",
    "Data_Filter.drop(\"F2_3\", inplace= True, axis = 1)\r\n",
    "Data_Filter.drop(\"F3\", inplace= True, axis = 1)\r\n",
    "Data_Filter.drop(\"I1\", inplace= True, axis = 1)\r\n",
    "Data_Filter.drop(\"PESO\", inplace= True, axis = 1)\r\n",
    "Data_Filter.drop(\"Q1\", inplace= True, axis = 1)\r\n",
    "Data_Filter.drop(\"Q6\", inplace= True, axis = 1)\r\n",
    "Data_Filter.drop(\"H3\", inplace= True, axis = 1)\r\n",
    "Data_Filter.drop(\"COD_IBGE\", inplace= True, axis = 1)\r\n",
    "Data_Filter.drop(\"H2a\", inplace= True, axis = 1)\r\n",
    "Data_Filter.drop(\"I2\", inplace= True, axis = 1)\r\n",
    "Data_Filter.drop(\"TIPO\", inplace= True, axis = 1)\r\n",
    "Data_Filter.drop(\"DATA\", inplace= True, axis = 1)\r\n",
    "Data_Filter.drop(\"H0\", inplace= True, axis = 1)\r\n",
    "\r\n",
    "\r\n",
    "\r\n",
    "\r\n",
    "\r\n",
    "Data_Filter[\"A1_2\"] = Data_Filter[\"A1_2\"].replace(2,1)\r\n",
    "Data_Filter[\"A1_3\"] = Data_Filter[\"A1_3\"].replace(3,1)\r\n",
    "Data_Filter[\"A1_2\"] = Data_Filter[\"A1_2\"].fillna(2)\r\n",
    "Data_Filter[\"A1_3\"] = Data_Filter[\"A1_3\"].fillna(2)\r\n",
    "\r\n",
    "Data_Filter.loc[Data_Filter.J1 > 7, \"J1\"] = \"SATISFEITO\"\r\n",
    "Data_Filter.loc[Data_Filter.J1 != \"SATISFEITO\", \"J1\"] = \"INSATISFEITO\"\r\n",
    "\r\n",
    "Data_Filter[\"J1\"] = Data_Filter[\"J1\"].replace(\"SATISFEITO\",1)\r\n",
    "Data_Filter[\"J1\"] = Data_Filter[\"J1\"].replace(\"INSATISFEITO\",0)\r\n"
   ],
   "outputs": [
    {
     "output_type": "stream",
     "name": "stderr",
     "text": [
      "C:\\Users\\Usuario\\anaconda3\\lib\\site-packages\\IPython\\core\\interactiveshell.py:3146: DtypeWarning: Columns (54) have mixed types.Specify dtype option on import or set low_memory=False.\n",
      "  has_raised = await self.run_ast_nodes(code_ast.body, cell_name,\n"
     ]
    }
   ],
   "metadata": {}
  },
  {
   "cell_type": "markdown",
   "source": [
    "# Split"
   ],
   "metadata": {}
  },
  {
   "cell_type": "code",
   "execution_count": 23,
   "source": [
    "\r\n",
    "from sklearn.model_selection import train_test_split\r\n",
    "from sklearn import svm\r\n",
    "from sklearn import metrics\r\n",
    "from sklearn.metrics import confusion_matrix\r\n",
    "Dados_Y = Data_Filter[\"J1\"].copy()\r\n",
    "Dados_X = Data_Filter.copy()\r\n",
    "Dados_X.drop(\"J1\", inplace= True, axis = 1)\r\n",
    "\r\n",
    "X_train, X_test, y_train, y_test = train_test_split(Dados_X, Dados_Y, test_size=0.3,random_state=109) # 70% training and 30% test\r\n"
   ],
   "outputs": [],
   "metadata": {}
  },
  {
   "cell_type": "markdown",
   "source": [
    "# SVM"
   ],
   "metadata": {}
  },
  {
   "cell_type": "code",
   "execution_count": 24,
   "source": [
    "#Create a svm Classifier\r\n",
    "clf = svm.SVC(kernel='linear') # Linear Kernel\r\n",
    "\r\n",
    "#Train the model using the training sets\r\n",
    "clf.fit(X_train, y_train)\r\n",
    "\r\n",
    "#Predict the response for test dataset\r\n",
    "y_pred = clf.predict(X_test)\r\n",
    "\r\n",
    "# Model Accuracy: how often is the classifier correct?\r\n",
    "print(\"Accuracy:\",metrics.accuracy_score(y_test, y_pred))\r\n",
    "cmSVM = confusion_matrix(y_test, y_pred)"
   ],
   "outputs": [
    {
     "output_type": "stream",
     "name": "stdout",
     "text": [
      "Accuracy: 0.8120946538124453\n"
     ]
    }
   ],
   "metadata": {}
  },
  {
   "cell_type": "markdown",
   "source": [
    "## Results\r\n",
    "\r\n",
    "Matriz de Confusão\r\n",
    "\r\n",
    "|          |     0       |     1      |\r\n",
    "|----------|-------------|------------|\r\n",
    "|     0    |     4062    |     352    |\r\n",
    "|     1    |     720     |     571    |\r\n",
    "\r\n",
    "Accuracy: 0.8120946538124453"
   ],
   "metadata": {}
  },
  {
   "cell_type": "markdown",
   "source": [
    "# Logistics Regression"
   ],
   "metadata": {}
  },
  {
   "cell_type": "code",
   "execution_count": 26,
   "source": [
    "from sklearn.linear_model import LogisticRegression"
   ],
   "outputs": [],
   "metadata": {}
  },
  {
   "cell_type": "code",
   "execution_count": 27,
   "source": [
    "logisticRegr = LogisticRegression()\r\n",
    "\r\n",
    "logisticRegr.fit(X_train, y_train)\r\n",
    "\r\n",
    "y_pred = logisticRegr.predict(X_test)\r\n",
    "\r\n",
    "print(\"Accuracy:\",metrics.accuracy_score(y_test, y_pred))\r\n",
    "cmLR = confusion_matrix(y_test, y_pred)\r\n",
    "\r\n"
   ],
   "outputs": [
    {
     "output_type": "stream",
     "name": "stdout",
     "text": [
      "Accuracy: 0.8099912357581069\n"
     ]
    }
   ],
   "metadata": {}
  },
  {
   "cell_type": "markdown",
   "source": [
    "## Results\r\n",
    "\r\n",
    "|          |     0       |     1      |\r\n",
    "|----------|-------------|------------|\r\n",
    "|     0    |     4199    |     215    |\r\n",
    "|     1    |     869     |     422    |\r\n",
    "\r\n",
    "Accuracy: 0.8099912357581069\r\n"
   ],
   "metadata": {}
  },
  {
   "cell_type": "markdown",
   "source": [
    "## KNN"
   ],
   "metadata": {}
  },
  {
   "cell_type": "code",
   "execution_count": 29,
   "source": [
    "from sklearn.neighbors import KNeighborsClassifier\r\n",
    "\r\n",
    "Knn_Class = KNeighborsClassifier()\r\n",
    "\r\n",
    "Knn_Class.fit(X_train, y_train)\r\n",
    "y_pred = Knn_Class.predict(X_test)\r\n",
    "\r\n",
    "print(\"Accuracy:\",metrics.accuracy_score(y_test, y_pred))\r\n",
    "cmKNN = confusion_matrix(y_test, y_pred)\r\n"
   ],
   "outputs": [
    {
     "output_type": "stream",
     "name": "stdout",
     "text": [
      "Accuracy: 0.8304995617879053\n"
     ]
    }
   ],
   "metadata": {}
  },
  {
   "cell_type": "markdown",
   "source": [
    "## Results\r\n",
    "\r\n",
    "|          |     0       |     1      |\r\n",
    "|----------|-------------|------------|\r\n",
    "|     0    |     4020    |     394    |\r\n",
    "|     1    |     573     |     718    |\r\n",
    "\r\n",
    "Accuracy: 0.8304995617879053"
   ],
   "metadata": {}
  },
  {
   "cell_type": "code",
   "execution_count": null,
   "source": [],
   "outputs": [],
   "metadata": {}
  }
 ],
 "metadata": {
  "orig_nbformat": 4,
  "language_info": {
   "name": "python",
   "version": "3.8.5",
   "mimetype": "text/x-python",
   "codemirror_mode": {
    "name": "ipython",
    "version": 3
   },
   "pygments_lexer": "ipython3",
   "nbconvert_exporter": "python",
   "file_extension": ".py"
  },
  "kernelspec": {
   "name": "python3",
   "display_name": "Python 3.8.5 64-bit ('base': conda)"
  },
  "interpreter": {
   "hash": "11ffc019a02cc0e21e59860b66c88ea81995ce9237607e8ab2c087a287ee4867"
  }
 },
 "nbformat": 4,
 "nbformat_minor": 2
}