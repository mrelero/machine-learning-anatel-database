{
 "cells": [
  {
   "cell_type": "markdown",
   "metadata": {},
   "source": [
    "# Introdução\n",
    "\n",
    "O Modelo 1 consiste aplicar técnicas clássicas de ML para classificar a satisfação de clientes com a Base da Anatel, considerando o seguinte recote: \n",
    "\n",
    "- Dados de 2017 a 2020; \n",
    "- Remoção das Colunas E2, E4, E6 e E8, que representam respostas de satisfação condicionais; \n",
    "- Remoção das Colunas F2_1, F2_2, F2_3, F4_1, F4_2 e F4_3, que representam respostas condicionais em relação a serviços de manutenção e instalação; \n",
    "- Remoção das Colunas A2_1, A2_2, A2_3, A1_4, A3 e A4 que representam respostas condicionais a satisfação dos atendimentos telefonicos, via internet e presencial;\n",
    "- Remoção das Colunas Q2, Q2_1, Q2_2 que representam a área de trabalho do entrevistado. \n",
    "- Remoção da Coluna Q3, que indica se o usuário é cliente da internet. No caso todas as linhas apresentam valores igual a 1. \n",
    "- Remoção da Q4 que pergunta de o respondentes é um dos principais usuários. No caso todas as linhas apresentam valores igual a 1. \n",
    "- Remoção da Coluna Q7a, que é respondida apenas caso o cliente se recusa a responder a idade.\n",
    "- Remoção da Coluna IDTNS que é um indicador de pesquisa. \n",
    "- Remoção das Colunas G1, G2_1, G2_2, G2_3, que representam respostas condicionais em relação a concorrência do serviço na Região.\n",
    "- Remoção da Coluna I1 que indica autorização para identificaçãod as respostas. \n",
    "- Remoção da Coluna COD_IBGE que indica uma codificação do IBGE.\n",
    "- Remoção da Coluna PESO que indica um calculo UFxPrestadora;\n",
    "- Remoção da Coluna Q1 que pergunta se o entrevistao tem interesse em participar da pesquisa. No caso todas as linhas tem mesmo valor. \n",
    "- Remoção da Coluna Q6 que indica se é PF ou PJ. No caso a base só abrange PF's;\n",
    "- Remoção da Coluna H3 que indica uma codificação específica. (No Glossário não fala o que é o H3)\n",
    "- Remoção da Coluna H2a que é respondida em caso de recusa da resposta H2.\n",
    "- Remoção da Coluna I2 que indica autorização para identificação das repostas para operadora citada; \n",
    "- Remoção da Coluna Data, pois é considerado apenas o Ano. \n",
    "- Remoção da Coluna Tipo, pois indica o tipo do serviço pesquisado e no caso é Banda Larga. \n",
    "- Remoção da Coluna H0 que indica o Município, e no caso é considerado só o estado. \n",
    "\n",
    "> O modelo 3 é equivalente ao modelo 1, no entanto aqui é utilizado um classificação multiclasse seguindo os critérios do NPS, como: Nota > =9 - Promotor, 7 e 8 - Neuro, <= 6 - Detrator"
   ]
  },
  {
   "cell_type": "code",
   "execution_count": 73,
   "metadata": {},
   "outputs": [
    {
     "data": {
      "text/plain": [
       "'pt_BR.UTF-8'"
      ]
     },
     "execution_count": 73,
     "metadata": {},
     "output_type": "execute_result"
    }
   ],
   "source": [
    "#Básicas\n",
    "import pandas as pd\n",
    "import matplotlib.pyplot as plt\n",
    "import matplotlib as mpl\n",
    "import seaborn as sns\n",
    "import numpy as np\n",
    "import missingno as msno\n",
    "import skopt\n",
    "from skopt import BayesSearchCV\n",
    "from skopt.space import Real, Categorical, Integer\n",
    "import locale\n",
    "import time\n",
    "from tensorflow import keras\n",
    "import joblib\n",
    "import shap\n",
    "#Sklearn\n",
    "## Funcionalidades\n",
    "from sklearn.model_selection import train_test_split\n",
    "from sklearn.feature_selection import SelectFromModel\n",
    "from sklearn import metrics\n",
    "from sklearn.metrics import confusion_matrix, ConfusionMatrixDisplay\n",
    "from sklearn.model_selection import cross_val_score\n",
    "from sklearn.tree import DecisionTreeClassifier \n",
    "from sklearn.model_selection import GridSearchCV\n",
    "from sklearn.metrics import precision_score, recall_score, f1_score, roc_curve, roc_auc_score, plot_confusion_matrix\n",
    "from sklearn.preprocessing import OneHotEncoder\n",
    "\n",
    "## Técnicas\n",
    "\n",
    "\n",
    "##Ensemble\n",
    "from sklearn.ensemble import RandomForestClassifier\n",
    "from sklearn.ensemble import AdaBoostClassifier\n",
    "from sklearn.ensemble import GradientBoostingClassifier\n",
    "from sklearn.ensemble import HistGradientBoostingClassifier\n",
    "from sklearn.ensemble import VotingClassifier\n",
    "\n",
    "from sklearn import svm\n",
    "from sklearn.svm import SVC\n",
    "from sklearn.linear_model import LogisticRegression\n",
    "from sklearn.neighbors import KNeighborsClassifier\n",
    "from sklearn import tree\n",
    "import matplotlib.ticker as mtick\n",
    "from sklearn.neural_network import MLPClassifier\n",
    "#from bayes_opt import BayesianOptimization\n",
    "\n",
    "from sklearn.model_selection import cross_val_score\n",
    "\n",
    "#Keras\n",
    "from tensorflow import keras\n",
    "#Importar modelo Sequencuial\n",
    "from keras.models import Sequential \n",
    "\n",
    "#utilizar Camadas Densas na Rede Neural - Ligação de um Neuronio com todos os outros\n",
    "from keras.layers import Dense\n",
    "from scikeras.wrappers import KerasClassifier\n",
    "\n",
    "#from tensorflow.keras.wrappers.scikit_learn import KerasClassifier\n",
    "locale.setlocale(locale.LC_ALL, 'pt_BR.UTF-8')\n",
    "\n"
   ]
  },
  {
   "cell_type": "markdown",
   "metadata": {},
   "source": [
    "# Sub-Rotinas"
   ]
  },
  {
   "cell_type": "code",
   "execution_count": 74,
   "metadata": {},
   "outputs": [],
   "source": [
    "def plot_roc_curve(fpr, tpr, legenda):\n",
    "    plt.rcParams['axes.formatter.use_locale'] = True\n",
    "    plt.plot(fpr, tpr, linewidth = 2, label = legenda)\n",
    "    plt.gcf().set_size_inches(12, 6)\n",
    "    plt.plot([0,1], [0,1], 'k--')\n",
    "    plt.axis([0,1,0,1])\n",
    "    plt.rcParams[\"figure.dpi\"] = 100\n",
    "    plt.legend()\n",
    "    plt.xlabel(\"Taxa de Falsos Positivos\")\n",
    "    plt.ylabel(\"Taxa de Verdadeiros Positivos\")\n",
    "\n",
    "\n",
    "def plot_dict_bar(dict):\n",
    "    plt.bar(range(len(dict)), list(dict.values()), align='center')\n",
    "    plt.xticks(range(len(dict)), list(dict.keys()), rotation=90)\n",
    "    plt.show()\n",
    "\n",
    "\n",
    "def NN_Model(taxa_aprendizagem  = 0.001, f_ativacao = \"sigmoid\", f_perda = \"binary_crossentropy\", \n",
    "    camadas_ocultas = 1, neuronios = 24, activation_camada = \"relu\"):\n",
    "    classificador = Sequential() #classificador sequencial\n",
    "\n",
    "    #CAMADA OCULTA\n",
    "    classificador.add(Dense(units = 24, activation = activation_camada, kernel_initializer= 'random_uniform', input_dim = 24))\n",
    "    ## Modificar - > \n",
    "    #segunda camada oculta\n",
    "    for i in range(camadas_ocultas): \n",
    "        classificador.add(Dense(units = neuronios, activation = activation_camada, kernel_initializer= 'random_uniform'))\n",
    "\n",
    "\n",
    "    #Kernel_initializer = Forma de inicializacao dos pesos, no caso foi utilizado randomico uniforme\n",
    "    #input_dim = quantidade de entradas\n",
    "\n",
    "    #CAMADA DE SAIDA\n",
    "    classificador.add (Dense(units = 1, activation=f_ativacao))\n",
    "\n",
    "    otimizador = keras.optimizers.Adam(learning_rate = taxa_aprendizagem, decay = 0.0001, clipvalue = 0.5)\n",
    "\n",
    "    classificador.compile (optimizer= otimizador, loss = f_perda, metrics= ['accuracy'])\n",
    "\n",
    "    return classificador\n",
    "\n",
    "def NN_SciKeras_Model_Mult(hidden_layer_dim, activation_hidden_layer, meta):\n",
    "    # note that meta is a special argument that will be\n",
    "    # handed a dict containing input metadata\n",
    "    n_features_in_ = meta[\"n_features_in_\"]\n",
    "    X_shape_ = meta[\"X_shape_\"]\n",
    "    n_classes_ = meta[\"n_classes_\"]\n",
    "\n",
    "    model = keras.models.Sequential()\n",
    "    model.add(keras.layers.Dense(n_features_in_, input_shape=X_shape_[1:]))\n",
    "    model.add(keras.layers.Activation(\"relu\"))\n",
    "    model.add(keras.layers.Dense(hidden_layer_dim))\n",
    "    model.add(keras.layers.Activation(activation_hidden_layer))\n",
    "    model.add(keras.layers.Dense(hidden_layer_dim))\n",
    "    model.add(keras.layers.Activation(activation_hidden_layer))\n",
    "    model.add(keras.layers.Dense(3))\n",
    "    model.add(keras.layers.Activation(\"softmax\"))\n",
    "    return model\n",
    "\n",
    "def Barh_Plot_0_1(Counts, Models, legend_position):\n",
    "    plt.rcParams['axes.formatter.use_locale'] = True\n",
    "    fig, ax = plt.subplots()\n",
    "    for number, i in enumerate(Models):\n",
    "        b1 = ax.barh(number, Counts.iloc[number][0], color = 'blue')\n",
    "        b2 = ax.barh(number, Counts.iloc[number][1], left=Counts.iloc[number][0], color = 'green')\n",
    "        ax.bar_label(b1, label_type='center', color = 'white')\n",
    "        ax.bar_label(b2, label_type='center', color = 'white')\n",
    "\n",
    "    plt.yticks(range(len(Models)), list(Models.keys()))\n",
    "    plt.legend([\"0\", \"1\"], title=\"Classificação\", loc=legend_position)\n",
    "    plt.rcParams[\"figure.dpi\"] = 100\n",
    "    fig.set_size_inches(10, 10)\n",
    "    plt.show()\n",
    "\n",
    "def PLOT_CrossTabe7_8(Models, Dados_X_78, Dados_Y_78, tipo_normalizacao):\n",
    "    Neutral_DataFrame = Dados_Y_78.copy()\n",
    "    Neutral_DataFrame=Neutral_DataFrame.to_frame().reset_index()\n",
    "    ##Gera o DF de Predições Neutras\n",
    "    for number, i in enumerate(Models):   \n",
    "        y_pred_aux = Models[i].predict(Dados_X_78)\n",
    "        Neutral_DataFrame.insert(number, i, y_pred_aux)\n",
    "    ## Plot HeatMaps\n",
    "    figure, axis = plt.subplots(3, 3)\n",
    "    x_index = -1\n",
    "    y_index = 0\n",
    "    for number, i in enumerate(Models):\n",
    "        nwdf = pd.crosstab(Neutral_DataFrame[\"J1\"], Neutral_DataFrame[i],  normalize=tipo_normalizacao)\n",
    "        if number%3 == 0:\n",
    "            x_index = x_index+1\n",
    "            y_index = 0\n",
    "        nwdf = nwdf.rename(columns={0: \"Insatsifeito\", 1: \"Satisfeito\"})\n",
    "        heatmap_plot = sns.heatmap(nwdf,annot=True , ax = axis[x_index,y_index], cbar = False, fmt = '.2%')\n",
    "        heatmap_plot.set_xticklabels(heatmap_plot.get_xticklabels(), rotation=0, horizontalalignment='center')\n",
    "        y_index = y_index + 1\n",
    "    plt.gcf().set_size_inches(15, 12)\n",
    "    plt.show()\n",
    "\n",
    "def PlotConfusionMatrixs(ConfusioMatrixDict, classes, Models):\n",
    "    figure, axis = plt.subplots(3, 3)\n",
    "    x_index = -1\n",
    "    y_index = 0\n",
    "    for number, i in enumerate(Models):\n",
    "        if number%3 == 0:\n",
    "            x_index = x_index+1\n",
    "            y_index = 0\n",
    "        Disp = ConfusionMatrixDisplay(confusion_matrix = ConfusioMatrixDict[i], display_labels= classes)\n",
    "        Disp.plot(ax = axis[x_index, y_index], colorbar= False)\n",
    "        Disp.ax_.set_title(i)\n",
    "        y_index = y_index + 1\n",
    "    plt.plot()\n",
    "    plt.gcf().set_size_inches(20, 20)\n",
    "    plt.show()\n",
    "\n"
   ]
  },
  {
   "cell_type": "markdown",
   "metadata": {},
   "source": [
    "# Dados\n",
    "\n",
    "Os dados foram tratados conforme os seguintes parâmetros:\n",
    "\n",
    "- Remoção das Colunas conforme descrito na introdução; \n",
    "- A coluna J1, que indica a satisfação geral é a variável de saída, onde Satisfação >= 6 = Satisfeito, e Satisfação < 6 = Insatisfeito. \n",
    "- 1 é Sim, e 2 é Não;\n",
    "- Variáveis categóricas como estados, operadoras, e etc, foram substiuidas por valores numéricos de 1 ao total de opções; \n",
    "- Linhas com celulas igual a 99 foram removidas da base. "
   ]
  },
  {
   "cell_type": "code",
   "execution_count": 75,
   "metadata": {},
   "outputs": [
    {
     "name": "stderr",
     "output_type": "stream",
     "text": [
      "Columns (54) have mixed types. Specify dtype option on import or set low_memory=False.\n"
     ]
    }
   ],
   "source": [
    "dados= pd.read_csv(r\"C:\\Users\\Matheus\\Desktop\\Mestrado\\Projeto\\machine-learning-anatel-database\\raw_data\\Anatel.csv\")\n",
    "\n",
    "linhas= dados.index\n",
    "colunas= dados.columns\n",
    "\n",
    "Data_Filter = dados.copy()\n",
    "\n",
    "Data_Filter = Data_Filter[ dados[\"ANO_BASE\"] > 2016]\n",
    "\n",
    "\n",
    "Data_Filter[\"ESTADO\"] = Data_Filter[\"ESTADO\"].astype('category').cat.codes\n",
    "Data_Filter[\"OPERADORA\"] = Data_Filter[\"OPERADORA\"].astype('category').cat.codes\n",
    "Data_Filter.drop(\"Q2\", inplace= True, axis = 1)\n",
    "Data_Filter.drop(\"Q2_1\", inplace= True, axis = 1)\n",
    "Data_Filter.drop(\"Q2_2\", inplace= True, axis = 1)\n",
    "Data_Filter.drop(\"Q3\", inplace= True, axis = 1)\n",
    "Data_Filter.drop(\"Q4\", inplace= True, axis = 1)\n",
    "Data_Filter.drop(\"Q7a\", inplace= True, axis = 1)\n",
    "Data_Filter.drop(\"A2_1\", inplace= True, axis = 1)\n",
    "Data_Filter.drop(\"A2_2\", inplace= True, axis = 1)\n",
    "Data_Filter.drop(\"A2_3\", inplace= True, axis = 1)\n",
    "Data_Filter.drop(\"A1_4\", inplace= True, axis = 1)\n",
    "Data_Filter.drop(\"A3\", inplace= True, axis = 1)\n",
    "Data_Filter.drop(\"A4\", inplace= True, axis = 1)\n",
    "Data_Filter.drop(\"IDTNS\", inplace= True, axis = 1)\n",
    "Data_Filter.drop(\"G1\", inplace= True, axis = 1)\n",
    "Data_Filter.drop(\"G2_1\", inplace= True, axis = 1)\n",
    "Data_Filter.drop(\"G2_2\", inplace= True, axis = 1)\n",
    "Data_Filter.drop(\"G2_3\", inplace= True, axis = 1)\n",
    "Data_Filter.drop(\"E2\", inplace= True, axis = 1)\n",
    "Data_Filter.drop(\"E4\", inplace= True, axis = 1)\n",
    "Data_Filter.drop(\"E6\", inplace= True, axis = 1)\n",
    "Data_Filter.drop(\"E8\", inplace= True, axis = 1)\n",
    "Data_Filter.drop(\"F2_1\", inplace= True, axis = 1)\n",
    "Data_Filter.drop(\"F2_2\", inplace= True, axis = 1)\n",
    "Data_Filter.drop(\"F2_3\", inplace= True, axis = 1)\n",
    "Data_Filter.drop(\"F4_1\", inplace= True, axis = 1)\n",
    "Data_Filter.drop(\"F4_2\", inplace= True, axis = 1)\n",
    "Data_Filter.drop(\"F4_3\", inplace= True, axis = 1)\n",
    "Data_Filter.drop(\"I1\", inplace= True, axis = 1)\n",
    "Data_Filter.drop(\"PESO\", inplace= True, axis = 1)\n",
    "Data_Filter.drop(\"Q1\", inplace= True, axis = 1)\n",
    "Data_Filter.drop(\"Q6\", inplace= True, axis = 1)\n",
    "Data_Filter.drop(\"H3\", inplace= True, axis = 1)\n",
    "Data_Filter.drop(\"COD_IBGE\", inplace= True, axis = 1)\n",
    "Data_Filter.drop(\"H2a\", inplace= True, axis = 1)\n",
    "Data_Filter.drop(\"I2\", inplace= True, axis = 1)\n",
    "Data_Filter.drop(\"TIPO\", inplace= True, axis = 1)\n",
    "Data_Filter.drop(\"DATA\", inplace= True, axis = 1)\n",
    "Data_Filter.drop(\"H0\", inplace= True, axis = 1)\n",
    "\n",
    "\n",
    "\n",
    "\n",
    "\n",
    "Data_Filter[\"A1_2\"] = Data_Filter[\"A1_2\"].replace(2,1)\n",
    "Data_Filter[\"A1_3\"] = Data_Filter[\"A1_3\"].replace(3,1)\n",
    "Data_Filter[\"A1_2\"] = Data_Filter[\"A1_2\"].fillna(2)\n",
    "Data_Filter[\"A1_3\"] = Data_Filter[\"A1_3\"].fillna(2)\n",
    "Data_Filter[\"A1_1\"] = Data_Filter[\"A1_1\"].fillna(2)\n",
    "\n",
    "\n",
    "\n",
    "Data_Filter = Data_Filter[Data_Filter.J1 != 99]\n",
    "Data_Filter = Data_Filter[Data_Filter.B1_1 != 99]\n",
    "Data_Filter = Data_Filter[Data_Filter.B1_2 != 99]\n",
    "Data_Filter = Data_Filter[Data_Filter.C1_1 != 99]\n",
    "Data_Filter = Data_Filter[Data_Filter.C1_2 != 99]\n",
    "Data_Filter = Data_Filter[Data_Filter.C1_3 != 99]\n",
    "Data_Filter = Data_Filter[Data_Filter.D1_1 != 99]\n",
    "Data_Filter = Data_Filter[Data_Filter.D1_2 != 99]\n",
    "Data_Filter = Data_Filter[Data_Filter.H1 != 99]\n",
    "Data_Filter = Data_Filter[Data_Filter.Q7 != 999999] ##Remove pessoas que não respondem a idade\n",
    "Data_Filter = Data_Filter[Data_Filter.H1 != 999999] ##Remove pessoas que não respondem quantas pessoas moram na residência\n",
    "Data_Filter = Data_Filter[Data_Filter.H1 != 99999] ##Remove pessoas que não respondem quantas pessoas moram na residência \n",
    "Data_Filter = Data_Filter[Data_Filter.H2 != 999999] ##Remove pessoas que não respondem a renda\n",
    "Data_Filter = Data_Filter[Data_Filter.H2 != 999998] ##Remove pessoas que não respondem a renda\n",
    "Data_Filter = Data_Filter[Data_Filter.H2 != 999997] ##Remove pessoas que não respondem a renda\n",
    "\n",
    "\n",
    "## Novo Modelo\n",
    "#### Remove os dados 7 e 8\n",
    "Data_Filter.loc[Data_Filter.J1 <= 6, \"J1\"] = \"Detrator\"\n",
    "Data_Filter.loc[Data_Filter.J1 == 9, \"J1\"] = \"Promotor\"\n",
    "Data_Filter.loc[Data_Filter.J1 == 10, \"J1\"] = \"Promotor\"\n",
    "Data_Filter.loc[Data_Filter.J1 == 7, \"J1\"] = \"Neutro\"\n",
    "Data_Filter.loc[Data_Filter.J1 == 8, \"J1\"] = \"Neutro\"\n",
    "\n",
    "\n",
    "\n",
    "Data_Filter.loc[Data_Filter.J1 ==  \"Detrator\", \"J1\"] = 0\n",
    "Data_Filter.loc[Data_Filter.J1 == \"Promotor\", \"J1\"] = 2\n",
    "Data_Filter.loc[Data_Filter.J1 == \"Neutro\", \"J1\"] = 1\n",
    "Data_Filter[\"J1\"] = Data_Filter[\"J1\"].astype(\"category\")\n",
    "\n",
    "\n",
    "\n",
    "\n",
    "#Data_Filter.info()\n",
    "\n",
    "Dados_Y = Data_Filter[\"J1\"].copy()\n",
    "Dados_X = Data_Filter.copy()\n",
    "Dados_X.drop(\"J1\", inplace= True, axis = 1)\n",
    "\n",
    "encoder = OneHotEncoder()\n",
    "\n",
    "\n",
    "X_train, X_test, y_train, y_test = train_test_split(Dados_X, Dados_Y, test_size=0.3,random_state=109) # 70% training and 30% tes\n",
    "\n",
    "#X_train, X_test, y_train, y_test = train_test_split(Dados_X, Dados_Y, test_size=0.5,random_state=109)\n",
    "\n",
    "Y_NN_Train = encoder.fit(y_train.values.reshape(-1,1))\n",
    "Y_NN_Train = Y_NN_Train.transform(y_train.values.reshape(-1,1)).toarray()\n",
    "\n",
    "T_NN_Test = encoder.fit(y_test.values.reshape(-1,1))\n",
    "T_NN_Test = T_NN_Test.transform(y_test.values.reshape(-1,1)).toarray()\n"
   ]
  },
  {
   "cell_type": "code",
   "execution_count": 76,
   "metadata": {},
   "outputs": [
    {
     "data": {
      "text/plain": [
       "0    27108\n",
       "1    25076\n",
       "2    12463\n",
       "Name: J1, dtype: int64"
      ]
     },
     "execution_count": 76,
     "metadata": {},
     "output_type": "execute_result"
    }
   ],
   "source": [
    "Dados_Y.value_counts()"
   ]
  },
  {
   "cell_type": "code",
   "execution_count": 6,
   "metadata": {},
   "outputs": [
    {
     "data": {
      "text/html": [
       "<div>\n",
       "<style scoped>\n",
       "    .dataframe tbody tr th:only-of-type {\n",
       "        vertical-align: middle;\n",
       "    }\n",
       "\n",
       "    .dataframe tbody tr th {\n",
       "        vertical-align: top;\n",
       "    }\n",
       "\n",
       "    .dataframe thead th {\n",
       "        text-align: right;\n",
       "    }\n",
       "</style>\n",
       "<table border=\"1\" class=\"dataframe\">\n",
       "  <thead>\n",
       "    <tr style=\"text-align: right;\">\n",
       "      <th></th>\n",
       "      <th>OPERADORA</th>\n",
       "      <th>ESTADO</th>\n",
       "      <th>ANO_BASE</th>\n",
       "      <th>Q5</th>\n",
       "      <th>Q7</th>\n",
       "      <th>Q8</th>\n",
       "      <th>B1_1</th>\n",
       "      <th>B1_2</th>\n",
       "      <th>C1_1</th>\n",
       "      <th>C1_2</th>\n",
       "      <th>...</th>\n",
       "      <th>A1_2</th>\n",
       "      <th>A1_3</th>\n",
       "      <th>E1</th>\n",
       "      <th>E3</th>\n",
       "      <th>E5</th>\n",
       "      <th>E7</th>\n",
       "      <th>F1</th>\n",
       "      <th>F3</th>\n",
       "      <th>H1</th>\n",
       "      <th>H2</th>\n",
       "    </tr>\n",
       "  </thead>\n",
       "  <tbody>\n",
       "    <tr>\n",
       "      <th>count</th>\n",
       "      <td>64647.000000</td>\n",
       "      <td>64647.000000</td>\n",
       "      <td>64647.000000</td>\n",
       "      <td>64647.000000</td>\n",
       "      <td>64647.000000</td>\n",
       "      <td>64647.000000</td>\n",
       "      <td>64647.000000</td>\n",
       "      <td>64647.000000</td>\n",
       "      <td>64647.000000</td>\n",
       "      <td>64647.000000</td>\n",
       "      <td>...</td>\n",
       "      <td>64647.000000</td>\n",
       "      <td>64647.000000</td>\n",
       "      <td>64647.000000</td>\n",
       "      <td>64647.000000</td>\n",
       "      <td>64647.000000</td>\n",
       "      <td>64647.000000</td>\n",
       "      <td>64647.000000</td>\n",
       "      <td>64647.000000</td>\n",
       "      <td>64647.000000</td>\n",
       "      <td>64647.000000</td>\n",
       "    </tr>\n",
       "    <tr>\n",
       "      <th>mean</th>\n",
       "      <td>8.139032</td>\n",
       "      <td>13.008477</td>\n",
       "      <td>2018.520612</td>\n",
       "      <td>1.182128</td>\n",
       "      <td>41.771080</td>\n",
       "      <td>1.508670</td>\n",
       "      <td>6.835244</td>\n",
       "      <td>6.386097</td>\n",
       "      <td>6.735285</td>\n",
       "      <td>6.108574</td>\n",
       "      <td>...</td>\n",
       "      <td>1.583105</td>\n",
       "      <td>1.862345</td>\n",
       "      <td>1.526258</td>\n",
       "      <td>1.594923</td>\n",
       "      <td>1.726499</td>\n",
       "      <td>1.333519</td>\n",
       "      <td>1.851671</td>\n",
       "      <td>1.523644</td>\n",
       "      <td>1.936888</td>\n",
       "      <td>5631.666589</td>\n",
       "    </tr>\n",
       "    <tr>\n",
       "      <th>std</th>\n",
       "      <td>3.249403</td>\n",
       "      <td>7.518184</td>\n",
       "      <td>1.179470</td>\n",
       "      <td>0.385953</td>\n",
       "      <td>13.586814</td>\n",
       "      <td>0.499929</td>\n",
       "      <td>2.655812</td>\n",
       "      <td>2.906586</td>\n",
       "      <td>2.792815</td>\n",
       "      <td>2.939749</td>\n",
       "      <td>...</td>\n",
       "      <td>0.493049</td>\n",
       "      <td>0.344540</td>\n",
       "      <td>0.499314</td>\n",
       "      <td>0.490911</td>\n",
       "      <td>0.445759</td>\n",
       "      <td>0.471474</td>\n",
       "      <td>0.355428</td>\n",
       "      <td>0.499445</td>\n",
       "      <td>0.950224</td>\n",
       "      <td>9229.153857</td>\n",
       "    </tr>\n",
       "    <tr>\n",
       "      <th>min</th>\n",
       "      <td>0.000000</td>\n",
       "      <td>0.000000</td>\n",
       "      <td>2017.000000</td>\n",
       "      <td>1.000000</td>\n",
       "      <td>18.000000</td>\n",
       "      <td>1.000000</td>\n",
       "      <td>0.000000</td>\n",
       "      <td>0.000000</td>\n",
       "      <td>0.000000</td>\n",
       "      <td>0.000000</td>\n",
       "      <td>...</td>\n",
       "      <td>1.000000</td>\n",
       "      <td>1.000000</td>\n",
       "      <td>1.000000</td>\n",
       "      <td>1.000000</td>\n",
       "      <td>1.000000</td>\n",
       "      <td>1.000000</td>\n",
       "      <td>1.000000</td>\n",
       "      <td>1.000000</td>\n",
       "      <td>1.000000</td>\n",
       "      <td>170.000000</td>\n",
       "    </tr>\n",
       "    <tr>\n",
       "      <th>25%</th>\n",
       "      <td>7.000000</td>\n",
       "      <td>7.000000</td>\n",
       "      <td>2017.000000</td>\n",
       "      <td>1.000000</td>\n",
       "      <td>31.000000</td>\n",
       "      <td>1.000000</td>\n",
       "      <td>5.000000</td>\n",
       "      <td>5.000000</td>\n",
       "      <td>5.000000</td>\n",
       "      <td>4.000000</td>\n",
       "      <td>...</td>\n",
       "      <td>1.000000</td>\n",
       "      <td>2.000000</td>\n",
       "      <td>1.000000</td>\n",
       "      <td>1.000000</td>\n",
       "      <td>1.000000</td>\n",
       "      <td>1.000000</td>\n",
       "      <td>2.000000</td>\n",
       "      <td>1.000000</td>\n",
       "      <td>1.000000</td>\n",
       "      <td>2000.000000</td>\n",
       "    </tr>\n",
       "    <tr>\n",
       "      <th>50%</th>\n",
       "      <td>8.000000</td>\n",
       "      <td>13.000000</td>\n",
       "      <td>2019.000000</td>\n",
       "      <td>1.000000</td>\n",
       "      <td>40.000000</td>\n",
       "      <td>2.000000</td>\n",
       "      <td>7.000000</td>\n",
       "      <td>7.000000</td>\n",
       "      <td>7.000000</td>\n",
       "      <td>7.000000</td>\n",
       "      <td>...</td>\n",
       "      <td>2.000000</td>\n",
       "      <td>2.000000</td>\n",
       "      <td>2.000000</td>\n",
       "      <td>2.000000</td>\n",
       "      <td>2.000000</td>\n",
       "      <td>1.000000</td>\n",
       "      <td>2.000000</td>\n",
       "      <td>2.000000</td>\n",
       "      <td>2.000000</td>\n",
       "      <td>3500.000000</td>\n",
       "    </tr>\n",
       "    <tr>\n",
       "      <th>75%</th>\n",
       "      <td>10.000000</td>\n",
       "      <td>19.000000</td>\n",
       "      <td>2020.000000</td>\n",
       "      <td>1.000000</td>\n",
       "      <td>51.000000</td>\n",
       "      <td>2.000000</td>\n",
       "      <td>9.000000</td>\n",
       "      <td>8.000000</td>\n",
       "      <td>9.000000</td>\n",
       "      <td>8.000000</td>\n",
       "      <td>...</td>\n",
       "      <td>2.000000</td>\n",
       "      <td>2.000000</td>\n",
       "      <td>2.000000</td>\n",
       "      <td>2.000000</td>\n",
       "      <td>2.000000</td>\n",
       "      <td>2.000000</td>\n",
       "      <td>2.000000</td>\n",
       "      <td>2.000000</td>\n",
       "      <td>2.000000</td>\n",
       "      <td>6000.000000</td>\n",
       "    </tr>\n",
       "    <tr>\n",
       "      <th>max</th>\n",
       "      <td>13.000000</td>\n",
       "      <td>26.000000</td>\n",
       "      <td>2020.000000</td>\n",
       "      <td>2.000000</td>\n",
       "      <td>97.000000</td>\n",
       "      <td>2.000000</td>\n",
       "      <td>10.000000</td>\n",
       "      <td>10.000000</td>\n",
       "      <td>10.000000</td>\n",
       "      <td>10.000000</td>\n",
       "      <td>...</td>\n",
       "      <td>2.000000</td>\n",
       "      <td>2.000000</td>\n",
       "      <td>2.000000</td>\n",
       "      <td>2.000000</td>\n",
       "      <td>2.000000</td>\n",
       "      <td>2.000000</td>\n",
       "      <td>2.000000</td>\n",
       "      <td>2.000000</td>\n",
       "      <td>20.000000</td>\n",
       "      <td>800000.000000</td>\n",
       "    </tr>\n",
       "  </tbody>\n",
       "</table>\n",
       "<p>8 rows × 24 columns</p>\n",
       "</div>"
      ],
      "text/plain": [
       "          OPERADORA        ESTADO      ANO_BASE            Q5            Q7  \\\n",
       "count  64647.000000  64647.000000  64647.000000  64647.000000  64647.000000   \n",
       "mean       8.139032     13.008477   2018.520612      1.182128     41.771080   \n",
       "std        3.249403      7.518184      1.179470      0.385953     13.586814   \n",
       "min        0.000000      0.000000   2017.000000      1.000000     18.000000   \n",
       "25%        7.000000      7.000000   2017.000000      1.000000     31.000000   \n",
       "50%        8.000000     13.000000   2019.000000      1.000000     40.000000   \n",
       "75%       10.000000     19.000000   2020.000000      1.000000     51.000000   \n",
       "max       13.000000     26.000000   2020.000000      2.000000     97.000000   \n",
       "\n",
       "                 Q8          B1_1          B1_2          C1_1          C1_2  \\\n",
       "count  64647.000000  64647.000000  64647.000000  64647.000000  64647.000000   \n",
       "mean       1.508670      6.835244      6.386097      6.735285      6.108574   \n",
       "std        0.499929      2.655812      2.906586      2.792815      2.939749   \n",
       "min        1.000000      0.000000      0.000000      0.000000      0.000000   \n",
       "25%        1.000000      5.000000      5.000000      5.000000      4.000000   \n",
       "50%        2.000000      7.000000      7.000000      7.000000      7.000000   \n",
       "75%        2.000000      9.000000      8.000000      9.000000      8.000000   \n",
       "max        2.000000     10.000000     10.000000     10.000000     10.000000   \n",
       "\n",
       "       ...          A1_2          A1_3            E1            E3  \\\n",
       "count  ...  64647.000000  64647.000000  64647.000000  64647.000000   \n",
       "mean   ...      1.583105      1.862345      1.526258      1.594923   \n",
       "std    ...      0.493049      0.344540      0.499314      0.490911   \n",
       "min    ...      1.000000      1.000000      1.000000      1.000000   \n",
       "25%    ...      1.000000      2.000000      1.000000      1.000000   \n",
       "50%    ...      2.000000      2.000000      2.000000      2.000000   \n",
       "75%    ...      2.000000      2.000000      2.000000      2.000000   \n",
       "max    ...      2.000000      2.000000      2.000000      2.000000   \n",
       "\n",
       "                 E5            E7            F1            F3            H1  \\\n",
       "count  64647.000000  64647.000000  64647.000000  64647.000000  64647.000000   \n",
       "mean       1.726499      1.333519      1.851671      1.523644      1.936888   \n",
       "std        0.445759      0.471474      0.355428      0.499445      0.950224   \n",
       "min        1.000000      1.000000      1.000000      1.000000      1.000000   \n",
       "25%        1.000000      1.000000      2.000000      1.000000      1.000000   \n",
       "50%        2.000000      1.000000      2.000000      2.000000      2.000000   \n",
       "75%        2.000000      2.000000      2.000000      2.000000      2.000000   \n",
       "max        2.000000      2.000000      2.000000      2.000000     20.000000   \n",
       "\n",
       "                  H2  \n",
       "count   64647.000000  \n",
       "mean     5631.666589  \n",
       "std      9229.153857  \n",
       "min       170.000000  \n",
       "25%      2000.000000  \n",
       "50%      3500.000000  \n",
       "75%      6000.000000  \n",
       "max    800000.000000  \n",
       "\n",
       "[8 rows x 24 columns]"
      ]
     },
     "execution_count": 6,
     "metadata": {},
     "output_type": "execute_result"
    }
   ],
   "source": [
    "Describe = Data_Filter.describe()\n",
    "\n",
    "Describe"
   ]
  },
  {
   "cell_type": "code",
   "execution_count": 7,
   "metadata": {},
   "outputs": [
    {
     "name": "stdout",
     "output_type": "stream",
     "text": [
      "<class 'pandas.core.frame.DataFrame'>\n",
      "Int64Index: 64647 entries, 1 to 91934\n",
      "Data columns (total 25 columns):\n",
      " #   Column     Non-Null Count  Dtype  \n",
      "---  ------     --------------  -----  \n",
      " 0   OPERADORA  64647 non-null  int8   \n",
      " 1   ESTADO     64647 non-null  int8   \n",
      " 2   ANO_BASE   64647 non-null  int64  \n",
      " 3   Q5         64647 non-null  int64  \n",
      " 4   Q7         64647 non-null  int64  \n",
      " 5   Q8         64647 non-null  int64  \n",
      " 6   J1         64647 non-null  object \n",
      " 7   B1_1       64647 non-null  int64  \n",
      " 8   B1_2       64647 non-null  int64  \n",
      " 9   C1_1       64647 non-null  int64  \n",
      " 10  C1_2       64647 non-null  int64  \n",
      " 11  C1_3       64647 non-null  int64  \n",
      " 12  D1_1       64647 non-null  int64  \n",
      " 13  D1_2       64647 non-null  int64  \n",
      " 14  A1_1       64647 non-null  float64\n",
      " 15  A1_2       64647 non-null  float64\n",
      " 16  A1_3       64647 non-null  float64\n",
      " 17  E1         64647 non-null  int64  \n",
      " 18  E3         64647 non-null  int64  \n",
      " 19  E5         64647 non-null  float64\n",
      " 20  E7         64647 non-null  float64\n",
      " 21  F1         64647 non-null  int64  \n",
      " 22  F3         64647 non-null  int64  \n",
      " 23  H1         64647 non-null  int64  \n",
      " 24  H2         64647 non-null  int64  \n",
      "dtypes: float64(5), int64(17), int8(2), object(1)\n",
      "memory usage: 12.0+ MB\n"
     ]
    }
   ],
   "source": [
    "Info = Data_Filter.info()\n",
    "\n",
    "Info"
   ]
  },
  {
   "cell_type": "markdown",
   "metadata": {},
   "source": [
    "## Grid Search"
   ]
  },
  {
   "cell_type": "code",
   "execution_count": 8,
   "metadata": {},
   "outputs": [],
   "source": [
    "parameter_space_NN = {\n",
    "    \"hidden_layer_dim\": [24, 48, 96],\n",
    "    \"loss\": [\"categorical_crossentropy\"],\n",
    "    \"optimizer\": [\"adam\", \"sgd\"],\n",
    "    \"optimizer__learning_rate\": [0.0001, 0.001, 0.1],\n",
    "    \"activation_hidden_layer\" : [\"sigmoid\", \"relu\"]\n",
    "}\n",
    "\n",
    "param_space_ada_boost = {'n_estimators':[1, 5, 10],\n",
    "                        'learning_rate':[0.1, 1, 2]}\n",
    "\n",
    "##Não foi utilizado exponential loss por que é 3 classes, nesse caso tem erro. \n",
    "param_space_gra_boost = {\n",
    "              \"loss\":[\"log_loss\"],\n",
    "              \"max_features\":[\"log2\",\"sqrt\"],\n",
    "              'learning_rate': [0.01,0.05,0.1,1,0.5], \n",
    "              'max_depth': [3,4,5],\n",
    "              'min_samples_leaf': [4,5,6],\n",
    "              'subsample': [0.6,0.7,0.8],\n",
    "              'n_estimators': [5,10,15,20],\n",
    "              }\n",
    "\n",
    "              \n",
    "param_space_histogram_boost = {'max_iter': [1000,1200,1500],\n",
    "                            'learning_rate': [0.1],\n",
    "                            'max_depth' : [25, 50, 75],\n",
    "                            'l2_regularization': [1.5],}\n",
    "\n",
    "\n",
    "param_space_logistic_regression = {'penalty': ['l2', 'none'],\n",
    "                                    'tol': [1e-6, 1e-2],\n",
    "                                    'fit_intercept': [True, False],\n",
    "                                    'max_iter': [10000]}\n",
    "\n",
    "param_space_random_forest = {   'n_estimators': [200, 400],\n",
    "                                'max_depth' : [6,12,24],\n",
    "                                'min_samples_split': [2,4],\n",
    "                                'min_samples_leaf': [2,4],\n",
    "                                'criterion' :['gini', 'entropy']}\n",
    "                                \n",
    "param_space_decision_tree = {   'splitter': [\"best\", \"random\"],\n",
    "                                'criterion' :['gini', 'entropy'],\n",
    "                                'max_depth': [6,12,16,24],\n",
    "                                'min_samples_leaf': [2,4],\n",
    "                                'min_samples_split': [2,4]}\n",
    "\n",
    "param_space_knn = {'n_neighbors': [1, 2, 4, 6, 7, 10],\n",
    "                    'weights': [\"uniform\", \"distance\"]}\n",
    "\n",
    "#param_space_svm = {  'C': [0.1,1, 10, 100], 'gamma': [1,0.1,0.01,0.001],'kernel': ['rbf', 'poly', 'sigmoid'],'probability': [True]}\n",
    "\n",
    "param_space_svm = { 'gamma': [1,0.1,0.01,0.001],\n",
    "                    'kernel': ['rbf', 'sigmoid'],\n",
    "                    'C': [1, 10, 100, 1000] }\n",
    "\n",
    "\n",
    "## Voltar o C; \n",
    "## Tirar o Poly e testar com sigmoid, \n",
    "\n",
    "#Setar Learning_Rate_Init\n",
    "\n",
    "Param_Grid = { \"RF\": param_space_random_forest, \"KNN\": param_space_knn, \"Logistic Regression\": param_space_logistic_regression, \n",
    " \"Decision Tree\": param_space_decision_tree, \"SVM\": param_space_svm, \"Histogram Gradient Boosting\":param_space_histogram_boost,\n",
    " \"Gradient Boosting\":param_space_gra_boost, \"Ada Boost\": param_space_ada_boost, \"Neural Network\": parameter_space_NN}\n",
    "\n",
    "Rand_Forest_Class_GRID = RandomForestClassifier()\n",
    "Knn_Class_GRID = KNeighborsClassifier()\n",
    "logisticRegr_GRID = LogisticRegression()\n",
    "Decision_Tree_GRID = tree.DecisionTreeClassifier()\n",
    "SVM_Class_GRID = SVC() # rbf  Kernel\n",
    "Hist_Grad_Boost_Class_GRID = HistGradientBoostingClassifier()\n",
    "Grad_Boost_Class_GRID = GradientBoostingClassifier()\n",
    "Ada_Boost_Class_GRID = AdaBoostClassifier()\n",
    "\n",
    "NeuralNetwork_GRID =KerasClassifier(\n",
    "    NN_SciKeras_Model_Mult,\n",
    "    loss=\"categorical_crossentropy\",optimizer=\"adam\",\n",
    "    hidden_layer_dim=48, epochs=50, activation_hidden_layer = \"relu\", verbose=0\n",
    ")\n",
    "\n",
    "\n",
    "classifiers_GRID_Input = dict()\n",
    "\n",
    "classifiers_GRID_Input = {\"RF\": Rand_Forest_Class_GRID, \"KNN\": Knn_Class_GRID, \"Logistic Regression\": logisticRegr_GRID,\n",
    " \"Decision Tree\": Decision_Tree_GRID, \"SVM\": SVM_Class_GRID, \"Histogram Gradient Boosting\":Hist_Grad_Boost_Class_GRID,\n",
    " \"Gradient Boosting\":Grad_Boost_Class_GRID, \"Ada Boost\": Ada_Boost_Class_GRID, \"Neural Network\": NeuralNetwork_GRID}\n",
    "\n",
    "classifiers_GRID_Output = dict()\n",
    "\n",
    "\n",
    "classifiers_GRID_Result = dict()\n",
    "\n",
    "classifiers_GRID_Result = {\"RF\": Rand_Forest_Class_GRID, \"KNN\": Knn_Class_GRID, \"Logistic Regression\": logisticRegr_GRID,\n",
    " \"Decision Tree\": Decision_Tree_GRID, \"SVM\": SVM_Class_GRID, \"Histogram Gradient Boosting\":Hist_Grad_Boost_Class_GRID,\n",
    " \"Gradient Boosting\":Grad_Boost_Class_GRID, \"Ada Boost\": Ada_Boost_Class_GRID, \"Neural Network\": NeuralNetwork_GRID}\n",
    "\n",
    "time_GRID = dict()\n",
    "estimators_GRID = dict()\n",
    "params_GRID = dict()"
   ]
  },
  {
   "cell_type": "code",
   "execution_count": 39,
   "metadata": {},
   "outputs": [
    {
     "name": "stdout",
     "output_type": "stream",
     "text": [
      "\n",
      " Iniciando Grid Search:  Neural Network \n",
      "\n",
      "Neural Network Concluido em: 6767.83  segundos \n",
      "\n",
      "Progresso:  11 % \n",
      "\n"
     ]
    }
   ],
   "source": [
    "progress = 0\n",
    "total = len(Param_Grid)\n",
    "desempenho_ml_GRID = pd.DataFrame(columns=['ML','Acc','Pre_Promoter','Pre_Neutro','Pre_Detr','Recall_Promoter','Recall_Neutro','Recall_Detr', 'F1_Promoter','F1_Neutro','F1_Detr', 'Tempo'])\n",
    "#Param_Grid = { \"SVM\": param_space_svm}\n",
    "Param_Grid = {\"Neural Network\": parameter_space_NN}\n",
    "#Param_Grid = {\"Neural Network\": parameter_space_NN, \"Gradient Boosting\":param_space_gra_boost}\n",
    "\n",
    "for number, i in enumerate(Param_Grid):\n",
    "    print(\"\\n Iniciando Grid Search: \", i,\"\\n\")\n",
    "    start = time.time()\n",
    "    classifiers_GRID_Output[i] = GridSearchCV(estimator=classifiers_GRID_Input[i], param_grid=Param_Grid[i], cv= 5) \n",
    "    classifiers_GRID_Output[i].fit(X_train, y_train)\n",
    "\n",
    "    classifiers_GRID_Result[i].set_params(**classifiers_GRID_Output[i].best_params_)\n",
    "    if i == \"SVM\":\n",
    "        classifiers_GRID_Result[i].set_params(**{'probability': True})\n",
    "    \n",
    "    classifiers_GRID_Result[i].fit(X_train, y_train)\n",
    "    y_pred = classifiers_GRID_Result[i].predict(X_test)\n",
    "    end = time.time()\n",
    "    time_GRID[i] = end - start\n",
    "    acc = metrics.accuracy_score(y_test, y_pred)\n",
    "    #y_pred_prob = classifiers_GRID_Result[i].predict_proba(X_test)\n",
    "    #y_pred_prob = y_pred_prob[:, 1]\n",
    "    cm = confusion_matrix(y_test, y_pred)\n",
    "\n",
    "    pr_prom = precision_score(y_test,y_pred, labels=['Promotor'], average='micro')\n",
    "    pr_neutro = precision_score(y_test,y_pred, labels=['Neutro'], average='micro')\n",
    "    pr_detr = precision_score(y_test,y_pred, labels=['Detrator'], average='micro')\n",
    "\n",
    "    rec_prom = recall_score(y_test,y_pred,labels=['Promotor'], average='micro')\n",
    "    rec_neutro = recall_score(y_test,y_pred, labels=['Neutro'], average='micro')\n",
    "    rec_detr = recall_score(y_test,y_pred, labels=['Detrator'], average='micro')\n",
    "\n",
    "    F1_prom = f1_score(y_test, y_pred, labels=['Promotor'], average='micro')\n",
    "    F1_neutro = f1_score(y_test, y_pred, labels=['Neutro'], average='micro')\n",
    "    F1_detr = f1_score(y_test, y_pred, labels=['Detrator'], average='micro')\n",
    "    #fpr, tpr, threshold = roc_curve(y_test,y_pred_prob)\n",
    "    #plot_roc_curve(fpr,tpr,  i)\n",
    "    #auc = roc_auc_score(y_test,y_pred_prob)\n",
    "    \n",
    "    desempenho_ml_GRID.loc[number] = pd.Series({'ML': i, 'Acc': acc, 'Pre_Promoter': pr_prom,'Pre_Neutro':pr_neutro ,'Pre_Detr':pr_detr ,\n",
    "    'Recall_Promoter':rec_prom,'Recall_Neutro':rec_neutro,'Recall_Detr':rec_detr, 'F1_Promoter':F1_prom,'F1_Neutro':F1_neutro,'F1_Detr':F1_detr ,'Tempo': time_GRID[i]})\n",
    "    \n",
    "    params_GRID[i] = classifiers_GRID_Output[i].best_params_\n",
    "    print(i,\"Concluido em:\", \"%.2f\" % time_GRID[i],\" segundos \\n\")\n",
    "    progress=progress+1\n",
    "    aux = progress/total\n",
    "    aux = aux*100\n",
    "    print(\"Progresso: \",\"%.0f\" % aux,\"% \\n\")\n",
    "\n"
   ]
  },
  {
   "cell_type": "code",
   "execution_count": 40,
   "metadata": {},
   "outputs": [
    {
     "data": {
      "text/html": [
       "<div>\n",
       "<style scoped>\n",
       "    .dataframe tbody tr th:only-of-type {\n",
       "        vertical-align: middle;\n",
       "    }\n",
       "\n",
       "    .dataframe tbody tr th {\n",
       "        vertical-align: top;\n",
       "    }\n",
       "\n",
       "    .dataframe thead th {\n",
       "        text-align: right;\n",
       "    }\n",
       "</style>\n",
       "<table border=\"1\" class=\"dataframe\">\n",
       "  <thead>\n",
       "    <tr style=\"text-align: right;\">\n",
       "      <th></th>\n",
       "      <th>ML</th>\n",
       "      <th>Acc</th>\n",
       "      <th>Pre_Promoter</th>\n",
       "      <th>Pre_Neutro</th>\n",
       "      <th>Pre_Detr</th>\n",
       "      <th>Recall_Promoter</th>\n",
       "      <th>Recall_Neutro</th>\n",
       "      <th>Recall_Detr</th>\n",
       "      <th>F1_Promoter</th>\n",
       "      <th>F1_Neutro</th>\n",
       "      <th>F1_Detr</th>\n",
       "      <th>Tempo</th>\n",
       "    </tr>\n",
       "  </thead>\n",
       "  <tbody>\n",
       "    <tr>\n",
       "      <th>0</th>\n",
       "      <td>Neural Network</td>\n",
       "      <td>0.754548</td>\n",
       "      <td>0.707592</td>\n",
       "      <td>0.669301</td>\n",
       "      <td>0.885559</td>\n",
       "      <td>0.74155</td>\n",
       "      <td>0.758273</td>\n",
       "      <td>0.757126</td>\n",
       "      <td>0.724173</td>\n",
       "      <td>0.711015</td>\n",
       "      <td>0.816322</td>\n",
       "      <td>6767.829022</td>\n",
       "    </tr>\n",
       "  </tbody>\n",
       "</table>\n",
       "</div>"
      ],
      "text/plain": [
       "               ML       Acc Pre_Promoter Pre_Neutro  Pre_Detr Recall_Promoter  \\\n",
       "0  Neural Network  0.754548     0.707592   0.669301  0.885559         0.74155   \n",
       "\n",
       "  Recall_Neutro Recall_Detr F1_Promoter F1_Neutro   F1_Detr        Tempo  \n",
       "0      0.758273    0.757126    0.724173  0.711015  0.816322  6767.829022  "
      ]
     },
     "execution_count": 40,
     "metadata": {},
     "output_type": "execute_result"
    }
   ],
   "source": [
    "desempenho_ml_GRID"
   ]
  },
  {
   "cell_type": "markdown",
   "metadata": {},
   "source": [
    "## Salve Models"
   ]
  },
  {
   "cell_type": "code",
   "execution_count": 41,
   "metadata": {},
   "outputs": [
    {
     "name": "stdout",
     "output_type": "stream",
     "text": [
      "INFO:tensorflow:Assets written to: NeuralNewtorkSciKeras\\assets\n"
     ]
    }
   ],
   "source": [
    "\n",
    "#joblib.dump(classifiers_GRID_Result[\"RF\"], \"RF.sav\")\n",
    "#joblib.dump(classifiers_GRID_Result[\"Gradient Boosting\"], \"GradientBoosting.sav\")\n",
    "#joblib.dump(classifiers_GRID_Result[\"KNN\"], \"KNN.sav\")\n",
    "#joblib.dump(classifiers_GRID_Result[\"Logistic Regression\"], \"LogisticRegression.sav\")\n",
    "#joblib.dump(classifiers_GRID_Result[\"Decision Tree\"], \"DecisionTree.sav\")\n",
    "#joblib.dump(classifiers_GRID_Result[\"SVM\"], \"SVM.sav\")\n",
    "#joblib.dump(classifiers_GRID_Result[\"Histogram Gradient Boosting\"], \"HistogramGradientBoosting.sav\")\n",
    "#joblib.dump(classifiers_GRID_Result[\"Ada Boost\"], \"AdaBoost.sav\")\n",
    "filename = \"NeuralNewtorkSciKeras\"\n",
    "classifiers_GRID_Result[\"Neural Network\"].model_.save(filename)"
   ]
  },
  {
   "cell_type": "markdown",
   "metadata": {},
   "source": [
    "## Load Models"
   ]
  },
  {
   "cell_type": "code",
   "execution_count": 9,
   "metadata": {},
   "outputs": [],
   "source": [
    "Models_Loaded_GridSearch = dict()\n",
    "\n",
    "for i in classifiers_GRID_Result:\n",
    "    if i == \"Neural Network\":\n",
    "        filename = \"NeuralNewtorkSciKeras\"\n",
    "        aux = keras.models.load_model(filename)\n",
    "        Models_Loaded_GridSearch[i] = KerasClassifier(aux)\n",
    "        Models_Loaded_GridSearch[i].initialize(X_train, y_train)\n",
    "    else:\n",
    "        filenameaux = i + \".sav\"\n",
    "        filename = filenameaux.replace(\" \",\"\")\n",
    "        Models_Loaded_GridSearch[i] = joblib.load(filename)"
   ]
  },
  {
   "cell_type": "code",
   "execution_count": 43,
   "metadata": {},
   "outputs": [
    {
     "name": "stdout",
     "output_type": "stream",
     "text": [
      "{'RF': RandomForestClassifier(max_depth=24, min_samples_leaf=4, n_estimators=400), 'KNN': KNeighborsClassifier(n_neighbors=10, weights='distance'), 'Logistic Regression': LogisticRegression(fit_intercept=False, max_iter=10000, tol=1e-06), 'Decision Tree': DecisionTreeClassifier(criterion='entropy', max_depth=6, min_samples_leaf=2), 'SVM': SVC(C=10, gamma=0.001, probability=True), 'Histogram Gradient Boosting': HistGradientBoostingClassifier(l2_regularization=1.5, max_depth=25,\n",
      "                               max_iter=1000), 'Gradient Boosting': GradientBoostingClassifier(max_depth=5, max_features='log2', min_samples_leaf=5,\n",
      "                           n_estimators=20, subsample=0.7), 'Ada Boost': AdaBoostClassifier(learning_rate=1, n_estimators=10), 'Neural Network': KerasClassifier(\n",
      "\tmodel=<keras.engine.sequential.Sequential object at 0x000002D251EC7D90>\n",
      "\tbuild_fn=None\n",
      "\twarm_start=False\n",
      "\trandom_state=None\n",
      "\toptimizer=rmsprop\n",
      "\tloss=None\n",
      "\tmetrics=None\n",
      "\tbatch_size=None\n",
      "\tvalidation_batch_size=None\n",
      "\tverbose=1\n",
      "\tcallbacks=None\n",
      "\tvalidation_split=0.0\n",
      "\tshuffle=True\n",
      "\trun_eagerly=False\n",
      "\tepochs=1\n",
      "\tclass_weight=None\n",
      ")}\n"
     ]
    }
   ],
   "source": [
    "print(Models_Loaded_GridSearch)"
   ]
  },
  {
   "cell_type": "markdown",
   "metadata": {},
   "source": [
    "## Loaded Models"
   ]
  },
  {
   "cell_type": "code",
   "execution_count": 44,
   "metadata": {},
   "outputs": [
    {
     "name": "stdout",
     "output_type": "stream",
     "text": [
      "1011/1011 [==============================] - 1s 978us/step\n"
     ]
    }
   ],
   "source": [
    "confusion_dict = dict()\n",
    "for number, i in enumerate(Models_Loaded_GridSearch):\n",
    "    y_pred = Models_Loaded_GridSearch[i].predict(X_test)\n",
    "    acc = metrics.accuracy_score(y_test, y_pred)\n",
    "    #y_pred_prob = classifiers_GRID_Result[i].predict_proba(X_test)\n",
    "    #y_pred_prob = y_pred_prob[:, 1]\n",
    "    confusion_dict[i] = confusion_matrix(y_test, y_pred)\n",
    "\n",
    "    pr_prom = precision_score(y_test,y_pred, labels=['Promotor'], average='micro')\n",
    "    pr_neutro = precision_score(y_test,y_pred, labels=['Neutro'], average='micro')\n",
    "    pr_detr = precision_score(y_test,y_pred, labels=['Detrator'], average='micro')\n",
    "\n",
    "    rec_prom = recall_score(y_test,y_pred,labels=['Promotor'], average='micro')\n",
    "    rec_neutro = recall_score(y_test,y_pred, labels=['Neutro'], average='micro')\n",
    "    rec_detr = recall_score(y_test,y_pred, labels=['Detrator'], average='micro')\n",
    "\n",
    "    F1_prom = f1_score(y_test, y_pred, labels=['Promotor'], average='micro')\n",
    "    F1_neutro = f1_score(y_test, y_pred, labels=['Neutro'], average='micro')\n",
    "    F1_detr = f1_score(y_test, y_pred, labels=['Detrator'], average='micro')\n",
    "    #fpr, tpr, threshold = roc_curve(y_test,y_pred_prob)\n",
    "    #plot_roc_curve(fpr,tpr,  i)\n",
    "    #auc = roc_auc_score(y_test,y_pred_prob)\n",
    "    \n",
    "    desempenho_ml_GRID.loc[number] = pd.Series({'ML': i, 'Acc': acc, 'Pre_Promoter': pr_prom,'Pre_Neutro':pr_neutro ,'Pre_Detr':pr_detr ,\n",
    "    'Recall_Promoter':rec_prom,'Recall_Neutro':rec_neutro,'Recall_Detr':rec_detr, 'F1_Promoter':F1_prom,'F1_Neutro':F1_neutro,'F1_Detr':F1_detr ,'Tempo': 0})\n",
    "    "
   ]
  },
  {
   "cell_type": "code",
   "execution_count": 45,
   "metadata": {},
   "outputs": [
    {
     "data": {
      "text/html": [
       "<div>\n",
       "<style scoped>\n",
       "    .dataframe tbody tr th:only-of-type {\n",
       "        vertical-align: middle;\n",
       "    }\n",
       "\n",
       "    .dataframe tbody tr th {\n",
       "        vertical-align: top;\n",
       "    }\n",
       "\n",
       "    .dataframe thead th {\n",
       "        text-align: right;\n",
       "    }\n",
       "</style>\n",
       "<table border=\"1\" class=\"dataframe\">\n",
       "  <thead>\n",
       "    <tr style=\"text-align: right;\">\n",
       "      <th></th>\n",
       "      <th>ML</th>\n",
       "      <th>Acc</th>\n",
       "      <th>Pre_Promoter</th>\n",
       "      <th>Pre_Neutro</th>\n",
       "      <th>Pre_Detr</th>\n",
       "      <th>Recall_Promoter</th>\n",
       "      <th>Recall_Neutro</th>\n",
       "      <th>Recall_Detr</th>\n",
       "      <th>F1_Promoter</th>\n",
       "      <th>F1_Neutro</th>\n",
       "      <th>F1_Detr</th>\n",
       "      <th>Tempo</th>\n",
       "    </tr>\n",
       "  </thead>\n",
       "  <tbody>\n",
       "    <tr>\n",
       "      <th>0</th>\n",
       "      <td>RF</td>\n",
       "      <td>0.772584</td>\n",
       "      <td>0.786061</td>\n",
       "      <td>0.697946</td>\n",
       "      <td>0.843608</td>\n",
       "      <td>0.645568</td>\n",
       "      <td>0.765787</td>\n",
       "      <td>0.83769</td>\n",
       "      <td>0.708921</td>\n",
       "      <td>0.730294</td>\n",
       "      <td>0.840639</td>\n",
       "      <td>0</td>\n",
       "    </tr>\n",
       "    <tr>\n",
       "      <th>1</th>\n",
       "      <td>KNN</td>\n",
       "      <td>0.691004</td>\n",
       "      <td>0.66391</td>\n",
       "      <td>0.592682</td>\n",
       "      <td>0.830585</td>\n",
       "      <td>0.499203</td>\n",
       "      <td>0.741966</td>\n",
       "      <td>0.732757</td>\n",
       "      <td>0.569894</td>\n",
       "      <td>0.658976</td>\n",
       "      <td>0.77861</td>\n",
       "      <td>0</td>\n",
       "    </tr>\n",
       "    <tr>\n",
       "      <th>2</th>\n",
       "      <td>Logistic Regression</td>\n",
       "      <td>0.764881</td>\n",
       "      <td>0.759808</td>\n",
       "      <td>0.683966</td>\n",
       "      <td>0.854468</td>\n",
       "      <td>0.657685</td>\n",
       "      <td>0.763789</td>\n",
       "      <td>0.815537</td>\n",
       "      <td>0.705068</td>\n",
       "      <td>0.721677</td>\n",
       "      <td>0.834549</td>\n",
       "      <td>0</td>\n",
       "    </tr>\n",
       "    <tr>\n",
       "      <th>3</th>\n",
       "      <td>Decision Tree</td>\n",
       "      <td>0.761694</td>\n",
       "      <td>0.760832</td>\n",
       "      <td>0.688181</td>\n",
       "      <td>0.836803</td>\n",
       "      <td>0.629943</td>\n",
       "      <td>0.752598</td>\n",
       "      <td>0.831118</td>\n",
       "      <td>0.689228</td>\n",
       "      <td>0.718949</td>\n",
       "      <td>0.833951</td>\n",
       "      <td>0</td>\n",
       "    </tr>\n",
       "    <tr>\n",
       "      <th>4</th>\n",
       "      <td>SVM</td>\n",
       "      <td>0.744617</td>\n",
       "      <td>0.725311</td>\n",
       "      <td>0.66657</td>\n",
       "      <td>0.835417</td>\n",
       "      <td>0.632334</td>\n",
       "      <td>0.736211</td>\n",
       "      <td>0.804386</td>\n",
       "      <td>0.675639</td>\n",
       "      <td>0.699662</td>\n",
       "      <td>0.819608</td>\n",
       "      <td>0</td>\n",
       "    </tr>\n",
       "    <tr>\n",
       "      <th>5</th>\n",
       "      <td>Histogram Gradient Boosting</td>\n",
       "      <td>0.773883</td>\n",
       "      <td>0.759858</td>\n",
       "      <td>0.705953</td>\n",
       "      <td>0.847634</td>\n",
       "      <td>0.682079</td>\n",
       "      <td>0.752678</td>\n",
       "      <td>0.835992</td>\n",
       "      <td>0.718871</td>\n",
       "      <td>0.728567</td>\n",
       "      <td>0.841773</td>\n",
       "      <td>0</td>\n",
       "    </tr>\n",
       "    <tr>\n",
       "      <th>6</th>\n",
       "      <td>Gradient Boosting</td>\n",
       "      <td>0.77079</td>\n",
       "      <td>0.786937</td>\n",
       "      <td>0.693029</td>\n",
       "      <td>0.846212</td>\n",
       "      <td>0.630102</td>\n",
       "      <td>0.774021</td>\n",
       "      <td>0.832964</td>\n",
       "      <td>0.699841</td>\n",
       "      <td>0.731289</td>\n",
       "      <td>0.839536</td>\n",
       "      <td>0</td>\n",
       "    </tr>\n",
       "    <tr>\n",
       "      <th>7</th>\n",
       "      <td>Ada Boost</td>\n",
       "      <td>0.742018</td>\n",
       "      <td>0.711388</td>\n",
       "      <td>0.674697</td>\n",
       "      <td>0.818109</td>\n",
       "      <td>0.665338</td>\n",
       "      <td>0.689528</td>\n",
       "      <td>0.826023</td>\n",
       "      <td>0.687593</td>\n",
       "      <td>0.682032</td>\n",
       "      <td>0.822047</td>\n",
       "      <td>0</td>\n",
       "    </tr>\n",
       "    <tr>\n",
       "      <th>8</th>\n",
       "      <td>Neural Network</td>\n",
       "      <td>0.754548</td>\n",
       "      <td>0.707592</td>\n",
       "      <td>0.669301</td>\n",
       "      <td>0.885559</td>\n",
       "      <td>0.74155</td>\n",
       "      <td>0.758273</td>\n",
       "      <td>0.757126</td>\n",
       "      <td>0.724173</td>\n",
       "      <td>0.711015</td>\n",
       "      <td>0.816322</td>\n",
       "      <td>0</td>\n",
       "    </tr>\n",
       "  </tbody>\n",
       "</table>\n",
       "</div>"
      ],
      "text/plain": [
       "                            ML       Acc Pre_Promoter Pre_Neutro  Pre_Detr  \\\n",
       "0                           RF  0.772584     0.786061   0.697946  0.843608   \n",
       "1                          KNN  0.691004      0.66391   0.592682  0.830585   \n",
       "2          Logistic Regression  0.764881     0.759808   0.683966  0.854468   \n",
       "3                Decision Tree  0.761694     0.760832   0.688181  0.836803   \n",
       "4                          SVM  0.744617     0.725311    0.66657  0.835417   \n",
       "5  Histogram Gradient Boosting  0.773883     0.759858   0.705953  0.847634   \n",
       "6            Gradient Boosting   0.77079     0.786937   0.693029  0.846212   \n",
       "7                    Ada Boost  0.742018     0.711388   0.674697  0.818109   \n",
       "8               Neural Network  0.754548     0.707592   0.669301  0.885559   \n",
       "\n",
       "  Recall_Promoter Recall_Neutro Recall_Detr F1_Promoter F1_Neutro   F1_Detr  \\\n",
       "0        0.645568      0.765787     0.83769    0.708921  0.730294  0.840639   \n",
       "1        0.499203      0.741966    0.732757    0.569894  0.658976   0.77861   \n",
       "2        0.657685      0.763789    0.815537    0.705068  0.721677  0.834549   \n",
       "3        0.629943      0.752598    0.831118    0.689228  0.718949  0.833951   \n",
       "4        0.632334      0.736211    0.804386    0.675639  0.699662  0.819608   \n",
       "5        0.682079      0.752678    0.835992    0.718871  0.728567  0.841773   \n",
       "6        0.630102      0.774021    0.832964    0.699841  0.731289  0.839536   \n",
       "7        0.665338      0.689528    0.826023    0.687593  0.682032  0.822047   \n",
       "8         0.74155      0.758273    0.757126    0.724173  0.711015  0.816322   \n",
       "\n",
       "  Tempo  \n",
       "0     0  \n",
       "1     0  \n",
       "2     0  \n",
       "3     0  \n",
       "4     0  \n",
       "5     0  \n",
       "6     0  \n",
       "7     0  \n",
       "8     0  "
      ]
     },
     "execution_count": 45,
     "metadata": {},
     "output_type": "execute_result"
    }
   ],
   "source": [
    "desempenho_ml_GRID"
   ]
  },
  {
   "cell_type": "code",
   "execution_count": 25,
   "metadata": {},
   "outputs": [
    {
     "name": "stdout",
     "output_type": "stream",
     "text": [
      "[[13542     0     0]\n",
      " [12510     0     0]\n",
      " [ 6272     0     0]]\n"
     ]
    }
   ],
   "source": [
    "print(confusion_dict[\"Neural Network\"])"
   ]
  },
  {
   "cell_type": "code",
   "execution_count": 46,
   "metadata": {},
   "outputs": [
    {
     "data": {
      "image/png": "[encoded data removed]",
      "text/plain": [
       "<Figure size 1440x1440 with 9 Axes>"
      ]
     },
     "metadata": {
      "needs_background": "light"
     },
     "output_type": "display_data"
    }
   ],
   "source": [
    "PlotConfusionMatrixs(confusion_dict, [\"Promotor\", \"Neutro\", \"Detrator\"], Models_Loaded_GridSearch)\n"
   ]
  },
  {
   "cell_type": "markdown",
   "metadata": {},
   "source": [
    "# SHAP"
   ]
  },
  {
   "cell_type": "markdown",
   "metadata": {},
   "source": [
    "## Random Forest"
   ]
  },
  {
   "cell_type": "code",
   "execution_count": 77,
   "metadata": {},
   "outputs": [],
   "source": [
    "### Aplicação em modo Desenvolvimento\n",
    "X_train, X_test, y_train, y_test = train_test_split(Dados_X, Dados_Y, test_size=0.0025,random_state=109)"
   ]
  },
  {
   "cell_type": "code",
   "execution_count": 78,
   "metadata": {},
   "outputs": [
    {
     "data": {
      "text/html": [
       "<style>#sk-container-id-5 {color: black;background-color: white;}#sk-container-id-5 pre{padding: 0;}#sk-container-id-5 div.sk-toggleable {background-color: white;}#sk-container-id-5 label.sk-toggleable__label {cursor: pointer;display: block;width: 100%;margin-bottom: 0;padding: 0.3em;box-sizing: border-box;text-align: center;}#sk-container-id-5 label.sk-toggleable__label-arrow:before {content: \"▸\";float: left;margin-right: 0.25em;color: #696969;}#sk-container-id-5 label.sk-toggleable__label-arrow:hover:before {color: black;}#sk-container-id-5 div.sk-estimator:hover label.sk-toggleable__label-arrow:before {color: black;}#sk-container-id-5 div.sk-toggleable__content {max-height: 0;max-width: 0;overflow: hidden;text-align: left;background-color: #f0f8ff;}#sk-container-id-5 div.sk-toggleable__content pre {margin: 0.2em;color: black;border-radius: 0.25em;background-color: #f0f8ff;}#sk-container-id-5 input.sk-toggleable__control:checked~div.sk-toggleable__content {max-height: 200px;max-width: 100%;overflow: auto;}#sk-container-id-5 input.sk-toggleable__control:checked~label.sk-toggleable__label-arrow:before {content: \"▾\";}#sk-container-id-5 div.sk-estimator input.sk-toggleable__control:checked~label.sk-toggleable__label {background-color: #d4ebff;}#sk-container-id-5 div.sk-label input.sk-toggleable__control:checked~label.sk-toggleable__label {background-color: #d4ebff;}#sk-container-id-5 input.sk-hidden--visually {border: 0;clip: rect(1px 1px 1px 1px);clip: rect(1px, 1px, 1px, 1px);height: 1px;margin: -1px;overflow: hidden;padding: 0;position: absolute;width: 1px;}#sk-container-id-5 div.sk-estimator {font-family: monospace;background-color: #f0f8ff;border: 1px dotted black;border-radius: 0.25em;box-sizing: border-box;margin-bottom: 0.5em;}#sk-container-id-5 div.sk-estimator:hover {background-color: #d4ebff;}#sk-container-id-5 div.sk-parallel-item::after {content: \"\";width: 100%;border-bottom: 1px solid gray;flex-grow: 1;}#sk-container-id-5 div.sk-label:hover label.sk-toggleable__label {background-color: #d4ebff;}#sk-container-id-5 div.sk-serial::before {content: \"\";position: absolute;border-left: 1px solid gray;box-sizing: border-box;top: 0;bottom: 0;left: 50%;z-index: 0;}#sk-container-id-5 div.sk-serial {display: flex;flex-direction: column;align-items: center;background-color: white;padding-right: 0.2em;padding-left: 0.2em;position: relative;}#sk-container-id-5 div.sk-item {position: relative;z-index: 1;}#sk-container-id-5 div.sk-parallel {display: flex;align-items: stretch;justify-content: center;background-color: white;position: relative;}#sk-container-id-5 div.sk-item::before, #sk-container-id-5 div.sk-parallel-item::before {content: \"\";position: absolute;border-left: 1px solid gray;box-sizing: border-box;top: 0;bottom: 0;left: 50%;z-index: -1;}#sk-container-id-5 div.sk-parallel-item {display: flex;flex-direction: column;z-index: 1;position: relative;background-color: white;}#sk-container-id-5 div.sk-parallel-item:first-child::after {align-self: flex-end;width: 50%;}#sk-container-id-5 div.sk-parallel-item:last-child::after {align-self: flex-start;width: 50%;}#sk-container-id-5 div.sk-parallel-item:only-child::after {width: 0;}#sk-container-id-5 div.sk-dashed-wrapped {border: 1px dashed gray;margin: 0 0.4em 0.5em 0.4em;box-sizing: border-box;padding-bottom: 0.4em;background-color: white;}#sk-container-id-5 div.sk-label label {font-family: monospace;font-weight: bold;display: inline-block;line-height: 1.2em;}#sk-container-id-5 div.sk-label-container {text-align: center;}#sk-container-id-5 div.sk-container {/* jupyter's `normalize.less` sets `[hidden] { display: none; }` but bootstrap.min.css set `[hidden] { display: none !important; }` so we also need the `!important` here to be able to override the default hidden behavior on the sphinx rendered scikit-learn.org. See: https://github.com/scikit-learn/scikit-learn/issues/21755 */display: inline-block !important;position: relative;}#sk-container-id-5 div.sk-text-repr-fallback {display: none;}</style><div id=\"sk-container-id-5\" class=\"sk-top-container\"><div class=\"sk-text-repr-fallback\"><pre>RandomForestClassifier(max_depth=24, min_samples_leaf=4, n_estimators=400)</pre><b>In a Jupyter environment, please rerun this cell to show the HTML representation or trust the notebook. <br />On GitHub, the HTML representation is unable to render, please try loading this page with nbviewer.org.</b></div><div class=\"sk-container\" hidden><div class=\"sk-item\"><div class=\"sk-estimator sk-toggleable\"><input class=\"sk-toggleable__control sk-hidden--visually\" id=\"sk-estimator-id-5\" type=\"checkbox\" checked><label for=\"sk-estimator-id-5\" class=\"sk-toggleable__label sk-toggleable__label-arrow\">RandomForestClassifier</label><div class=\"sk-toggleable__content\"><pre>RandomForestClassifier(max_depth=24, min_samples_leaf=4, n_estimators=400)</pre></div></div></div></div></div>"
      ],
      "text/plain": [
       "RandomForestClassifier(max_depth=24, min_samples_leaf=4, n_estimators=400)"
      ]
     },
     "execution_count": 78,
     "metadata": {},
     "output_type": "execute_result"
    }
   ],
   "source": [
    "RF = RandomForestClassifier(max_depth=24, min_samples_leaf=4, n_estimators=400)\n",
    "RF.fit(X_train, y_train)"
   ]
  },
  {
   "cell_type": "code",
   "execution_count": 79,
   "metadata": {},
   "outputs": [],
   "source": [
    "explainer = shap.TreeExplainer(RF)\n",
    "shap_values_RF = explainer.shap_values(X_test) "
   ]
  },
  {
   "cell_type": "code",
   "execution_count": 102,
   "metadata": {},
   "outputs": [
    {
     "name": "stdout",
     "output_type": "stream",
     "text": [
      "Detrator\n"
     ]
    },
    {
     "data": {
      "image/png": "[encoded data removed]",
      "text/plain": [
       "<Figure size 576x396 with 2 Axes>"
      ]
     },
     "metadata": {
      "needs_background": "light"
     },
     "output_type": "display_data"
    }
   ],
   "source": [
    "print(\"Detrator\")\n",
    "shap.summary_plot(shap_values_RF[0], X_test, title='Detrator', plot_type = 'violin', max_display = 10)"
   ]
  },
  {
   "cell_type": "code",
   "execution_count": 103,
   "metadata": {},
   "outputs": [
    {
     "name": "stdout",
     "output_type": "stream",
     "text": [
      "Neutro\n"
     ]
    },
    {
     "data": {
      "image/png": "[encoded data removed]",
      "text/plain": [
       "<Figure size 576x396 with 2 Axes>"
      ]
     },
     "metadata": {
      "needs_background": "light"
     },
     "output_type": "display_data"
    }
   ],
   "source": [
    "print(\"Neutro\")\n",
    "shap.summary_plot(shap_values_RF[1], X_test, title='Neutro', plot_type = 'violin', max_display = 10)"
   ]
  },
  {
   "cell_type": "code",
   "execution_count": 104,
   "metadata": {},
   "outputs": [
    {
     "name": "stdout",
     "output_type": "stream",
     "text": [
      "Promotor\n"
     ]
    },
    {
     "data": {
      "image/png": "[encoded data removed]",
      "text/plain": [
       "<Figure size 576x396 with 2 Axes>"
      ]
     },
     "metadata": {
      "needs_background": "light"
     },
     "output_type": "display_data"
    }
   ],
   "source": [
    "print(\"Promotor\")\n",
    "shap.summary_plot(shap_values_RF[2], X_test, title='Neutro', plot_type = 'violin', max_display = 10)"
   ]
  },
  {
   "cell_type": "code",
   "execution_count": 136,
   "metadata": {},
   "outputs": [
    {
     "data": {
      "image/png": "[encoded data removed]",
      "text/plain": [
       "<Figure size 576x396 with 1 Axes>"
      ]
     },
     "metadata": {
      "needs_background": "light"
     },
     "output_type": "display_data"
    }
   ],
   "source": [
    "fig = plt.figure()\n",
    "shap.summary_plot(shap_values_RF, X_test ,plot_type=\"bar\", class_names = [\"Detrator\", \"Neutro\", \"Promotor\"], max_display = 10, show = False)\n",
    "plt.rcParams[\"figure.dpi\"] = 100\n",
    "plt.title(\"Média Shap por Classe\") \n",
    "plt.show()"
   ]
  },
  {
   "cell_type": "code",
   "execution_count": 139,
   "metadata": {},
   "outputs": [
    {
     "data": {
      "text/plain": [
       "array([-0.00388009,  0.00481791, -0.00167526, -0.00026531, -0.00063017,\n",
       "        0.0033429 , -0.03061582, -0.09371676, -0.0562867 , -0.06700546,\n",
       "       -0.07435488, -0.01182813, -0.00692585, -0.00411181,  0.00119176,\n",
       "        0.00021308, -0.00196833, -0.00092236, -0.00327071, -0.01423592,\n",
       "       -0.0003531 , -0.00525384, -0.00186507, -0.00371846])"
      ]
     },
     "execution_count": 139,
     "metadata": {},
     "output_type": "execute_result"
    }
   ],
   "source": [
    "shap_values_RF[0][1]"
   ]
  },
  {
   "cell_type": "markdown",
   "metadata": {},
   "source": [
    "## Decision Tree"
   ]
  },
  {
   "cell_type": "code",
   "execution_count": null,
   "metadata": {},
   "outputs": [],
   "source": [
    "explainer = shap.Explainer(Models_Loaded_GridSearch[\"Decision Tree\"].predict, X_test)\n",
    "# Calculates the SHAP values - It takes some time\n",
    "shap_values_DT = explainer(X_test)"
   ]
  },
  {
   "cell_type": "markdown",
   "metadata": {},
   "source": [
    "## KNN"
   ]
  },
  {
   "cell_type": "code",
   "execution_count": null,
   "metadata": {},
   "outputs": [],
   "source": [
    "explainer = shap.Explainer(Models_Loaded_GridSearch[\"KNN\"].predict, X_test)\n",
    "# Calculates the SHAP values - It takes some time\n",
    "shap_values_KNN = explainer(X_test)"
   ]
  },
  {
   "cell_type": "markdown",
   "metadata": {},
   "source": [
    "## Ada Boost"
   ]
  },
  {
   "cell_type": "code",
   "execution_count": null,
   "metadata": {},
   "outputs": [],
   "source": [
    "explainer = shap.Explainer(Models_Loaded_GridSearch[\"Ada Boost\"].predict, X_test)\n",
    "# Calculates the SHAP values - It takes some time\n",
    "shap_values_AB = explainer(X_test)"
   ]
  },
  {
   "cell_type": "markdown",
   "metadata": {},
   "source": [
    "## Gradient Boosting"
   ]
  },
  {
   "cell_type": "code",
   "execution_count": null,
   "metadata": {},
   "outputs": [],
   "source": [
    "explainer = shap.Explainer(Models_Loaded_GridSearch[\"Gradient Boosting\"].predict, X_test)\n",
    "# Calculates the SHAP values - It takes some time\n",
    "shap_values_GB = explainer(X_test)"
   ]
  },
  {
   "cell_type": "markdown",
   "metadata": {},
   "source": [
    "## Histogram Gradient Boosting"
   ]
  },
  {
   "cell_type": "code",
   "execution_count": null,
   "metadata": {},
   "outputs": [],
   "source": [
    "explainer = shap.Explainer(Models_Loaded_GridSearch[\"Histogram Gradient Boosting\"].predict, X_test)\n",
    "# Calculates the SHAP values - It takes some time\n",
    "shap_values_HGB = explainer(X_test)"
   ]
  },
  {
   "cell_type": "markdown",
   "metadata": {},
   "source": [
    "## Logistic Regression"
   ]
  },
  {
   "cell_type": "code",
   "execution_count": null,
   "metadata": {},
   "outputs": [],
   "source": [
    "explainer = shap.Explainer(Models_Loaded_GridSearch[\"Logistic Regression\"].predict, X_test)\n",
    "# Calculates the SHAP values - It takes some time\n",
    "shap_values_LR = explainer(X_test)"
   ]
  },
  {
   "cell_type": "markdown",
   "metadata": {},
   "source": [
    "## Neural Network"
   ]
  },
  {
   "cell_type": "code",
   "execution_count": null,
   "metadata": {},
   "outputs": [],
   "source": [
    "explainer = shap.Explainer(Models_Loaded_GridSearch[\"Neural Network\"].predict, X_test)\n",
    "# Calculates the SHAP values - It takes some time\n",
    "shap_values_NN = explainer(X_test)"
   ]
  },
  {
   "cell_type": "markdown",
   "metadata": {},
   "source": [
    "## SVM"
   ]
  },
  {
   "cell_type": "code",
   "execution_count": null,
   "metadata": {},
   "outputs": [],
   "source": [
    "explainer = shap.Explainer(Models_Loaded_GridSearch[\"SVM\"].predict, X_test)\n",
    "# Calculates the SHAP values - It takes some time\n",
    "shap_values_SVM = explainer(X_test)"
   ]
  }
 ],
 "metadata": {
  "kernelspec": {
   "display_name": "Python 3 (ipykernel)",
   "language": "python",
   "name": "python3"
  },
  "language_info": {
   "codemirror_mode": {
    "name": "ipython",
    "version": 3
   },
   "file_extension": ".py",
   "mimetype": "text/x-python",
   "name": "python",
   "nbconvert_exporter": "python",
   "pygments_lexer": "ipython3",
   "version": "3.10.4"
  },
  "vscode": {
   "interpreter": {
    "hash": "9a3b07ba528c89038647187279d5e29ba231df4ea6aa016e93723a294652464d"
   }
  }
 },
 "nbformat": 4,
 "nbformat_minor": 2
}
