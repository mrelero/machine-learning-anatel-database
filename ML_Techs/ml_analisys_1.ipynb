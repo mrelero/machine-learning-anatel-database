{
 "cells": [
  {
   "cell_type": "markdown",
   "metadata": {},
   "source": [
    "# Introução\n",
    "\n",
    "Para essa aplicação foi utilizado dados conforme: \n",
    "\n",
    "* A partir de 2017; \n",
    "* Todas as Operadoras; \n",
    "* Não foi considerado as avaliações condicionais, por exemplo, caso tenha cancelado e a avaliaçãod e cancelamento. Nesse caso, todas as colunas de avaliação foram removidas, e mantiada a de sim ou não;\n",
    "* \\>= 6 São satisfeitos e <6 Insatisfeitos;"
   ]
  },
  {
   "cell_type": "code",
   "execution_count": 4,
   "metadata": {},
   "outputs": [
    {
     "name": "stderr",
     "output_type": "stream",
     "text": [
      "C:\\Users\\Matheus\\AppData\\Local\\Temp\\ipykernel_13896\\4043019391.py:27: DtypeWarning: Columns (54) have mixed types. Specify dtype option on import or set low_memory=False.\n",
      "  dados= pd.read_csv(r\"C:\\Users\\Matheus\\Desktop\\Mestrado\\Projeto\\machine-learning-anatel-database\\raw_data\\Anatel.csv\")\n"
     ]
    }
   ],
   "source": [
    "import pandas as pd\n",
    "import matplotlib.pyplot as plt\n",
    "import seaborn as sns\n",
    "import numpy as np\n",
    "import missingno as msno\n",
    "#import skopt\n",
    "\n",
    "from sklearn.model_selection import train_test_split\n",
    "from sklearn.feature_selection import SelectFromModel\n",
    "from sklearn import svm\n",
    "from sklearn import metrics\n",
    "from sklearn.metrics import confusion_matrix\n",
    "from sklearn.model_selection import cross_val_score\n",
    "from sklearn.tree import DecisionTreeClassifier \n",
    "from sklearn.metrics import precision_score, recall_score, f1_score, roc_curve, roc_auc_score\n",
    "\n",
    "from sklearn.ensemble import RandomForestClassifier\n",
    "from sklearn.svm import SVC\n",
    "from sklearn.linear_model import LogisticRegression\n",
    "from sklearn.neighbors import KNeighborsClassifier\n",
    "\n",
    "\n",
    "#from bayes_opt import BayesianOptimization\n",
    "\n",
    "from sklearn.model_selection import cross_val_score\n",
    "\n",
    "dados= pd.read_csv(r\"C:\\Users\\Matheus\\Desktop\\Mestrado\\Projeto\\machine-learning-anatel-database\\raw_data\\Anatel.csv\")\n",
    "\n",
    "linhas= dados.index\n",
    "colunas= dados.columns\n",
    "\n",
    "Data_Filter = dados.copy()\n",
    "\n",
    "Data_Filter = Data_Filter[ dados[\"ANO_BASE\"] > 2016]\n",
    "#Data_Filter = Data_Filter[ dados[\"OPERADORA\"] == \"VIVO\"]\n",
    "\n",
    "\n",
    "Data_Filter[\"ESTADO\"] = Data_Filter[\"ESTADO\"].astype('category').cat.codes\n",
    "Data_Filter[\"OPERADORA\"] = Data_Filter[\"OPERADORA\"].astype('category').cat.codes\n",
    "Data_Filter.drop(\"Q2\", inplace= True, axis = 1)\n",
    "Data_Filter.drop(\"Q2_1\", inplace= True, axis = 1)\n",
    "Data_Filter.drop(\"Q2_2\", inplace= True, axis = 1)\n",
    "Data_Filter.drop(\"Q3\", inplace= True, axis = 1)\n",
    "Data_Filter.drop(\"Q4\", inplace= True, axis = 1)\n",
    "Data_Filter.drop(\"Q7a\", inplace= True, axis = 1)\n",
    "Data_Filter.drop(\"A2_1\", inplace= True, axis = 1)\n",
    "Data_Filter.drop(\"A2_2\", inplace= True, axis = 1)\n",
    "Data_Filter.drop(\"A2_3\", inplace= True, axis = 1)\n",
    "Data_Filter.drop(\"A1_4\", inplace= True, axis = 1)\n",
    "Data_Filter.drop(\"A3\", inplace= True, axis = 1)\n",
    "Data_Filter.drop(\"A4\", inplace= True, axis = 1)\n",
    "Data_Filter.drop(\"IDTNS\", inplace= True, axis = 1)\n",
    "Data_Filter.drop(\"G1\", inplace= True, axis = 1)\n",
    "Data_Filter.drop(\"G2_1\", inplace= True, axis = 1)\n",
    "Data_Filter.drop(\"G2_2\", inplace= True, axis = 1)\n",
    "Data_Filter.drop(\"G2_3\", inplace= True, axis = 1)\n",
    "Data_Filter.drop(\"E2\", inplace= True, axis = 1)\n",
    "Data_Filter.drop(\"E4\", inplace= True, axis = 1)\n",
    "Data_Filter.drop(\"E6\", inplace= True, axis = 1)\n",
    "Data_Filter.drop(\"E8\", inplace= True, axis = 1)\n",
    "Data_Filter.drop(\"F2_1\", inplace= True, axis = 1)\n",
    "Data_Filter.drop(\"F2_2\", inplace= True, axis = 1)\n",
    "Data_Filter.drop(\"F2_3\", inplace= True, axis = 1)\n",
    "Data_Filter.drop(\"F4_1\", inplace= True, axis = 1)\n",
    "Data_Filter.drop(\"F4_2\", inplace= True, axis = 1)\n",
    "Data_Filter.drop(\"F4_3\", inplace= True, axis = 1)\n",
    "Data_Filter.drop(\"I1\", inplace= True, axis = 1)\n",
    "Data_Filter.drop(\"PESO\", inplace= True, axis = 1)\n",
    "Data_Filter.drop(\"Q1\", inplace= True, axis = 1)\n",
    "Data_Filter.drop(\"Q6\", inplace= True, axis = 1)\n",
    "Data_Filter.drop(\"H3\", inplace= True, axis = 1)\n",
    "Data_Filter.drop(\"COD_IBGE\", inplace= True, axis = 1)\n",
    "Data_Filter.drop(\"H2a\", inplace= True, axis = 1)\n",
    "Data_Filter.drop(\"I2\", inplace= True, axis = 1)\n",
    "Data_Filter.drop(\"TIPO\", inplace= True, axis = 1)\n",
    "Data_Filter.drop(\"DATA\", inplace= True, axis = 1)\n",
    "Data_Filter.drop(\"H0\", inplace= True, axis = 1)\n",
    "\n",
    "\n",
    "\n",
    "\n",
    "\n",
    "Data_Filter[\"A1_2\"] = Data_Filter[\"A1_2\"].replace(2,1)\n",
    "Data_Filter[\"A1_3\"] = Data_Filter[\"A1_3\"].replace(3,1)\n",
    "Data_Filter[\"A1_2\"] = Data_Filter[\"A1_2\"].fillna(0)\n",
    "Data_Filter[\"A1_3\"] = Data_Filter[\"A1_3\"].fillna(0)\n",
    "Data_Filter[\"A1_1\"] = Data_Filter[\"A1_1\"].fillna(0)\n",
    "\n",
    "Data_Filter[\"E1\"] = Data_Filter[\"E1\"].replace(2,0)\n",
    "Data_Filter[\"E3\"] = Data_Filter[\"E3\"].replace(2,0)\n",
    "Data_Filter[\"E5\"] = Data_Filter[\"E5\"].replace(2,0)\n",
    "Data_Filter[\"E7\"] = Data_Filter[\"E7\"].replace(2,0)\n",
    "Data_Filter[\"F1\"] = Data_Filter[\"F1\"].replace(2,0)\n",
    "Data_Filter[\"F3\"] = Data_Filter[\"F3\"].replace(2,0)\n",
    "\n",
    "\n",
    "Data_Filter = Data_Filter[Data_Filter.J1 != 99]\n",
    "Data_Filter = Data_Filter[Data_Filter.B1_1 != 99]\n",
    "Data_Filter = Data_Filter[Data_Filter.B1_2 != 99]\n",
    "Data_Filter = Data_Filter[Data_Filter.C1_1 != 99]\n",
    "Data_Filter = Data_Filter[Data_Filter.C1_2 != 99]\n",
    "Data_Filter = Data_Filter[Data_Filter.C1_3 != 99]\n",
    "Data_Filter = Data_Filter[Data_Filter.D1_1 != 99]\n",
    "Data_Filter = Data_Filter[Data_Filter.D1_2 != 99]\n",
    "Data_Filter = Data_Filter[Data_Filter.H1 != 99]\n",
    "\n",
    "\n",
    "Data_Filter.loc[Data_Filter.J1 >= 6, \"J1\"] = \"SATISFEITO\"\n",
    "Data_Filter.loc[Data_Filter.J1 != \"SATISFEITO\", \"J1\"] = \"INSATISFEITO\"\n",
    "\n",
    "Data_Filter[\"J1\"] = Data_Filter[\"J1\"].replace(\"SATISFEITO\",1)\n",
    "Data_Filter[\"J1\"] = Data_Filter[\"J1\"].replace(\"INSATISFEITO\",0)\n",
    "\n",
    "\n",
    "def plot_roc_curve(fpr, tpr, legenda):\n",
    "    plt.plot(fpr, tpr, linewidth = 2, label = legenda)\n",
    "    plt.plot([0,1], [0,1], 'k--')\n",
    "    plt.axis([0,1,0,1])\n",
    "    plt.legend()\n",
    "    plt.xlabel(\"Taxa de Falsos Positivos\")\n",
    "    plt.ylabel(\"Taxa de Verdadeiros Positivos\")\n",
    "\n",
    "def plot_dict_bar(dict):\n",
    "    plt.bar(range(len(dict)), list(dict.values()), align='center')\n",
    "    plt.xticks(range(len(dict)), list(dict.keys()), rotation=90)\n",
    "    plt.show()\n",
    "\n",
    "#Data_Filter.info()\n",
    "\n",
    "Dados_Y = Data_Filter[\"J1\"].copy()\n",
    "Dados_X = Data_Filter.copy()\n",
    "Dados_X.drop(\"J1\", inplace= True, axis = 1)\n",
    "\n",
    "X_train, X_test, y_train, y_test = train_test_split(Dados_X, Dados_Y, test_size=0.3,random_state=109) # 70% training and 30% test"
   ]
  },
  {
   "cell_type": "markdown",
   "metadata": {},
   "source": [
    "# Random Forest"
   ]
  },
  {
   "cell_type": "markdown",
   "metadata": {},
   "source": [
    "# Roc Curve\n",
    "\n",
    "A função ROC_CURVE do **skleanr.metrics** aceita principalmente o **y_true**, que é o conjunto verdadeiro de teste, e o **y_score** que o conjunto de Probabilidades retirados do predict_proba. "
   ]
  },
  {
   "cell_type": "code",
   "execution_count": 19,
   "metadata": {},
   "outputs": [
    {
     "name": "stdout",
     "output_type": "stream",
     "text": [
      "Accuracy: 0.8829819505536175\n",
      "Precisão: 0.9075093102106608\n",
      "Recall: 0.9198828102991717\n",
      "F1Score: 0.9136541689983212\n",
      "AUC Score: 0.9444797960860108\n"
     ]
    },
    {
     "data": {
      "image/png": "[encoded data removed]",
      "text/plain": [
       "<Figure size 432x288 with 1 Axes>"
      ]
     },
     "metadata": {
      "needs_background": "light"
     },
     "output_type": "display_data"
    }
   ],
   "source": [
    "Rand_Forest_Class = RandomForestClassifier()\n",
    "\n",
    "Rand_Forest_Class.fit(X_train, y_train)\n",
    "y_pred = Rand_Forest_Class.predict(X_test)\n",
    "y_pred_probs = Rand_Forest_Class.predict_proba(X_test)\n",
    "\n",
    "y_pred_probs = y_pred_probs[:, 1]\n",
    "print(\"Accuracy:\",metrics.accuracy_score(y_test, y_pred))\n",
    "cmRF = confusion_matrix(y_test, y_pred)\n",
    "\n",
    "\n",
    "pRF = precision_score(y_test,y_pred)\n",
    "rRF = recall_score(y_test,y_pred)\n",
    "F1RF = f1_score(y_test, y_pred)\n",
    "print(\"Precisão:\", pRF)\n",
    "print(\"Recall:\", rRF)\n",
    "print(\"F1Score:\", F1RF)\n",
    "fprRF, tprRF, threshold_RF = roc_curve(y_test,y_pred_probs)\n",
    "plot_roc_curve(fprRF,tprRF, \"Todas Operadoras\")\n",
    "aucRF = roc_auc_score(y_test,y_pred_probs)\n",
    "print(\"AUC Score:\",aucRF)"
   ]
  },
  {
   "cell_type": "markdown",
   "metadata": {},
   "source": [
    "# Decision Tree"
   ]
  },
  {
   "cell_type": "code",
   "execution_count": 20,
   "metadata": {},
   "outputs": [
    {
     "name": "stdout",
     "output_type": "stream",
     "text": [
      "Accuracy: 0.8224252995601395\n",
      "Precisão: 0.8674353205849269\n",
      "Recall: 0.8689503634007549\n",
      "F1Score: 0.8681921810352107\n",
      "AUC Score: 0.7978058090922364\n"
     ]
    }
   ],
   "source": [
    "Dec_tree_class = DecisionTreeClassifier()\n",
    "Dec_tree_class.fit(X_train, y_train)\n",
    "y_pred = Dec_tree_class.predict(X_test)\n",
    "y_pred_probs = Dec_tree_class.predict_proba(X_test)\n",
    "\n",
    "y_pred_probs = y_pred_probs[:, 1]\n",
    "print(\"Accuracy:\",metrics.accuracy_score(y_test, y_pred))\n",
    "cmRF = confusion_matrix(y_test, y_pred)\n",
    "\n",
    "\n",
    "pRF = precision_score(y_test,y_pred)\n",
    "rRF = recall_score(y_test,y_pred)\n",
    "F1RF = f1_score(y_test, y_pred)\n",
    "print(\"Precisão:\", pRF)\n",
    "print(\"Recall:\", rRF)\n",
    "print(\"F1Score:\", F1RF)\n",
    "fprRF, tprRF, threshold_RF = roc_curve(y_test,y_pred_probs)\n",
    "#plot_roc_curve(fprRF,tprRF, \"Todas Operadoras\")\n",
    "aucRF = roc_auc_score(y_test,y_pred_probs)\n",
    "print(\"AUC Score:\",aucRF)"
   ]
  },
  {
   "cell_type": "markdown",
   "metadata": {},
   "source": [
    "# Feature Importances"
   ]
  },
  {
   "cell_type": "markdown",
   "metadata": {},
   "source": [
    "## Random Forest"
   ]
  },
  {
   "cell_type": "code",
   "execution_count": 15,
   "metadata": {},
   "outputs": [
    {
     "data": {
      "image/png": "[encoded data removed]",
      "text/plain": [
       "<Figure size 432x288 with 1 Axes>"
      ]
     },
     "metadata": {
      "needs_background": "light"
     },
     "output_type": "display_data"
    }
   ],
   "source": [
    "Importances_RF = Rand_Forest_Class.feature_importances_\n",
    "Imp_RF_Dict = dict()\n",
    "for col, f in zip(Dados_X.columns, Importances_RF):\n",
    "   # print(col, \":\", f, \"\\n\")\n",
    "    Imp_RF_Dict[col] = f\n",
    "\n",
    "plot_dict_bar(Imp_RF_Dict)"
   ]
  },
  {
   "cell_type": "markdown",
   "metadata": {},
   "source": [
    "### Select From Model\n",
    "\n",
    "We can use the SelectFromModel class to define both the model we wish to calculate importance scores, RandomForestClassifier in this case, and the number of features to select, 5 in this case."
   ]
  },
  {
   "cell_type": "code",
   "execution_count": 24,
   "metadata": {},
   "outputs": [
    {
     "name": "stdout",
     "output_type": "stream",
     "text": [
      "Accuracy: 0.8825648414985591\n",
      "Precisão: 0.9073620996441281\n",
      "Recall: 0.9193757394782804\n",
      "F1Score: 0.9133294153863375\n",
      "AUC Score: 0.9443844250597226\n"
     ]
    },
    {
     "data": {
      "image/png": "[encoded data removed]",
      "text/plain": [
       "<Figure size 432x288 with 1 Axes>"
      ]
     },
     "metadata": {
      "needs_background": "light"
     },
     "output_type": "display_data"
    }
   ],
   "source": [
    "fs = SelectFromModel(RandomForestClassifier(), max_features=5)\n",
    "\n",
    "fs = RandomForestClassifier()\n",
    "\n",
    "fs.fit(X_train, y_train)\n",
    "y_pred = fs.predict(X_test)\n",
    "y_pred_probs = fs.predict_proba(X_test)\n",
    "\n",
    "y_pred_probs = y_pred_probs[:, 1]\n",
    "print(\"Accuracy:\",metrics.accuracy_score(y_test, y_pred))\n",
    "cmRF = confusion_matrix(y_test, y_pred)\n",
    "\n",
    "\n",
    "pRF = precision_score(y_test,y_pred)\n",
    "rRF = recall_score(y_test,y_pred)\n",
    "F1RF = f1_score(y_test, y_pred)\n",
    "print(\"Precisão:\", pRF)\n",
    "print(\"Recall:\", rRF)\n",
    "print(\"F1Score:\", F1RF)\n",
    "fprRF, tprRF, threshold_RF = roc_curve(y_test,y_pred_probs)\n",
    "plot_roc_curve(fprRF,tprRF, \"Todas Operadoras\")\n",
    "aucRF = roc_auc_score(y_test,y_pred_probs)\n",
    "print(\"AUC Score:\",aucRF)\n"
   ]
  },
  {
   "cell_type": "markdown",
   "metadata": {},
   "source": [
    "## Decision Tree"
   ]
  },
  {
   "cell_type": "code",
   "execution_count": 21,
   "metadata": {},
   "outputs": [
    {
     "data": {
      "image/png": "[encoded data removed]",
      "text/plain": [
       "<Figure size 432x288 with 1 Axes>"
      ]
     },
     "metadata": {
      "needs_background": "light"
     },
     "output_type": "display_data"
    }
   ],
   "source": [
    "Importances_DT = Dec_tree_class.feature_importances_\n",
    "Imp_DT_Dict = dict()\n",
    "for col, f in zip(Dados_X.columns, Importances_DT):\n",
    "   # print(col, \":\", f, \"\\n\")\n",
    "    Imp_DT_Dict[col] = f\n",
    "\n",
    "plot_dict_bar(Imp_DT_Dict)"
   ]
  },
  {
   "cell_type": "markdown",
   "metadata": {},
   "source": [
    "# Cross Validation"
   ]
  },
  {
   "cell_type": "code",
   "execution_count": 2,
   "metadata": {},
   "outputs": [
    {
     "name": "stdout",
     "output_type": "stream",
     "text": [
      "Scores: [0.88158344 0.88681606 0.88601979 0.87498578 0.87997725 0.88304892\n",
      " 0.87406143 0.87508532 0.87827076 0.88270762]\n",
      "Mean: 0.8802556381675384\n",
      "Desvio: 0.004344321402671036\n"
     ]
    }
   ],
   "source": [
    "Rand_Forest_Class = RandomForestClassifier()\n",
    "scores = cross_val_score(Rand_Forest_Class, Dados_X, Dados_Y, cv=10)\n",
    "print(\"Scores:\", scores)\n",
    "print(\"Mean:\", scores.mean())\n",
    "print(\"Desvio:\", scores.std())\n"
   ]
  },
  {
   "cell_type": "markdown",
   "metadata": {},
   "source": [
    "# Uso do Optimizer"
   ]
  },
  {
   "cell_type": "code",
   "execution_count": 16,
   "metadata": {},
   "outputs": [
    {
     "data": {
      "text/plain": [
       "RandomForestClassifier(max_depth=12, min_samples_leaf=4, min_samples_split=3,\n",
       "                       n_estimators=380)"
      ]
     },
     "execution_count": 16,
     "metadata": {},
     "output_type": "execute_result"
    }
   ],
   "source": [
    "from skopt import BayesSearchCV\n",
    "from skopt.space import Real, Categorical, Integer\n",
    "\n",
    "search_space = {\"bootstrap\": Categorical([True, False]), # values for boostrap can be either True or False\n",
    "        \"max_depth\": Integer(6, 12, 24, 48), # values of max_depth are integers from 6 to 20\n",
    "        \"min_samples_leaf\": Integer(2, 4, 8, 16),\n",
    "        \"min_samples_split\": Integer(2, 4, 8, 16),\n",
    "        \"n_estimators\": Integer(200, 400, 600, 800)\n",
    "    }\n",
    "\n",
    "forest_clf = RandomForestClassifier()\n",
    "\n",
    "forest_bayes_search = BayesSearchCV(forest_clf, search_space, n_iter=10, # specify how many iterations\n",
    "                                    scoring=\"roc_auc\", n_jobs=-1)\n",
    "\n",
    "forest_bayes_search.fit(X_train, y_train) \n",
    "\n",
    "forest_bayes_search.best_score_\n",
    "\n",
    "forest_bayes_search.best_estimator_\n"
   ]
  },
  {
   "cell_type": "code",
   "execution_count": 19,
   "metadata": {},
   "outputs": [
    {
     "name": "stdout",
     "output_type": "stream",
     "text": [
      "Accuracy: 0.8831336265736387\n",
      "Precisão: 0.9062205727579904\n",
      "Recall: 0.9217420699757732\n",
      "F1Score: 0.9139154237193453\n",
      "AUC Score: 0.8627033439290904\n"
     ]
    },
    {
     "data": {
      "image/png": "[encoded data removed]",
      "text/plain": [
       "<Figure size 432x288 with 1 Axes>"
      ]
     },
     "metadata": {
      "needs_background": "light"
     },
     "output_type": "display_data"
    }
   ],
   "source": [
    "Rand_Forest_Class = forest_bayes_search.best_estimator_\n",
    "\n",
    "y_pred = Rand_Forest_Class.predict(X_test)\n",
    "\n",
    "print(\"Accuracy:\",metrics.accuracy_score(y_test, y_pred))\n",
    "cmRF = confusion_matrix(y_test, y_pred)\n",
    "\n",
    "\n",
    "pRF = precision_score(y_test,y_pred)\n",
    "rRF = recall_score(y_test,y_pred)\n",
    "F1RF = f1_score(y_test, y_pred)\n",
    "print(\"Precisão:\", pRF)\n",
    "print(\"Recall:\", rRF)\n",
    "print(\"F1Score:\", F1RF)\n",
    "fprRF, tprRF, threshold_RF = roc_curve(y_test,y_pred)\n",
    "plot_roc_curve(fprRF,tprRF, \"Todas Operadoras\")\n",
    "aucRF = roc_auc_score(y_test,y_pred,)\n",
    "print(\"AUC Score:\",aucRF)"
   ]
  },
  {
   "cell_type": "markdown",
   "metadata": {},
   "source": [
    "# Filtro por Operadoras"
   ]
  },
  {
   "cell_type": "code",
   "execution_count": 45,
   "metadata": {},
   "outputs": [],
   "source": [
    "\n",
    "\n",
    "Data_Filter_2 = dados.copy()\n",
    "\n",
    "Data_Filter_2 = Data_Filter_2[ dados[\"ANO_BASE\"] > 2016]\n",
    "#Data_Filter_2 = Data_Filter_2[ dados[\"OPERADORA\"] == \"VIVO\"]\n",
    "Operadoras = Data_Filter_2[\"OPERADORA\"].unique()\n",
    "\n",
    "Data_Filter_2[\"ESTADO\"] = Data_Filter_2[\"ESTADO\"].astype('category').cat.codes\n",
    "#Data_Filter_2[\"OPERADORA\"] = Data_Filter_2[\"OPERADORA\"].astype('category').cat.codes\n",
    "Data_Filter_2.drop(\"Q2\", inplace= True, axis = 1)\n",
    "Data_Filter_2.drop(\"Q2_1\", inplace= True, axis = 1)\n",
    "Data_Filter_2.drop(\"Q2_2\", inplace= True, axis = 1)\n",
    "Data_Filter_2.drop(\"Q3\", inplace= True, axis = 1)\n",
    "Data_Filter_2.drop(\"Q4\", inplace= True, axis = 1)\n",
    "Data_Filter_2.drop(\"Q7a\", inplace= True, axis = 1)\n",
    "Data_Filter_2.drop(\"A2_1\", inplace= True, axis = 1)\n",
    "Data_Filter_2.drop(\"A2_2\", inplace= True, axis = 1)\n",
    "Data_Filter_2.drop(\"A2_3\", inplace= True, axis = 1)\n",
    "Data_Filter_2.drop(\"A1_4\", inplace= True, axis = 1)\n",
    "Data_Filter_2.drop(\"A3\", inplace= True, axis = 1)\n",
    "Data_Filter_2.drop(\"A4\", inplace= True, axis = 1)\n",
    "Data_Filter_2.drop(\"IDTNS\", inplace= True, axis = 1)\n",
    "Data_Filter_2.drop(\"G1\", inplace= True, axis = 1)\n",
    "Data_Filter_2.drop(\"G2_1\", inplace= True, axis = 1)\n",
    "Data_Filter_2.drop(\"G2_2\", inplace= True, axis = 1)\n",
    "Data_Filter_2.drop(\"G2_3\", inplace= True, axis = 1)\n",
    "Data_Filter_2.drop(\"E2\", inplace= True, axis = 1)\n",
    "Data_Filter_2.drop(\"E4\", inplace= True, axis = 1)\n",
    "Data_Filter_2.drop(\"E6\", inplace= True, axis = 1)\n",
    "Data_Filter_2.drop(\"E8\", inplace= True, axis = 1)\n",
    "Data_Filter_2.drop(\"F2_1\", inplace= True, axis = 1)\n",
    "Data_Filter_2.drop(\"F2_2\", inplace= True, axis = 1)\n",
    "Data_Filter_2.drop(\"F2_3\", inplace= True, axis = 1)\n",
    "Data_Filter_2.drop(\"F4_1\", inplace= True, axis = 1)\n",
    "Data_Filter_2.drop(\"F4_2\", inplace= True, axis = 1)\n",
    "Data_Filter_2.drop(\"F4_3\", inplace= True, axis = 1)\n",
    "Data_Filter_2.drop(\"I1\", inplace= True, axis = 1)\n",
    "Data_Filter_2.drop(\"PESO\", inplace= True, axis = 1)\n",
    "Data_Filter_2.drop(\"Q1\", inplace= True, axis = 1)\n",
    "Data_Filter_2.drop(\"Q6\", inplace= True, axis = 1)\n",
    "Data_Filter_2.drop(\"H3\", inplace= True, axis = 1)\n",
    "Data_Filter_2.drop(\"COD_IBGE\", inplace= True, axis = 1)\n",
    "Data_Filter_2.drop(\"H2a\", inplace= True, axis = 1)\n",
    "Data_Filter_2.drop(\"I2\", inplace= True, axis = 1)\n",
    "Data_Filter_2.drop(\"TIPO\", inplace= True, axis = 1)\n",
    "Data_Filter_2.drop(\"DATA\", inplace= True, axis = 1)\n",
    "Data_Filter_2.drop(\"H0\", inplace= True, axis = 1)\n",
    "\n",
    "\n",
    "\n",
    "\n",
    "\n",
    "Data_Filter_2[\"A1_2\"] = Data_Filter_2[\"A1_2\"].replace(2,1)\n",
    "Data_Filter_2[\"A1_3\"] = Data_Filter_2[\"A1_3\"].replace(3,1)\n",
    "Data_Filter_2[\"A1_2\"] = Data_Filter_2[\"A1_2\"].fillna(2)\n",
    "Data_Filter_2[\"A1_3\"] = Data_Filter_2[\"A1_3\"].fillna(2)\n",
    "Data_Filter_2[\"A1_1\"] = Data_Filter_2[\"A1_1\"].fillna(2)\n",
    "\n",
    "Data_Filter_2.loc[Data_Filter_2.J1 >= 6, \"J1\"] = \"SATISFEITO\"\n",
    "Data_Filter_2.loc[Data_Filter_2.J1 != \"SATISFEITO\", \"J1\"] = \"INSATISFEITO\"\n",
    "\n",
    "Data_Filter_2[\"J1\"] = Data_Filter_2[\"J1\"].replace(\"SATISFEITO\",1)\n",
    "Data_Filter_2[\"J1\"] = Data_Filter_2[\"J1\"].replace(\"INSATISFEITO\",0)"
   ]
  },
  {
   "cell_type": "code",
   "execution_count": 46,
   "metadata": {},
   "outputs": [
    {
     "name": "stderr",
     "output_type": "stream",
     "text": [
      "<ipython-input-46-b7f637d08312>:3: UserWarning: Boolean Series key will be reindexed to match DataFrame index.\n",
      "  Dados_ML = Dados_ML[ dados[\"OPERADORA\"] == i]\n"
     ]
    },
    {
     "name": "stdout",
     "output_type": "stream",
     "text": [
      "_______________________________________\n",
      "\n",
      "CLARO/NET\n",
      "\n",
      "\n",
      "Accuracy: 0.8944906444906445\n",
      "Precisão: 0.9139118457300276\n",
      "Recall: 0.9444839857651246\n",
      "F1Score: 0.9289464473223662\n",
      "AUC Score: 0.8518181007823696\n",
      "_______________________________________\n",
      "\n",
      "OI\n"
     ]
    },
    {
     "name": "stderr",
     "output_type": "stream",
     "text": [
      "<ipython-input-46-b7f637d08312>:3: UserWarning: Boolean Series key will be reindexed to match DataFrame index.\n",
      "  Dados_ML = Dados_ML[ dados[\"OPERADORA\"] == i]\n"
     ]
    },
    {
     "name": "stdout",
     "output_type": "stream",
     "text": [
      "\n",
      "\n",
      "Accuracy: 0.8656595002905287\n",
      "Precisão: 0.8867999208391055\n",
      "Recall: 0.8846989141164857\n",
      "F1Score: 0.8857481715754102\n",
      "AUC Score: 0.8615584966062655\n",
      "_______________________________________\n",
      "\n",
      "SERCOMTEL\n"
     ]
    },
    {
     "name": "stderr",
     "output_type": "stream",
     "text": [
      "<ipython-input-46-b7f637d08312>:3: UserWarning: Boolean Series key will be reindexed to match DataFrame index.\n",
      "  Dados_ML = Dados_ML[ dados[\"OPERADORA\"] == i]\n"
     ]
    },
    {
     "name": "stdout",
     "output_type": "stream",
     "text": [
      "\n",
      "\n",
      "Accuracy: 0.8910256410256411\n",
      "Precisão: 0.9181818181818182\n",
      "Recall: 0.926605504587156\n",
      "F1Score: 0.9223744292237444\n",
      "AUC Score: 0.8675580714425142\n",
      "_______________________________________\n",
      "\n",
      "SKY\n"
     ]
    },
    {
     "name": "stderr",
     "output_type": "stream",
     "text": [
      "<ipython-input-46-b7f637d08312>:3: UserWarning: Boolean Series key will be reindexed to match DataFrame index.\n",
      "  Dados_ML = Dados_ML[ dados[\"OPERADORA\"] == i]\n"
     ]
    },
    {
     "name": "stdout",
     "output_type": "stream",
     "text": [
      "\n",
      "\n",
      "Accuracy: 0.8642590286425903\n",
      "Precisão: 0.8780353200883002\n",
      "Recall: 0.8809523809523809\n",
      "F1Score: 0.8794914317302377\n",
      "AUC Score: 0.8618844408318093\n",
      "_______________________________________\n",
      "\n",
      "TIM\n"
     ]
    },
    {
     "name": "stderr",
     "output_type": "stream",
     "text": [
      "<ipython-input-46-b7f637d08312>:3: UserWarning: Boolean Series key will be reindexed to match DataFrame index.\n",
      "  Dados_ML = Dados_ML[ dados[\"OPERADORA\"] == i]\n"
     ]
    },
    {
     "name": "stdout",
     "output_type": "stream",
     "text": [
      "\n",
      "\n",
      "Accuracy: 0.9028103044496487\n",
      "Precisão: 0.9219653179190751\n",
      "Recall: 0.9565217391304348\n",
      "F1Score: 0.938925680647535\n",
      "AUC Score: 0.8338758428272495\n",
      "_______________________________________\n",
      "\n",
      "UNIFIQUE\n"
     ]
    },
    {
     "name": "stderr",
     "output_type": "stream",
     "text": [
      "<ipython-input-46-b7f637d08312>:3: UserWarning: Boolean Series key will be reindexed to match DataFrame index.\n",
      "  Dados_ML = Dados_ML[ dados[\"OPERADORA\"] == i]\n"
     ]
    },
    {
     "name": "stdout",
     "output_type": "stream",
     "text": [
      "\n",
      "\n",
      "Accuracy: 0.9493670886075949\n",
      "Precisão: 0.96\n",
      "Recall: 0.9863013698630136\n",
      "F1Score: 0.9729729729729729\n",
      "AUC Score: 0.7431506849315068\n",
      "_______________________________________\n",
      "\n",
      "VIVO\n"
     ]
    },
    {
     "name": "stderr",
     "output_type": "stream",
     "text": [
      "<ipython-input-46-b7f637d08312>:3: UserWarning: Boolean Series key will be reindexed to match DataFrame index.\n",
      "  Dados_ML = Dados_ML[ dados[\"OPERADORA\"] == i]\n"
     ]
    },
    {
     "name": "stdout",
     "output_type": "stream",
     "text": [
      "\n",
      "\n",
      "Accuracy: 0.8810262776743224\n",
      "Precisão: 0.8995535714285714\n",
      "Recall: 0.937481826112242\n",
      "F1Score: 0.9181261569130001\n",
      "AUC Score: 0.8396160923961495\n",
      "_______________________________________\n",
      "\n",
      "ALGAR\n"
     ]
    },
    {
     "name": "stderr",
     "output_type": "stream",
     "text": [
      "<ipython-input-46-b7f637d08312>:3: UserWarning: Boolean Series key will be reindexed to match DataFrame index.\n",
      "  Dados_ML = Dados_ML[ dados[\"OPERADORA\"] == i]\n"
     ]
    },
    {
     "name": "stdout",
     "output_type": "stream",
     "text": [
      "\n",
      "\n",
      "Accuracy: 0.9032258064516129\n",
      "Precisão: 0.9274809160305344\n",
      "Recall: 0.9455252918287937\n",
      "F1Score: 0.9364161849710982\n",
      "AUC Score: 0.8596674078191587\n",
      "_______________________________________\n",
      "\n",
      "BRISANET\n"
     ]
    },
    {
     "name": "stderr",
     "output_type": "stream",
     "text": [
      "<ipython-input-46-b7f637d08312>:3: UserWarning: Boolean Series key will be reindexed to match DataFrame index.\n",
      "  Dados_ML = Dados_ML[ dados[\"OPERADORA\"] == i]\n"
     ]
    },
    {
     "name": "stdout",
     "output_type": "stream",
     "text": [
      "\n",
      "\n",
      "Accuracy: 0.9297752808988764\n",
      "Precisão: 0.9409888357256778\n",
      "Recall: 0.978441127694859\n",
      "F1Score: 0.959349593495935\n",
      "AUC Score: 0.8194957932052277\n",
      "_______________________________________\n",
      "\n",
      "HUGHES\n"
     ]
    },
    {
     "name": "stderr",
     "output_type": "stream",
     "text": [
      "<ipython-input-46-b7f637d08312>:3: UserWarning: Boolean Series key will be reindexed to match DataFrame index.\n",
      "  Dados_ML = Dados_ML[ dados[\"OPERADORA\"] == i]\n"
     ]
    },
    {
     "name": "stdout",
     "output_type": "stream",
     "text": [
      "\n",
      "\n",
      "Accuracy: 0.8446601941747572\n",
      "Precisão: 0.8384879725085911\n",
      "Recall: 0.8327645051194539\n",
      "F1Score: 0.8356164383561643\n",
      "AUC Score: 0.8440745602520346\n",
      "_______________________________________\n",
      "\n",
      "NET\n"
     ]
    },
    {
     "name": "stderr",
     "output_type": "stream",
     "text": [
      "<ipython-input-46-b7f637d08312>:3: UserWarning: Boolean Series key will be reindexed to match DataFrame index.\n",
      "  Dados_ML = Dados_ML[ dados[\"OPERADORA\"] == i]\n"
     ]
    },
    {
     "name": "stdout",
     "output_type": "stream",
     "text": [
      "\n",
      "\n",
      "Accuracy: 0.8924510717614166\n",
      "Precisão: 0.9176470588235294\n",
      "Recall: 0.9423076923076923\n",
      "F1Score: 0.9298138912541052\n",
      "AUC Score: 0.8401378033730975\n",
      "_______________________________________\n",
      "\n",
      "COPEL\n"
     ]
    },
    {
     "name": "stderr",
     "output_type": "stream",
     "text": [
      "<ipython-input-46-b7f637d08312>:3: UserWarning: Boolean Series key will be reindexed to match DataFrame index.\n",
      "  Dados_ML = Dados_ML[ dados[\"OPERADORA\"] == i]\n"
     ]
    },
    {
     "name": "stdout",
     "output_type": "stream",
     "text": [
      "\n",
      "\n",
      "Accuracy: 0.92\n",
      "Precisão: 0.9270833333333334\n",
      "Recall: 0.9888888888888889\n",
      "F1Score: 0.9569892473118279\n",
      "AUC Score: 0.6444444444444445\n",
      "_______________________________________\n",
      "\n",
      "CABO TELEC\n"
     ]
    },
    {
     "name": "stderr",
     "output_type": "stream",
     "text": [
      "<ipython-input-46-b7f637d08312>:3: UserWarning: Boolean Series key will be reindexed to match DataFrame index.\n",
      "  Dados_ML = Dados_ML[ dados[\"OPERADORA\"] == i]\n"
     ]
    },
    {
     "name": "stdout",
     "output_type": "stream",
     "text": [
      "\n",
      "\n",
      "Accuracy: 0.9366197183098591\n",
      "Precisão: 0.9444444444444444\n",
      "Recall: 0.9834710743801653\n",
      "F1Score: 0.9635627530364373\n",
      "AUC Score: 0.8250688705234162\n",
      "_______________________________________\n",
      "\n",
      "MULTIPLAY\n"
     ]
    },
    {
     "name": "stderr",
     "output_type": "stream",
     "text": [
      "<ipython-input-46-b7f637d08312>:3: UserWarning: Boolean Series key will be reindexed to match DataFrame index.\n",
      "  Dados_ML = Dados_ML[ dados[\"OPERADORA\"] == i]\n"
     ]
    },
    {
     "name": "stdout",
     "output_type": "stream",
     "text": [
      "\n",
      "\n",
      "Accuracy: 0.8714285714285714\n",
      "Precisão: 0.8548387096774194\n",
      "Recall: 1.0\n",
      "F1Score: 0.9217391304347826\n",
      "AUC Score: 0.7352941176470589\n"
     ]
    },
    {
     "data": {
      "image/png": "[encoded data removed]",
      "text/plain": [
       "<Figure size 432x288 with 1 Axes>"
      ]
     },
     "metadata": {
      "needs_background": "light"
     },
     "output_type": "display_data"
    }
   ],
   "source": [
    "for i in Operadoras:\n",
    "    Dados_ML = Data_Filter_2.copy()\n",
    "    Dados_ML = Dados_ML[ dados[\"OPERADORA\"] == i]\n",
    "    Dados_ML.drop(\"OPERADORA\", inplace= True, axis = 1)\n",
    "    Dados_Y = Dados_ML[\"J1\"].copy()\n",
    "    Dados_X = Dados_ML.copy()\n",
    "    Dados_X.drop(\"J1\", inplace= True, axis = 1)\n",
    "\n",
    "    X_train, X_test, y_train, y_test = train_test_split(Dados_X, Dados_Y, test_size=0.3,random_state=109) # 70% training and 30% test\n",
    "\n",
    "    print(\"_______________________________________\\n\")\n",
    "    print(i)   \n",
    "    Rand_Forest_Class = RandomForestClassifier()\n",
    "\n",
    "    Rand_Forest_Class.fit(X_train, y_train)\n",
    "\n",
    "    y_pred = Rand_Forest_Class.predict(X_test)\n",
    "    print(\"\\n\")\n",
    "    print(\"Accuracy:\",metrics.accuracy_score(y_test, y_pred))\n",
    "    cmRF = confusion_matrix(y_test, y_pred)\n",
    "\n",
    "\n",
    "    pRF = precision_score(y_test,y_pred)\n",
    "    rRF = recall_score(y_test,y_pred)\n",
    "    F1RF = f1_score(y_test, y_pred)\n",
    "    print(\"Precisão:\", pRF)\n",
    "    print(\"Recall:\", rRF)\n",
    "    print(\"F1Score:\", F1RF)\n",
    "    fprRF, tprRF, threshold_RF = roc_curve(y_test,y_pred)\n",
    "    plot_roc_curve(fprRF,tprRF, i)\n",
    "    aucRF = roc_auc_score(y_test,y_pred)\n",
    "    print(\"AUC Score:\",aucRF)"
   ]
  }
 ],
 "metadata": {
  "interpreter": {
   "hash": "11ffc019a02cc0e21e59860b66c88ea81995ce9237607e8ab2c087a287ee4867"
  },
  "kernelspec": {
   "display_name": "Python 3.8.5 64-bit ('base': conda)",
   "name": "python3"
  },
  "language_info": {
   "codemirror_mode": {
    "name": "ipython",
    "version": 3
   },
   "file_extension": ".py",
   "mimetype": "text/x-python",
   "name": "python",
   "nbconvert_exporter": "python",
   "pygments_lexer": "ipython3",
   "version": "3.10.4"
  },
  "orig_nbformat": 4
 },
 "nbformat": 4,
 "nbformat_minor": 2
}
