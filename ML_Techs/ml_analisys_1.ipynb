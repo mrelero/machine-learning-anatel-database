{
 "cells": [
  {
   "cell_type": "markdown",
   "metadata": {},
   "source": [
    "# Introução\n",
    "\n",
    "Para essa aplicação foi utilizado dados conforme: \n",
    "\n",
    "* A partir de 2017; \n",
    "* Todas as Operadoras; \n",
    "* Não foi considerado as avaliações condicionais, por exemplo, caso tenha cancelado e a avaliaçãod e cancelamento. Nesse caso, todas as colunas de avaliação foram removidas, e mantiada a de sim ou não;\n",
    "* \\>= 6 São satisfeitos e <6 Insatisfeitos;"
   ]
  },
  {
   "cell_type": "code",
   "execution_count": 19,
   "metadata": {},
   "outputs": [
    {
     "name": "stderr",
     "output_type": "stream",
     "text": [
      "C:\\Users\\Usuario\\anaconda3\\lib\\site-packages\\IPython\\core\\interactiveshell.py:3146: DtypeWarning: Columns (54) have mixed types.Specify dtype option on import or set low_memory=False.\n",
      "  has_raised = await self.run_ast_nodes(code_ast.body, cell_name,\n"
     ]
    }
   ],
   "source": [
    "import pandas as pd\n",
    "from pandas_ods_reader import read_ods\n",
    "import matplotlib.pyplot as plt\n",
    "import seaborn as sns\n",
    "import numpy as np\n",
    "import missingno as msno\n",
    "import skopt\n",
    "\n",
    "from sklearn.model_selection import train_test_split\n",
    "from sklearn import svm\n",
    "from sklearn import metrics\n",
    "from sklearn.metrics import confusion_matrix\n",
    "\n",
    "from sklearn.metrics import precision_score, recall_score, f1_score, roc_curve, roc_auc_score\n",
    "\n",
    "dados= pd.read_csv(r\"C:\\Users\\Usuario\\Matheus\\Dissetação\\Anatel\\machine-learning-anatel-database\\raw_data\\Anatel.csv\")\n",
    "\n",
    "linhas= dados.index\n",
    "colunas= dados.columns\n",
    "\n",
    "Data_Filter = dados.copy()\n",
    "\n",
    "Data_Filter = Data_Filter[ dados[\"ANO_BASE\"] > 2016]\n",
    "#Data_Filter = Data_Filter[ dados[\"OPERADORA\"] == \"VIVO\"]\n",
    "\n",
    "\n",
    "Data_Filter[\"ESTADO\"] = Data_Filter[\"ESTADO\"].astype('category').cat.codes\n",
    "Data_Filter[\"OPERADORA\"] = Data_Filter[\"OPERADORA\"].astype('category').cat.codes\n",
    "Data_Filter.drop(\"Q2\", inplace= True, axis = 1)\n",
    "Data_Filter.drop(\"Q2_1\", inplace= True, axis = 1)\n",
    "Data_Filter.drop(\"Q2_2\", inplace= True, axis = 1)\n",
    "Data_Filter.drop(\"Q3\", inplace= True, axis = 1)\n",
    "Data_Filter.drop(\"Q4\", inplace= True, axis = 1)\n",
    "Data_Filter.drop(\"Q7a\", inplace= True, axis = 1)\n",
    "Data_Filter.drop(\"A2_1\", inplace= True, axis = 1)\n",
    "Data_Filter.drop(\"A2_2\", inplace= True, axis = 1)\n",
    "Data_Filter.drop(\"A2_3\", inplace= True, axis = 1)\n",
    "Data_Filter.drop(\"A1_4\", inplace= True, axis = 1)\n",
    "Data_Filter.drop(\"A3\", inplace= True, axis = 1)\n",
    "Data_Filter.drop(\"A4\", inplace= True, axis = 1)\n",
    "Data_Filter.drop(\"IDTNS\", inplace= True, axis = 1)\n",
    "Data_Filter.drop(\"G1\", inplace= True, axis = 1)\n",
    "Data_Filter.drop(\"G2_1\", inplace= True, axis = 1)\n",
    "Data_Filter.drop(\"G2_2\", inplace= True, axis = 1)\n",
    "Data_Filter.drop(\"G2_3\", inplace= True, axis = 1)\n",
    "Data_Filter.drop(\"E2\", inplace= True, axis = 1)\n",
    "Data_Filter.drop(\"E4\", inplace= True, axis = 1)\n",
    "Data_Filter.drop(\"E6\", inplace= True, axis = 1)\n",
    "Data_Filter.drop(\"E8\", inplace= True, axis = 1)\n",
    "Data_Filter.drop(\"F2_1\", inplace= True, axis = 1)\n",
    "Data_Filter.drop(\"F2_2\", inplace= True, axis = 1)\n",
    "Data_Filter.drop(\"F2_3\", inplace= True, axis = 1)\n",
    "Data_Filter.drop(\"F4_1\", inplace= True, axis = 1)\n",
    "Data_Filter.drop(\"F4_2\", inplace= True, axis = 1)\n",
    "Data_Filter.drop(\"F4_3\", inplace= True, axis = 1)\n",
    "Data_Filter.drop(\"I1\", inplace= True, axis = 1)\n",
    "Data_Filter.drop(\"PESO\", inplace= True, axis = 1)\n",
    "Data_Filter.drop(\"Q1\", inplace= True, axis = 1)\n",
    "Data_Filter.drop(\"Q6\", inplace= True, axis = 1)\n",
    "Data_Filter.drop(\"H3\", inplace= True, axis = 1)\n",
    "Data_Filter.drop(\"COD_IBGE\", inplace= True, axis = 1)\n",
    "Data_Filter.drop(\"H2a\", inplace= True, axis = 1)\n",
    "Data_Filter.drop(\"I2\", inplace= True, axis = 1)\n",
    "Data_Filter.drop(\"TIPO\", inplace= True, axis = 1)\n",
    "Data_Filter.drop(\"DATA\", inplace= True, axis = 1)\n",
    "Data_Filter.drop(\"H0\", inplace= True, axis = 1)\n",
    "\n",
    "\n",
    "\n",
    "\n",
    "\n",
    "Data_Filter[\"A1_2\"] = Data_Filter[\"A1_2\"].replace(2,1)\n",
    "Data_Filter[\"A1_3\"] = Data_Filter[\"A1_3\"].replace(3,1)\n",
    "Data_Filter[\"A1_2\"] = Data_Filter[\"A1_2\"].fillna(2)\n",
    "Data_Filter[\"A1_3\"] = Data_Filter[\"A1_3\"].fillna(2)\n",
    "Data_Filter[\"A1_1\"] = Data_Filter[\"A1_1\"].fillna(2)\n",
    "\n",
    "Data_Filter.loc[Data_Filter.J1 >= 6, \"J1\"] = \"SATISFEITO\"\n",
    "Data_Filter.loc[Data_Filter.J1 != \"SATISFEITO\", \"J1\"] = \"INSATISFEITO\"\n",
    "\n",
    "Data_Filter[\"J1\"] = Data_Filter[\"J1\"].replace(\"SATISFEITO\",1)\n",
    "Data_Filter[\"J1\"] = Data_Filter[\"J1\"].replace(\"INSATISFEITO\",0)\n",
    "\n",
    "\n",
    "def plot_roc_curve(fpr, tpr, label = None):\n",
    "    plt.plot(fpr, tpr, linewidth = 2, label = label)\n",
    "    plt.plot([0,1], [0,1], 'k--')\n",
    "    plt.axis([0,1,0,1])\n",
    "    plt.xlabel(\"Taxa de Falsos Positivos\")\n",
    "    plt.ylabel(\"Taxa de Verdadeiros Positivos\")"
   ]
  },
  {
   "cell_type": "code",
   "execution_count": 20,
   "metadata": {},
   "outputs": [],
   "source": [
    "Dados_Y = Data_Filter[\"J1\"].copy()\n",
    "Dados_X = Data_Filter.copy()\n",
    "Dados_X.drop(\"J1\", inplace= True, axis = 1)\n",
    "\n",
    "X_train, X_test, y_train, y_test = train_test_split(Dados_X, Dados_Y, test_size=0.3,random_state=109) # 70% training and 30% test\n"
   ]
  },
  {
   "cell_type": "code",
   "execution_count": 21,
   "metadata": {},
   "outputs": [],
   "source": [
    "from sklearn.ensemble import RandomForestClassifier\n",
    "\n",
    "from bayes_opt import BayesianOptimization\n",
    "\n",
    "from sklearn.model_selection import cross_val_score"
   ]
  },
  {
   "cell_type": "code",
   "execution_count": 22,
   "metadata": {},
   "outputs": [
    {
     "name": "stdout",
     "output_type": "stream",
     "text": [
      "Accuracy: 0.8782132627533447\n",
      "Precisão: 0.9039294306335205\n",
      "Recall: 0.915430427720628\n",
      "F1Score: 0.9096435776731674\n",
      "AUC Score: 0.8590981575547493\n"
     ]
    },
    {
     "data": {
      "image/png": "[encoded data removed]",
      "text/plain": [
       "<Figure size 432x288 with 1 Axes>"
      ]
     },
     "metadata": {
      "needs_background": "light"
     },
     "output_type": "display_data"
    }
   ],
   "source": [
    "Rand_Forest_Class = RandomForestClassifier()\n",
    "\n",
    "Rand_Forest_Class.fit(X_train, y_train)\n",
    "\n",
    "y_pred = Rand_Forest_Class.predict(X_test)\n",
    "\n",
    "print(\"Accuracy:\",metrics.accuracy_score(y_test, y_pred))\n",
    "cmRF = confusion_matrix(y_test, y_pred)\n",
    "\n",
    "\n",
    "pRF = precision_score(y_test,y_pred)\n",
    "rRF = recall_score(y_test,y_pred)\n",
    "F1RF = f1_score(y_test, y_pred)\n",
    "print(\"Precisão:\", pRF)\n",
    "print(\"Recall:\", rRF)\n",
    "print(\"F1Score:\", F1RF)\n",
    "fprRF, tprRF, threshold_RF = roc_curve(y_test,y_pred)\n",
    "plot_roc_curve(fprRF,tprRF)\n",
    "aucRF = roc_auc_score(y_test,y_pred)\n",
    "print(\"AUC Score:\",aucRF)"
   ]
  },
  {
   "cell_type": "markdown",
   "metadata": {},
   "source": [
    "# Filtro por Operadoras"
   ]
  },
  {
   "cell_type": "code",
   "execution_count": 23,
   "metadata": {},
   "outputs": [],
   "source": [
    "Operadoras = dados[\"OPERADORA\"].unique()\n",
    "\n",
    "Data_Filter_2 = dados.copy()\n",
    "\n",
    "Data_Filter_2 = Data_Filter[ dados[\"ANO_BASE\"] > 2016]\n",
    "#Data_Filter_2 = Data_Filter_2[ dados[\"OPERADORA\"] == \"VIVO\"]\n",
    "\n",
    "\n",
    "Data_Filter_2[\"ESTADO\"] = Data_Filter_2[\"ESTADO\"].astype('category').cat.codes\n",
    "#Data_Filter_2[\"OPERADORA\"] = Data_Filter_2[\"OPERADORA\"].astype('category').cat.codes\n",
    "Data_Filter_2.drop(\"Q2\", inplace= True, axis = 1)\n",
    "Data_Filter_2.drop(\"Q2_1\", inplace= True, axis = 1)\n",
    "Data_Filter_2.drop(\"Q2_2\", inplace= True, axis = 1)\n",
    "Data_Filter_2.drop(\"Q3\", inplace= True, axis = 1)\n",
    "Data_Filter_2.drop(\"Q4\", inplace= True, axis = 1)\n",
    "Data_Filter_2.drop(\"Q7a\", inplace= True, axis = 1)\n",
    "Data_Filter_2.drop(\"A2_1\", inplace= True, axis = 1)\n",
    "Data_Filter_2.drop(\"A2_2\", inplace= True, axis = 1)\n",
    "Data_Filter_2.drop(\"A2_3\", inplace= True, axis = 1)\n",
    "Data_Filter_2.drop(\"A1_4\", inplace= True, axis = 1)\n",
    "Data_Filter_2.drop(\"A3\", inplace= True, axis = 1)\n",
    "Data_Filter_2.drop(\"A4\", inplace= True, axis = 1)\n",
    "Data_Filter_2.drop(\"IDTNS\", inplace= True, axis = 1)\n",
    "Data_Filter_2.drop(\"G1\", inplace= True, axis = 1)\n",
    "Data_Filter_2.drop(\"G2_1\", inplace= True, axis = 1)\n",
    "Data_Filter_2.drop(\"G2_2\", inplace= True, axis = 1)\n",
    "Data_Filter_2.drop(\"G2_3\", inplace= True, axis = 1)\n",
    "Data_Filter_2.drop(\"E2\", inplace= True, axis = 1)\n",
    "Data_Filter_2.drop(\"E4\", inplace= True, axis = 1)\n",
    "Data_Filter_2.drop(\"E6\", inplace= True, axis = 1)\n",
    "Data_Filter_2.drop(\"E8\", inplace= True, axis = 1)\n",
    "Data_Filter_2.drop(\"F2_1\", inplace= True, axis = 1)\n",
    "Data_Filter_2.drop(\"F2_2\", inplace= True, axis = 1)\n",
    "Data_Filter_2.drop(\"F2_3\", inplace= True, axis = 1)\n",
    "Data_Filter_2.drop(\"F4_1\", inplace= True, axis = 1)\n",
    "Data_Filter_2.drop(\"F4_2\", inplace= True, axis = 1)\n",
    "Data_Filter_2.drop(\"F4_3\", inplace= True, axis = 1)\n",
    "Data_Filter_2.drop(\"I1\", inplace= True, axis = 1)\n",
    "Data_Filter_2.drop(\"PESO\", inplace= True, axis = 1)\n",
    "Data_Filter_2.drop(\"Q1\", inplace= True, axis = 1)\n",
    "Data_Filter_2.drop(\"Q6\", inplace= True, axis = 1)\n",
    "Data_Filter_2.drop(\"H3\", inplace= True, axis = 1)\n",
    "Data_Filter_2.drop(\"COD_IBGE\", inplace= True, axis = 1)\n",
    "Data_Filter_2.drop(\"H2a\", inplace= True, axis = 1)\n",
    "Data_Filter_2.drop(\"I2\", inplace= True, axis = 1)\n",
    "Data_Filter_2.drop(\"TIPO\", inplace= True, axis = 1)\n",
    "Data_Filter_2.drop(\"DATA\", inplace= True, axis = 1)\n",
    "Data_Filter_2.drop(\"H0\", inplace= True, axis = 1)\n",
    "\n",
    "\n",
    "\n",
    "\n",
    "\n",
    "Data_Filter_2[\"A1_2\"] = Data_Filter_2[\"A1_2\"].replace(2,1)\n",
    "Data_Filter_2[\"A1_3\"] = Data_Filter_2[\"A1_3\"].replace(3,1)\n",
    "Data_Filter_2[\"A1_2\"] = Data_Filter_2[\"A1_2\"].fillna(2)\n",
    "Data_Filter_2[\"A1_3\"] = Data_Filter_2[\"A1_3\"].fillna(2)\n",
    "Data_Filter_2[\"A1_1\"] = Data_Filter_2[\"A1_1\"].fillna(2)\n",
    "\n",
    "Data_Filter_2.loc[Data_Filter_2.J1 >= 6, \"J1\"] = \"SATISFEITO\"\n",
    "Data_Filter_2.loc[Data_Filter_2.J1 != \"SATISFEITO\", \"J1\"] = \"INSATISFEITO\"\n",
    "\n",
    "Data_Filter_2[\"J1\"] = Data_Filter_2[\"J1\"].replace(\"SATISFEITO\",1)\n",
    "Data_Filter_2[\"J1\"] = Data_Filter_2[\"J1\"].replace(\"INSATISFEITO\",0)"
   ]
  },
  {
   "cell_type": "code",
   "execution_count": 24,
   "metadata": {},
   "outputs": [
    {
     "name": "stdout",
     "output_type": "stream",
     "text": [
      "CLARO/NET\n",
      "OI\n",
      "SERCOMTEL\n",
      "SKY\n",
      "TIM\n",
      "UNIFIQUE\n",
      "VIVO\n",
      "ALGAR\n",
      "BRISANET\n",
      "HUGHES\n",
      "NET\n",
      "COPEL\n",
      "CABO TELEC\n",
      "MULTIPLAY\n",
      "BIG BRASIL\n",
      "GVT\n"
     ]
    }
   ],
   "source": [
    "for i in Operadoras:\n",
    "    Dados_ML = Data_Filter_2.copy()\n",
    "    Dados_ML = Dados_ML[ dados[\"OPERADORA\"] == i]\n",
    "    Dados_ML.drop(\"OPERADORA\", inplace= True, axis = 1)\n",
    "    Dados_Y = Dados_ML[\"J1\"].copy()\n",
    "    Dados_X = Dados_ML.copy()\n",
    "    Dados_X.drop(\"J1\", inplace= True, axis = 1)\n",
    "\n",
    "    X_train, X_test, y_train, y_test = train_test_split(Dados_X, Dados_Y, test_size=0.3,random_state=109) # 70% training and 30% test\n",
    "    \n"
   ]
  }
 ],
 "metadata": {
  "interpreter": {
   "hash": "11ffc019a02cc0e21e59860b66c88ea81995ce9237607e8ab2c087a287ee4867"
  },
  "kernelspec": {
   "display_name": "Python 3.8.5 64-bit ('base': conda)",
   "name": "python3"
  },
  "language_info": {
   "codemirror_mode": {
    "name": "ipython",
    "version": 3
   },
   "file_extension": ".py",
   "mimetype": "text/x-python",
   "name": "python",
   "nbconvert_exporter": "python",
   "pygments_lexer": "ipython3",
   "version": "3.8.5"
  },
  "orig_nbformat": 4
 },
 "nbformat": 4,
 "nbformat_minor": 2
}
