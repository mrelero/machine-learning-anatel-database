{
 "cells": [
  {
   "cell_type": "code",
   "execution_count": 3,
   "source": [
    "import pandas as pd\r\n",
    "from pandas_ods_reader import read_ods\r\n",
    "dados = pd.read_csv(\"Anatel.csv\")\r\n",
    "#dados = read_ods(\"Anatel.ods\", 1)"
   ],
   "outputs": [
    {
     "output_type": "stream",
     "name": "stderr",
     "text": [
      "C:\\Users\\Usuario\\anaconda3\\lib\\site-packages\\IPython\\core\\interactiveshell.py:3146: DtypeWarning: Columns (54) have mixed types.Specify dtype option on import or set low_memory=False.\n",
      "  has_raised = await self.run_ast_nodes(code_ast.body, cell_name,\n"
     ]
    }
   ],
   "metadata": {}
  },
  {
   "cell_type": "code",
   "execution_count": 4,
   "source": [
    "print(\"Dimensão: {}\".format(dados.size))\r\n",
    "print(\"Linhas: {}\".format(len(dados.index)))\r\n",
    "print(\"Colunas: {}\".format(len(dados.columns)))\r\n",
    "\r\n",
    "linhas = dados.index\r\n",
    "colunas = dados.columns\r\n"
   ],
   "outputs": [
    {
     "output_type": "stream",
     "name": "stdout",
     "text": [
      "Dimensão: 9309951\n",
      "Linhas: 147777\n",
      "Colunas: 63\n"
     ]
    }
   ],
   "metadata": {}
  },
  {
   "cell_type": "code",
   "execution_count": 18,
   "source": [
    "##Relação de Colunas com quantidades vazias\r\n",
    "count = dados.isna().sum()\r\n",
    "#isna - retorna 1 para NaN e 0 caso contrário\r\n",
    "#sum - realiza as somas por colunas\r\n",
    "print(count)"
   ],
   "outputs": [
    {
     "output_type": "stream",
     "name": "stdout",
     "text": [
      "IDTNS            0\n",
      "TIPO             0\n",
      "OPERADORA        0\n",
      "ESTADO           0\n",
      "DATA             0\n",
      "             ...  \n",
      "H2a              0\n",
      "H3           78584\n",
      "I1               0\n",
      "I2           77936\n",
      "PESO             0\n",
      "Length: 63, dtype: int64\n"
     ]
    }
   ],
   "metadata": {}
  },
  {
   "cell_type": "code",
   "execution_count": 10,
   "source": [
    "## Linhas que apresentação avaliação 99 em Satisfação Geral\r\n",
    "\r\n",
    "count = 0\r\n",
    "Linhas_Invalidas = list() \r\n",
    "for i in linhas:\r\n",
    "    if dados.loc[i , \"J1\"] == 99:\r\n",
    "        Linhas_Invalidas.append(dados.loc[i , \"IDTNS\"])\r\n",
    "        count = count + 1\r\n",
    "\r\n",
    "print(\"Totais de Avaliações de Satisfação Geral inválidas: {}\".format(count))\r\n",
    "print(\"Os seguintes IDTNS apresentaram avaliação 99 em satisfação geral\")\r\n",
    "print(Linhas_Invalidas)\r\n"
   ],
   "outputs": [
    {
     "output_type": "stream",
     "name": "stdout",
     "text": [
      "Totais de Avaliações de Satisfação Geral inválidas: 82\n",
      "Os seguintes IDTNS apresentaram avaliação 99 em satisfação geral\n",
      "[460371, 393512, 617112, 557223, 486657, 664283, 504864, 373736, 655270, 214162, 491249, 524992, 928539, 930916, 72862, 91089, 113944, 195564, 573385, 624534, 867398, 30794, 625115, 630294, 630440, 1012388, 101929, 669422, 327571, 337927, 698290, 426532, 442103, 518204, 557243, 726529, 828295, 926152, 931518, 740091, 771606, 406214, 740978, 464844, 541195, 288917, 358796, 780204, 756742, 584161, 836769, 812304, 859676, 836758, 625736, 585286, 862294, 407542, 13886, 177178, 910504, 467919, 186744, 248022, 310568, 419862, 578470, 21239312, 20222726, 10876194, 10532189, 20245604, 11149425, 10419702, 10161268, 10226764, 21140976, 10747120, 10821051, 10918535, 20544139, 20001614]\n"
     ]
    }
   ],
   "metadata": {}
  },
  {
   "cell_type": "code",
   "execution_count": 19,
   "source": [
    "#Informações Gerais\r\n",
    "Anos = list()\r\n",
    "Operadoras = list()\r\n",
    "Anos = dados[\"ANO_BASE\"].unique()\r\n",
    "Operadoras = dados[\"OPERADORA\"].unique()\r\n",
    "print(Anos)\r\n",
    "print(Operadoras)"
   ],
   "outputs": [
    {
     "output_type": "stream",
     "name": "stdout",
     "text": [
      "[2020 2019 2018 2017 2016 2015]\n",
      "['CLARO/NET' 'OI' 'SERCOMTEL' 'SKY' 'TIM' 'UNIFIQUE' 'VIVO' 'ALGAR'\n",
      " 'BRISANET' 'HUGHES' 'NET' 'COPEL' 'CABO TELEC' 'MULTIPLAY' 'BIG BRASIL'\n",
      " 'GVT']\n"
     ]
    }
   ],
   "metadata": {}
  },
  {
   "cell_type": "code",
   "execution_count": 39,
   "source": [
    "## Calculos Gerais\r\n",
    "Media_Satisfacao_Geral = dados[\"J1\"].mean()\r\n",
    "Media_Operadoras = dict()\r\n",
    "Soma = 0\r\n",
    "Countagem = 0\r\n",
    "for i in Operadoras:\r\n",
    "    for j in linhas:\r\n",
    "        if dados.loc[j, \"OPERADORA\"] == i:\r\n",
    "            Soma = Soma + dados.loc[j , \"J1\"]\r\n",
    "            Countagem = Countagem +1 \r\n",
    "    Media_Operadoras[i] = Soma/Countagem\r\n",
    "    Soma = 0\r\n",
    "    Countagem = 0        \r\n",
    "\r\n",
    "#Media_Operadoras dados[\"J1\"].groupby(\"OPERADORA\", as_index=False).mean()\r\n",
    "\r\n",
    "\r\n",
    "print(Media_Satisfacao_Geral)\r\n",
    "print(Media_Operadoras)"
   ],
   "outputs": [
    {
     "output_type": "stream",
     "name": "stdout",
     "text": [
      "6.539894570873681\n",
      "{'CLARO/NET': 6.694058942772493, 'OI': 6.01303317535545, 'SERCOMTEL': 7.185446009389671, 'SKY': 5.894287761349573, 'TIM': 7.359437280187573, 'UNIFIQUE': 7.793893129770993, 'VIVO': 6.730911273197304, 'ALGAR': 6.9101497504159735, 'BRISANET': 7.7099494097807755, 'HUGHES': 5.231891103548858, 'NET': 6.941815819008801, 'COPEL': 8.24773413897281, 'CABO TELEC': 7.743545611015491, 'MULTIPLAY': 7.171673819742489, 'BIG BRASIL': 6.77001404494382, 'GVT': 7.336938560913325}\n"
     ]
    }
   ],
   "metadata": {}
  },
  {
   "cell_type": "code",
   "execution_count": 11,
   "source": [
    "Glossario = dict()\r\n",
    "Glossario[\"IDTNS\"] = \"Identificação \"\r\n",
    "Glossario[\"TIPO\"] = \"Tipo de Serviço \"\r\n",
    "Glossario[\"OPERADORA\"] = \"Operadora \"\r\n",
    "Glossario[\"ESTADO\"] = \"Estado\"\r\n",
    "Glossario[\"DATA\"] = \"Data\"\r\n",
    "Glossario[\"ANO_BASE\"] = \"Ano\"\r\n",
    "Glossario[\"Q1\"] = \"Interesse em participar da Pesquisa\"\r\n",
    "Glossario[\"Q2\"] = \"Área de Trabalho do Entrevistado\"\r\n",
    "Glossario[\"Q2_1\"] = \"Área de Trabalho do Entrevistado Atualizado Pós 2016\"\r\n",
    "Glossario[\"Q2_2\"] = \"Área de Trabalho do Entrevistado Atualizado Pós 2016\"\r\n",
    "Glossario[\"Q3\"] = \"Usuário é cliente de internet fixa\"\r\n",
    "Glossario[\"Q4\"] = \" O entrevistado é um dos principais usuários da internet fixa da prestadora citada dentro da residência? \"\r\n",
    "Glossario[\"Q5\"] = \"O entrevistado é o responsável pelo pagamento dos gastos da internet fixa da prestadora citada\"\r\n",
    "Glossario[\"Q6\"] = \"Pessoa Física ou Pessoa Jurídica\"\r\n",
    "Glossario[\"Q7\"] = \"Idade\"\r\n",
    "Glossario[\"Q7a\"] = \"Reposta caso recusa de responder a Q7\"\r\n",
    "Glossario[\"Q8\"] = \"Sexo\"\r\n",
    "Glossario[\"J1\"] = \"Nível de satisfação geral do entrevistado com a prestadora citada\"\r\n",
    "Glossario[\"B1_1\"] = \"Nota atribuída com respeito à facilidade de entendimento dos planos e serviços contratados\"\r\n",
    "Glossario[\"B1_2\"] = \"Nota atribuída com respeito ao comprometimento da operadora em cumprir o que foi prometido e divulgado em sua publicidade.\"\r\n",
    "Glossario[\"C1_1\"] = \"Notas atribuídas à cobrança de valores na conta de acordo com o contratado\"\r\n",
    "Glossario[\"C1_2\"] = \"Notas atribuídas à capacidade de manter a conexão sem quedas.\"\r\n",
    "Glossario[\"C1_3\"] = \"Notas atribuídas à velocidade de navegação.\"\r\n",
    "Glossario[\"D1_1\"] =  \"Notas atribuídas à cobrança dos valores na conta de acordo com o contratado\"\r\n",
    "Glossario[\"D1_2\"] = \"Notas atribuídas à clareza das informações na conta.\"\r\n",
    "Glossario[\"A1_1\"] = \"o entrevistado utilizou o Atendimento Telefônico da prestadora nos seis meses anteriores à pesquisa?\"\r\n",
    "Glossario[\"A1_2\"] = \" o entrevistado utilizou o Atendimento pela Internet da prestadora nos seis meses anteriores à pesquisa?\"\r\n",
    "Glossario[\"A1_3\"] = \" o entrevistado utilizou o Atendimento na Loja da prestadora nos seis meses anteriores à pesquisa?\"\r\n",
    "Glossario[\"A1_4\"] = \"o entrevistado não utilizou os canais da prestadora citados anteriormente nos seis meses anteriores à pesquisa?\"\r\n",
    "Glossario[\"A2_1\"] = \"Nota Atribuita ao tempo de Espera, caso tenha respondido A1_1\"\r\n",
    "Glossario[\"A2_2\"] =  \"Notas atribuídas à necessidade de repetir a demanda, caso tenha respondido A1_1\"\r\n",
    "Glossario[\"A2_3\"] = \"Notas atribuídas à capacidade de esclarecimento por parte dos atendentes, , caso tenha respondido A1_1\"\r\n",
    "Glossario[\"A3\"] = \"Notas atribuídas à qualidade do Atendimento Telefônico da operadora, Somente se Respondeu A2_1\"\r\n",
    "Glossario[\"A4\"] = \" Notas atribuídas à qualidade do Atendimento pela Internet da operadora, Somente se respondeu A2_2\"\r\n",
    "Glossario[\"E1\"] = \"Descreve se o entrevistado entrou em contato com a operadora para falar sobre algum problema de cobrança nos 6 meses anteriores à pesquisa.\"\r\n",
    "Glossario[\"E2\"] = \"Ocorre somente em caso de SIM ter sido escolhido em (E1). Nota atribuída à resolução do problema de cobrança da prestadora citada.\"\r\n",
    "Glossario[\"E3\"] = \"Descreve se o usuário entrou em contato com a prestadora citada para alterar o plano ou alguma condição comercial nos 6 meses anteriores à pesquisa \"\r\n",
    "Glossario[\"E4\"] = \" Ocorre somente em caso de SIM ter sido escolhido em (E3). Nota atribuída à resolução da alteração do plano ou condição comercial.\"\r\n",
    "Glossario[\"E5\"] = \"Descreve se o entrevistado entrou em contato com a operadora para cancelar serviços ou pacotes \"\r\n",
    "Glossario[\"E6\"] = \"Ocorre somente em caso de SIM ter sido escolhido em (E5). Nota atribuída à resolução do pedido de cancelamento de serviços ou pacotes\"\r\n",
    "Glossario[\"E7\"] = \" Descreve se o entrevistado entrou em contato com a operadora para falar sobre problemas de funcionamento da internet fixa\"\r\n",
    "Glossario[\"E8\"] = \"Ocorre somente em caso de SIM ter sido escolhido em (E7). Nota atribuída à resolução do problema de funcionamento da internet fixa \"\r\n",
    "Glossario[\"F1\"] = \" Descreve se o usuário solicitou instalação de internet fixa em seu endereço atual nos 6 meses anteriores à pesquisa. \"\r\n",
    "Glossario[\"F2_1\"] = \"Notas atribuídas ao tempo de espera entre a solicitação de instalação e a visita do técnico. \"\r\n",
    "Glossario[\"F2_2\"] = \"Cumprimento do prazo acordado para instalação.\"\r\n",
    "Glossario[\"F2_3\"] = \"Qualidade da instalação do serviço.\"\r\n",
    "Glossario[\"F3\"] = \"Descreve se o usuário solicitou algum tipo de reparo na sua internet fixa nos 6 meses anteriores à pesquisa\"\r\n",
    "Glossario[\"F4_1\"] = \"Notas atribuídas ao tempo de espera entre a solicitação de reparo e a visita do técnico.\"\r\n",
    "Glossario[\"F4_2\"] = \"Cumprimento do prazo acordado para reparo.\"\r\n",
    "Glossario[\"F4_3\"] = \"Qualidade do reparo do serviço.\"\r\n",
    "Glossario[\"G1\"] = \"Existência de outra operadora que ofereça o mesmo serviço da atual, no local onde o entrevistado mora: \"\r\n",
    "Glossario[\"G2_1\"] = \" Contrato inclui TV por assinatura, dados a partir de 2019 \"\r\n",
    "Glossario[\"G2_2\"] = \" Contrato inclui Telefonia Móvel, dados a partir de 2019:\"\r\n",
    "Glossario[\"G2_3\"] = \"Contrato inclui Telefonia Fixa, dados a partir de 2019:\"\r\n",
    "Glossario[\"H0\"] = \"Município de residência do entrevistado: o entrevistador anota o município conforme informado pelo entrevistado\"\r\n",
    "Glossario[\"H1\"] = \"Quantidade de pessoas residentes que contribuem com a renda total do domicílio: o entrevistador anota o valor conforme informado pelo entrevistado\"\r\n",
    "Glossario[\"H2\"] = \"Renda mensal familiar: o entrevistador anota o valor conforme informado pelo entrevistado\"\r\n",
    "Glossario[\"H2a\"] = \"Depois de respondida a questão H2 ou em caso de recusa de identificação correta da renda, apresentam-se as opções por faixas de renda\"\r\n",
    "Glossario[\"H3\"] =  \"Não Identificado no Gloassario\"\r\n",
    "Glossario[\"I1\"] = \" : Autorização para identificação das respostas para a empresa que solicitou a pesquisa (2015) ou para a Anatel (a partir de 2016).\"\r\n",
    "Glossario[\"I2\"] = \" Autorização para identificação das respostas para a operadora citada. \"\r\n",
    "Glossario[\"PESO\"] = \"Peso do estrato (UF x prestadora) na amostra\"\r\n",
    "Glossario[\"COD_IBGE\"] = \"Código IBGE\"\r\n"
   ],
   "outputs": [],
   "metadata": {}
  }
 ],
 "metadata": {
  "kernelspec": {
   "name": "python3",
   "display_name": "Python 3.8.5 64-bit ('base': conda)"
  },
  "language_info": {
   "codemirror_mode": {
    "name": "ipython",
    "version": 3
   },
   "file_extension": ".py",
   "mimetype": "text/x-python",
   "name": "python",
   "nbconvert_exporter": "python",
   "pygments_lexer": "ipython3",
   "version": "3.8.5"
  },
  "interpreter": {
   "hash": "11ffc019a02cc0e21e59860b66c88ea81995ce9237607e8ab2c087a287ee4867"
  }
 },
 "nbformat": 4,
 "nbformat_minor": 4
}