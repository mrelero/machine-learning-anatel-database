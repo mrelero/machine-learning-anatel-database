{
 "cells": [
  {
   "cell_type": "code",
   "execution_count": 2,
   "source": [
    "import pandas as pd\r\n",
    "from pandas_ods_reader import read_ods\r\n",
    "import matplotlib.pyplot as plt\r\n",
    "import seaborn as sns\r\n",
    "import numpy as np\r\n",
    "dados= pd.read_csv(\"Anatel.csv\")\r\n",
    "\r\n",
    "linhas= dados.index\r\n",
    "colunas= dados.columns"
   ],
   "outputs": [
    {
     "output_type": "stream",
     "name": "stderr",
     "text": [
      "C:\\Users\\Usuario\\anaconda3\\lib\\site-packages\\IPython\\core\\interactiveshell.py:3146: DtypeWarning: Columns (54) have mixed types.Specify dtype option on import or set low_memory=False.\n",
      "  has_raised = await self.run_ast_nodes(code_ast.body, cell_name,\n"
     ]
    }
   ],
   "metadata": {}
  },
  {
   "cell_type": "code",
   "execution_count": 3,
   "source": [
    "#### Note #####\r\n",
    "\r\n",
    "Estados= dados[\"ESTADO\"].unique()\r\n",
    "Operadoras= dados[\"OPERADORA\"].unique()\r\n",
    "Glossario= dict()\r\n",
    "Glossario[\"IDTNS\"]= \" Identificação  \"\r\n",
    "Glossario[\"TIPO\"]= \" Tipo de Serviço  \"\r\n",
    "Glossario[\"OPERADORA\"]= \"OPERADORA\"\r\n",
    "Glossario[\"ESTADO\"]= \"ESTADO\"\r\n",
    "Glossario[\"DATA\"]=\"DATA\"\r\n",
    "Glossario[\"ANO_BASE\"]=\"ANO_BASE\"\r\n",
    "Glossario[\"Q1\"]=\"Participação da Pesquisa\"\r\n",
    "Glossario[\"Q2\"]=\"Área de Trabalho\"\r\n",
    "Glossario[\"Q2_1\"]=\"Área de Trabalho pós 2016 1\"\r\n",
    "Glossario[\"Q2_2\"]=\"Área de Trabalho pós 2016 2\"\r\n",
    "Glossario[\"Q3\"]=\"Cliente de Internet fixa\"\r\n",
    "Glossario[\"Q4\"]=\"Principal Usuário\"\r\n",
    "Glossario[\"Q5\"]=\"Responsável pelo Pagamento\"\r\n",
    "Glossario[\"Q6\"]=\"Pessoa Física ou Jurídica\"\r\n",
    "Glossario[\"Q7\"]=\"Idade\"\r\n",
    "Glossario[\"Q7a\"]=\"Recusa Idade\"\r\n",
    "Glossario[\"Q8\"]=\"Sexo\"\r\n",
    "Glossario[\"J1\"]=\"SAT Geral\"\r\n",
    "Glossario[\"B1_1\"]=\"SAT Entendimento dos Planos\"\r\n",
    "Glossario[\"B1_2\"]=\"SAT Comprometimento com o prometido\"\r\n",
    "Glossario[\"C1_1\"]=\"SAT Cobrança Funcionamento\"\r\n",
    "Glossario[\"C1_2\"]=\"SAT Conexões sem Queda\"\r\n",
    "Glossario[\"C1_3\"]=\"SAT velocidade\"\r\n",
    "Glossario[\"D1_1\"]=\"SAT Cobrança Contas a Pagar \"\r\n",
    "Glossario[\"D1_2\"]=\"SAT Clareza Info da Conta\"\r\n",
    "Glossario[\"A1_1\"]=\"Usou atendimento telefonico ?\"\r\n",
    "Glossario[\"A1_2\"]=\"Usou atendimento Internet ?\"\r\n",
    "Glossario[\"A1_3\"]=\"Usou atendimento local Físico ?\"\r\n",
    "Glossario[\"A1_4\"]=\"Usou atendimento ?\"\r\n",
    "Glossario[\"A2_1\"]=\"SAT tempo de espera Atendimento\"\r\n",
    "Glossario[\"A2_2\"]=\"SAT Necessidade Repetição\"\r\n",
    "Glossario[\"A2_3\"]=\"SAT Esclarecimentos Atendentes\"\r\n",
    "Glossario[\"A3\"]=\"SAT Atendimento Telefônico\"\r\n",
    "Glossario[\"A4\"]=\"SAT Atendimento Internet\"\r\n",
    "Glossario[\"E1\"]=\"Entrou em contato devido a problema de cobrança\"\r\n",
    "Glossario[\"E2\"]=\"SAT Resolução Problema Cobrança\"\r\n",
    "Glossario[\"E3\"]=\"Entrou em Contato para Alterar Plano\"\r\n",
    "Glossario[\"E4\"]=\"SAT Resolução Alteração\"\r\n",
    "Glossario[\"E5\"]=\"Entrou em Contato para Cancelar\"\r\n",
    "Glossario[\"E6\"]=\"SAT Resolução Cancelamento\"\r\n",
    "Glossario[\"E7\"]=\"Entrou em Contato para Problemas\"\r\n",
    "Glossario[\"E8\"]=\"SAT a resolução do Problema\"\r\n",
    "Glossario[\"F1\"]=\"Solicitou instalação de internet fixa\"\r\n",
    "Glossario[\"F2_1\"]=\"SAT Solicitação de Instalação\"\r\n",
    "Glossario[\"F2_2\"]=\"SAT Prazo Instalação\"\r\n",
    "Glossario[\"F2_3\"]=\"SAT Qualidade Instalação\"\r\n",
    "Glossario[\"F3\"]=\"Solicito reparos\"\r\n",
    "Glossario[\"F4_1\"]=\"SAT Reparos\"\r\n",
    "Glossario[\"F4_2\"]=\"SAT Prazo Reparos\"\r\n",
    "Glossario[\"F4_3\"]=\"SAT Qualidade Reparos\"\r\n",
    "Glossario[\"G1\"]=\"Existência de Outra Operadora\"\r\n",
    "Glossario[\"G2_1\"]=\"Inclui TV?\"\r\n",
    "Glossario[\"G2_2\"]=\"Inclui Telefonia Móvel?\"\r\n",
    "Glossario[\"G2_3\"]=\"Inclui Telefone Fixo\"\r\n",
    "Glossario[\"H0\"]=\"Município\"\r\n",
    "Glossario[\"H1\"]=\"IBGE\"\r\n",
    "Glossario[\"H2\"]=\"Quantidade de pessoas\"\r\n",
    "Glossario[\"H2a\"]=\"Renda\"\r\n",
    "Glossario[\"H3\"]=\"Recusa Renda\"\r\n",
    "Glossario[\"I1\"]=\"H3\"\r\n",
    "Glossario[\"I2\"]=\"Autorização 1\"\r\n",
    "Glossario[\"PESO\"]=\"Autorização 2\"\r\n",
    "Glossario[\"COD_IBGE\"]=\"PESO\"\r\n"
   ],
   "outputs": [],
   "metadata": {}
  },
  {
   "cell_type": "code",
   "execution_count": 4,
   "source": [
    "##Reshape Data\r\n",
    "\r\n",
    "#Dados de Solicitação de Atendimento Telefônico, Online e outro\r\n",
    "A_2_Integrate= list()\r\n",
    "\r\n",
    "for i in linhas:\r\n",
    "        if  dados.loc[i , \"A1_4\"] == 97:\r\n",
    "            A_2_Integrate.append(0)\r\n",
    "        elif dados.loc[i, \"A1_1\"] == 1 and dados.loc[i, \"A1_2\"] == 2 and dados.loc[i, \"A1_3\"] == 3:\r\n",
    "            A_2_Integrate.append(7)\r\n",
    "        elif dados.loc[i, \"A1_1\"] == 1 and dados.loc[i, \"A1_2\"] == 2 and np.isnan(dados.loc[i, \"A1_3\"]):\r\n",
    "            A_2_Integrate.append(3)\r\n",
    "        elif dados.loc[i, \"A1_1\"] == 1 and np.isnan(dados.loc[i, \"A1_2\"]) and np.isnan(dados.loc[i, \"A1_3\"]):\r\n",
    "            A_2_Integrate.append(1)\r\n",
    "        elif dados.loc[i, \"A1_1\"] == 1 and np.isnan(dados.loc[i, \"A1_2\"]) and dados.loc[i, \"A1_3\"] == 3:\r\n",
    "            A_2_Integrate.append(5)\r\n",
    "        elif np.isnan(dados.loc[i, \"A1_1\"]) and dados.loc[i, \"A1_2\"] == 2 and np.isnan(dados.loc[i, \"A1_3\"]):\r\n",
    "            A_2_Integrate.append(2)\r\n",
    "        elif np.isnan(dados.loc[i, \"A1_1\"]) and np.isnan(dados.loc[i, \"A1_2\"]) and dados.loc[i, \"A1_3\"] == 3:\r\n",
    "            A_2_Integrate.append(4)\r\n",
    "        elif np.isnan(dados.loc[i, \"A1_1\"]) and dados.loc[i, \"A1_2\"] == 2 and dados.loc[i, \"A1_3\"] == 3:\r\n",
    "           A_2_Integrate.append(6)\r\n",
    "\r\n"
   ],
   "outputs": [],
   "metadata": {}
  },
  {
   "cell_type": "code",
   "execution_count": 5,
   "source": [
    "##Data Copy to plot HeatMap\r\n",
    "Data_Reshaped = dados.copy()\r\n",
    "Data_Reshaped.insert(26, \"A_2_Integrate\", A_2_Integrate)\r\n",
    "\r\n",
    "\r\n",
    "for number, i in enumerate(Estados):\r\n",
    "    Data_Reshaped.loc[(Data_Reshaped.ESTADO == i),'ESTADO']=number\r\n",
    "\r\n",
    "for number, i in enumerate(Operadoras):\r\n",
    "    Data_Reshaped.loc[(Data_Reshaped.OPERADORA == i),'OPERADORA']=  number\r\n",
    "\r\n",
    "Data_Reshaped[\"ESTADO\"] = Data_Reshaped[\"ESTADO\"].astype(str).astype(int)\r\n",
    "Data_Reshaped[\"OPERADORA\"] = Data_Reshaped[\"OPERADORA\"].astype(str).astype(int)\r\n",
    "\r\n",
    "Data_Reshaped.rename(columns=Glossario, inplace=True)\r\n",
    "##Removing Data\r\n",
    "Data_Reshaped.drop(\"Área de Trabalho\", inplace= True, axis = 1)\r\n",
    "Data_Reshaped.drop(\"Área de Trabalho pós 2016 1\", inplace= True, axis = 1)\r\n",
    "Data_Reshaped.drop(\"Área de Trabalho pós 2016 2\", inplace= True, axis = 1)\r\n",
    "Data_Reshaped.drop(\"Cliente de Internet fixa\", inplace= True, axis = 1)\r\n",
    "Data_Reshaped.drop(\"Principal Usuário\", inplace= True, axis = 1)\r\n",
    "Data_Reshaped.drop(\"Pessoa Física ou Jurídica\", inplace= True, axis = 1)\r\n",
    "Data_Reshaped.drop(\"Usou atendimento telefonico ?\", inplace= True, axis = 1)\r\n",
    "Data_Reshaped.drop(\"Usou atendimento Internet ?\", inplace= True, axis = 1)\r\n",
    "Data_Reshaped.drop(\"Usou atendimento local Físico ?\", inplace= True, axis = 1)\r\n",
    "Data_Reshaped.drop(\"Usou atendimento ?\", inplace= True, axis = 1)\r\n",
    "Data_Reshaped.drop(\" Identificação  \", inplace= True, axis = 1)\r\n",
    "Data_Reshaped.drop(\" Tipo de Serviço  \", inplace= True, axis = 1)\r\n",
    "Data_Reshaped.drop(\"DATA\", inplace= True, axis = 1)\r\n",
    "Data_Reshaped.drop(\"PESO\", inplace= True, axis = 1)\r\n",
    "Data_Reshaped.drop(\"IBGE\", inplace= True, axis = 1)\r\n",
    "Data_Reshaped.drop(\"Autorização 1\", inplace= True, axis = 1)\r\n",
    "Data_Reshaped.drop(\"Autorização 2\", inplace= True, axis = 1)\r\n",
    "Data_Reshaped.drop(\"H3\", inplace= True, axis = 1)\r\n",
    "Data_Reshaped.drop(\"Participação da Pesquisa\", inplace= True, axis = 1)"
   ],
   "outputs": [],
   "metadata": {}
  },
  {
   "cell_type": "code",
   "execution_count": null,
   "source": [
    "##HeatMapPlot\r\n",
    "\r\n",
    "corr_matrix = Data_Reshaped.corr()\r\n",
    "f, ax = plt.subplots(figsize=(50, 50))\r\n",
    "\r\n",
    "#mask = np.triu(np.ones_like(corr_matrix, dtype=bool))\r\n",
    "cmap = sns.diverging_palette(230, 20, as_cmap=True)\r\n",
    "sns.heatmap(corr_matrix, vmin=-1, vmax=1, center=0, annot=True, cmap=cmap)\r\n",
    "ax.set_xticklabels(\r\n",
    "    ax.get_xticklabels(),\r\n",
    "    size = 25,\r\n",
    "    rotation=45,\r\n",
    "    horizontalalignment='right'\r\n",
    ")\r\n",
    "ax.set_yticklabels(\r\n",
    "    ax.get_yticklabels(),\r\n",
    "    size = 25\r\n",
    ")\r\n"
   ],
   "outputs": [],
   "metadata": {}
  },
  {
   "cell_type": "code",
   "execution_count": null,
   "source": [
    "##Heat Filter\r\n",
    "Data_SAT = Data_Reshaped.copy()\r\n",
    "\r\n",
    "\r\n",
    "Data_SAT.drop(\"OPERADORA\", inplace= True, axis = 1)\r\n",
    "Data_SAT.drop(\"ESTADO\", inplace= True, axis = 1)\r\n",
    "Data_SAT.drop(\"ANO_BASE\", inplace= True, axis = 1)\r\n",
    "Data_SAT.drop(\"Idade\", inplace= True, axis = 1)\r\n",
    "Data_SAT.drop(\"Recusa Idade\", inplace= True, axis = 1)\r\n",
    "Data_SAT.drop(\"Sexo\", inplace= True, axis = 1)\r\n",
    "Data_SAT.drop(\"Entrou em contato devido a problema de cobrança\", inplace= True, axis = 1)\r\n",
    "Data_SAT.drop(\"Entrou em Contato para Alterar Plano\", inplace= True, axis = 1)\r\n",
    "Data_SAT.drop(\"Entrou em Contato para Cancelar\", inplace= True, axis = 1)\r\n",
    "Data_SAT.drop(\"Entrou em Contato para Problemas\", inplace= True, axis = 1)\r\n",
    "Data_SAT.drop(\"Solicitou instalação de internet fixa\", inplace= True, axis = 1)\r\n",
    "Data_SAT.drop(\"Solicito reparos\", inplace= True, axis = 1)\r\n",
    "Data_SAT.drop(\"Existência de Outra Operadora\", inplace= True, axis = 1)\r\n",
    "Data_SAT.drop(\"Inclui TV?\", inplace= True, axis = 1)\r\n",
    "Data_SAT.drop(\"Inclui Telefonia Móvel?\", inplace= True, axis = 1)\r\n",
    "Data_SAT.drop(\"Inclui Telefone Fixo\", inplace= True, axis = 1)\r\n",
    "Data_SAT.drop(\"Município\", inplace= True, axis = 1)\r\n",
    "Data_SAT.drop(\"Quantidade de pessoas\", inplace= True, axis = 1)\r\n",
    "Data_SAT.drop(\"Renda\", inplace= True, axis = 1)\r\n",
    "Data_SAT.drop(\"Recusa Renda\", inplace= True, axis = 1)\r\n",
    "Data_SAT.drop(\"A_2_Integrate\", inplace= True, axis = 1)\r\n",
    "Data_SAT.drop(\"Responsável pelo Pagamento\", inplace= True, axis = 1)\r\n",
    "\r\n",
    "\r\n"
   ],
   "outputs": [],
   "metadata": {}
  },
  {
   "cell_type": "code",
   "execution_count": null,
   "source": [
    "corr_matrix = Data_Reshaped.corr()\r\n",
    "corr_matrix_Filter = corr_matrix[corr_matrix.abs() > 0.4]\r\n",
    "\r\n",
    "for col in corr_matrix_Filter.columns:\r\n",
    "    if corr_matrix_Filter[col].notnull().sum() == 1:\r\n",
    "        corr_matrix_Filter.drop(col, inplace= True, axis = 1)\r\n",
    "        corr_matrix_Filter.drop(col, inplace= True, axis = 0)\r\n",
    "\r\n",
    "\r\n",
    "for col in corr_matrix_Filter.columns:\r\n",
    "    for idx in corr_matrix_Filter.index:\r\n",
    "        corr_matrix_Filter.loc[idx,col] = corr_matrix.loc[idx, col] \r\n",
    "\r\n",
    "f, ax = plt.subplots(figsize=(50, 50))\r\n",
    "cmap = sns.diverging_palette(230, 20, as_cmap=True)\r\n",
    "heat = sns.heatmap(corr_matrix_Filter, vmin=-1, vmax=1, center=0, annot=True, cmap=cmap, annot_kws={\"fontsize\":20})\r\n",
    "sns.set(font_scale=4)\r\n",
    "ax.set_xticklabels(\r\n",
    "    ax.get_xticklabels(),\r\n",
    "    size = 25,\r\n",
    "    rotation=45,\r\n",
    "    horizontalalignment='right'\r\n",
    ")\r\n",
    "ax.set_yticklabels(\r\n",
    "    ax.get_yticklabels(),\r\n",
    "    size = 25,\r\n",
    "    rotation=0,\r\n",
    "    horizontalalignment='right'\r\n",
    ")"
   ],
   "outputs": [],
   "metadata": {}
  },
  {
   "cell_type": "code",
   "execution_count": null,
   "source": [
    "corr_matrix_SAT = Data_SAT.corr()\r\n",
    "f, ax = plt.subplots(figsize=(50, 50))\r\n",
    "\r\n",
    "#mask = np.triu(np.ones_like(corr_matrix, dtype=bool))\r\n",
    "cmap = sns.diverging_palette(230, 20, as_cmap=True)\r\n",
    "sns.heatmap(corr_matrix_SAT, vmin=-1, vmax=1, center=0, annot=True, cmap=cmap, annot_kws={\"fontsize\":20})\r\n",
    "ax.set_xticklabels(\r\n",
    "    ax.get_xticklabels(),\r\n",
    "    size = 25,\r\n",
    "    rotation=45,\r\n",
    "    horizontalalignment='right'\r\n",
    ")\r\n",
    "ax.set_yticklabels(\r\n",
    "    ax.get_yticklabels(),\r\n",
    "    size = 25\r\n",
    ")"
   ],
   "outputs": [],
   "metadata": {}
  },
  {
   "cell_type": "code",
   "execution_count": null,
   "source": [
    "##Mean Year\r\n",
    "\r\n",
    "Anos = dados[\"ANO_BASE\"].unique()\r\n",
    "Media_Ano = list()\r\n",
    "\r\n",
    "\r\n",
    "for ano in Anos:\r\n",
    "    Media = dados[dados[\"ANO_BASE\"]==ano].mean()\r\n",
    "    Media_Ano.append(Media[\"J1\"]) \r\n",
    "\r\n",
    "\r\n",
    "Graph = plt.plot(Anos, Media_Ano, 'go-', label = \"Satisfação Média por Ano\")\r\n",
    "plt.rcParams[\"figure.dpi\"] = 100\r\n",
    "plt.ylim([0, 10])\r\n",
    "plt.xlabel(\"Ano\")\r\n",
    "plt.ylabel(\"Satisfação Média\")\r\n",
    "plt.show\r\n"
   ],
   "outputs": [],
   "metadata": {}
  },
  {
   "cell_type": "code",
   "execution_count": null,
   "source": [
    "##Mean Operadora\r\n",
    "\r\n",
    "Operadoras = dados[\"OPERADORA\"].unique()\r\n",
    "Media_Operadora = list()\r\n",
    "\r\n",
    "\r\n",
    "for i in Operadoras:\r\n",
    "    Media = dados[dados[\"OPERADORA\"]==i].mean()\r\n",
    "    Media_Operadora.append(Media[\"J1\"]) \r\n",
    "\r\n",
    "\r\n",
    "Graph = plt.bar(Operadoras, Media_Operadora)\r\n",
    "plt.rcParams[\"figure.dpi\"] = 100\r\n",
    "plt.ylim([0, 10])\r\n",
    "plt.xlabel(\"Operadora\")\r\n",
    "plt.xticks( rotation=45, horizontalalignment='right')\r\n",
    "plt.ylabel(\"Satisfação Média\")\r\n",
    "plt.show"
   ],
   "outputs": [],
   "metadata": {}
  },
  {
   "cell_type": "code",
   "execution_count": null,
   "source": [
    "Estados = dados[\"ESTADO\"].unique()\r\n",
    "Media_Estado = list()\r\n",
    "\r\n",
    "\r\n",
    "for i in Estados:\r\n",
    "    Media = dados[dados[\"ESTADO\"]==i].mean()\r\n",
    "    Media_Estado.append(Media[\"J1\"]) \r\n",
    "\r\n",
    "\r\n",
    "Graph = plt.bar(Estados, Media_Estado)\r\n",
    "plt.rcParams[\"figure.figsize\"]  = (6,4)\r\n",
    "plt.rcParams[\"figure.dpi\"] = 100\r\n",
    "plt.ylim([0, 10])\r\n",
    "plt.xlabel(\"Estados\")\r\n",
    "plt.xticks( rotation=45, horizontalalignment='right')\r\n",
    "plt.ylabel(\"Satisfação Média\")\r\n",
    "plt.show"
   ],
   "outputs": [],
   "metadata": {}
  },
  {
   "cell_type": "code",
   "execution_count": null,
   "source": [
    "dados[\"J1\"].hist(bins = 30 ,figsize=(20,15), align = \"mid\", range = [0,10] )\r\n",
    "plt.rcParams[\"figure.dpi\"] = 100\r\n",
    "plt.xticks(range(0,11), size = 15)\r\n",
    "plt.yticks(size = 15)\r\n",
    "plt.xlabel(\"Frequência\", size = 15)\r\n",
    "plt.ylabel(\"Satisfação Geral\", size = 15)\r\n",
    "plt.legend()"
   ],
   "outputs": [],
   "metadata": {}
  },
  {
   "cell_type": "code",
   "execution_count": 83,
   "source": [
    "#Bubble Plot\r\n",
    "Size = list()\r\n",
    "    \r\n",
    "SatCobran= Data_Reshaped[\"SAT Cobrança Funcionamento\"]\r\n",
    "SatGeral = Data_Reshaped[\"SAT Geral\"]\r\n",
    "\r\n",
    "\r\n",
    "\r\n",
    "for idx in SatGeral.index:\r\n",
    "    SatGeral.loc[idx] = SatGeral.loc[idx].astype(float) + np.random.uniform(-0.2,0.2)\r\n",
    "\r\n",
    "for idx in SatGeral.index:\r\n",
    "    SatCobran.loc[idx] = SatCobran.loc[idx].astype(float) + np.random.uniform(-0.2,0.2)\r\n",
    "\r\n",
    "\r\n",
    "\r\n",
    "plt.figure(figsize=(50, 50))\r\n",
    "plt.scatter(SatCobran, SatGeral)\r\n",
    "plt.xlim([-1, 11])\r\n",
    "plt.ylim([-1, 11])\r\n",
    "plt.xticks(size = 14)\r\n",
    "plt.yticks(size = 14)\r\n",
    "plt.xlabel(\"Cobrança\", size=25)\r\n",
    "plt.ylabel(\"Geral\", size=25)\r\n",
    "plt.show()"
   ],
   "outputs": [
    {
     "output_type": "stream",
     "name": "stderr",
     "text": [
      "C:\\Users\\Usuario\\anaconda3\\lib\\site-packages\\pandas\\core\\indexing.py:670: SettingWithCopyWarning: \n",
      "A value is trying to be set on a copy of a slice from a DataFrame\n",
      "\n",
      "See the caveats in the documentation: https://pandas.pydata.org/pandas-docs/stable/user_guide/indexing.html#returning-a-view-versus-a-copy\n",
      "  iloc._setitem_with_indexer(indexer, value)\n"
     ]
    },
    {
     "output_type": "error",
     "ename": "KeyboardInterrupt",
     "evalue": "",
     "traceback": [
      "\u001b[1;31m---------------------------------------------------------------------------\u001b[0m",
      "\u001b[1;31mKeyboardInterrupt\u001b[0m                         Traceback (most recent call last)",
      "\u001b[1;32m<ipython-input-83-ff57fafb4b2a>\u001b[0m in \u001b[0;36m<module>\u001b[1;34m\u001b[0m\n\u001b[0;32m      8\u001b[0m \u001b[1;33m\u001b[0m\u001b[0m\n\u001b[0;32m      9\u001b[0m \u001b[1;32mfor\u001b[0m \u001b[0midx\u001b[0m \u001b[1;32min\u001b[0m \u001b[0mSatGeral\u001b[0m\u001b[1;33m.\u001b[0m\u001b[0mindex\u001b[0m\u001b[1;33m:\u001b[0m\u001b[1;33m\u001b[0m\u001b[1;33m\u001b[0m\u001b[0m\n\u001b[1;32m---> 10\u001b[1;33m     \u001b[0mSatGeral\u001b[0m\u001b[1;33m.\u001b[0m\u001b[0mloc\u001b[0m\u001b[1;33m[\u001b[0m\u001b[0midx\u001b[0m\u001b[1;33m]\u001b[0m \u001b[1;33m=\u001b[0m \u001b[0mSatGeral\u001b[0m\u001b[1;33m.\u001b[0m\u001b[0mloc\u001b[0m\u001b[1;33m[\u001b[0m\u001b[0midx\u001b[0m\u001b[1;33m]\u001b[0m\u001b[1;33m.\u001b[0m\u001b[0mastype\u001b[0m\u001b[1;33m(\u001b[0m\u001b[0mfloat\u001b[0m\u001b[1;33m)\u001b[0m \u001b[1;33m+\u001b[0m \u001b[0mnp\u001b[0m\u001b[1;33m.\u001b[0m\u001b[0mrandom\u001b[0m\u001b[1;33m.\u001b[0m\u001b[0muniform\u001b[0m\u001b[1;33m(\u001b[0m\u001b[1;33m-\u001b[0m\u001b[1;36m0.2\u001b[0m\u001b[1;33m,\u001b[0m\u001b[1;36m0.2\u001b[0m\u001b[1;33m)\u001b[0m\u001b[1;33m\u001b[0m\u001b[1;33m\u001b[0m\u001b[0m\n\u001b[0m\u001b[0;32m     11\u001b[0m \u001b[1;33m\u001b[0m\u001b[0m\n\u001b[0;32m     12\u001b[0m \u001b[1;32mfor\u001b[0m \u001b[0midx\u001b[0m \u001b[1;32min\u001b[0m \u001b[0mSatGeral\u001b[0m\u001b[1;33m.\u001b[0m\u001b[0mindex\u001b[0m\u001b[1;33m:\u001b[0m\u001b[1;33m\u001b[0m\u001b[1;33m\u001b[0m\u001b[0m\n",
      "\u001b[1;32m~\\anaconda3\\lib\\site-packages\\pandas\\core\\indexing.py\u001b[0m in \u001b[0;36m__setitem__\u001b[1;34m(self, key, value)\u001b[0m\n\u001b[0;32m    668\u001b[0m \u001b[1;33m\u001b[0m\u001b[0m\n\u001b[0;32m    669\u001b[0m         \u001b[0miloc\u001b[0m \u001b[1;33m=\u001b[0m \u001b[0mself\u001b[0m \u001b[1;32mif\u001b[0m \u001b[0mself\u001b[0m\u001b[1;33m.\u001b[0m\u001b[0mname\u001b[0m \u001b[1;33m==\u001b[0m \u001b[1;34m\"iloc\"\u001b[0m \u001b[1;32melse\u001b[0m \u001b[0mself\u001b[0m\u001b[1;33m.\u001b[0m\u001b[0mobj\u001b[0m\u001b[1;33m.\u001b[0m\u001b[0miloc\u001b[0m\u001b[1;33m\u001b[0m\u001b[1;33m\u001b[0m\u001b[0m\n\u001b[1;32m--> 670\u001b[1;33m         \u001b[0miloc\u001b[0m\u001b[1;33m.\u001b[0m\u001b[0m_setitem_with_indexer\u001b[0m\u001b[1;33m(\u001b[0m\u001b[0mindexer\u001b[0m\u001b[1;33m,\u001b[0m \u001b[0mvalue\u001b[0m\u001b[1;33m)\u001b[0m\u001b[1;33m\u001b[0m\u001b[1;33m\u001b[0m\u001b[0m\n\u001b[0m\u001b[0;32m    671\u001b[0m \u001b[1;33m\u001b[0m\u001b[0m\n\u001b[0;32m    672\u001b[0m     \u001b[1;32mdef\u001b[0m \u001b[0m_validate_key\u001b[0m\u001b[1;33m(\u001b[0m\u001b[0mself\u001b[0m\u001b[1;33m,\u001b[0m \u001b[0mkey\u001b[0m\u001b[1;33m,\u001b[0m \u001b[0maxis\u001b[0m\u001b[1;33m:\u001b[0m \u001b[0mint\u001b[0m\u001b[1;33m)\u001b[0m\u001b[1;33m:\u001b[0m\u001b[1;33m\u001b[0m\u001b[1;33m\u001b[0m\u001b[0m\n",
      "\u001b[1;32m~\\anaconda3\\lib\\site-packages\\pandas\\core\\indexing.py\u001b[0m in \u001b[0;36m_setitem_with_indexer\u001b[1;34m(self, indexer, value)\u001b[0m\n\u001b[0;32m   1801\u001b[0m             \u001b[0mself\u001b[0m\u001b[1;33m.\u001b[0m\u001b[0mobj\u001b[0m\u001b[1;33m.\u001b[0m\u001b[0m_consolidate_inplace\u001b[0m\u001b[1;33m(\u001b[0m\u001b[1;33m)\u001b[0m\u001b[1;33m\u001b[0m\u001b[1;33m\u001b[0m\u001b[0m\n\u001b[0;32m   1802\u001b[0m             \u001b[0mself\u001b[0m\u001b[1;33m.\u001b[0m\u001b[0mobj\u001b[0m\u001b[1;33m.\u001b[0m\u001b[0m_mgr\u001b[0m \u001b[1;33m=\u001b[0m \u001b[0mself\u001b[0m\u001b[1;33m.\u001b[0m\u001b[0mobj\u001b[0m\u001b[1;33m.\u001b[0m\u001b[0m_mgr\u001b[0m\u001b[1;33m.\u001b[0m\u001b[0msetitem\u001b[0m\u001b[1;33m(\u001b[0m\u001b[0mindexer\u001b[0m\u001b[1;33m=\u001b[0m\u001b[0mindexer\u001b[0m\u001b[1;33m,\u001b[0m \u001b[0mvalue\u001b[0m\u001b[1;33m=\u001b[0m\u001b[0mvalue\u001b[0m\u001b[1;33m)\u001b[0m\u001b[1;33m\u001b[0m\u001b[1;33m\u001b[0m\u001b[0m\n\u001b[1;32m-> 1803\u001b[1;33m             \u001b[0mself\u001b[0m\u001b[1;33m.\u001b[0m\u001b[0mobj\u001b[0m\u001b[1;33m.\u001b[0m\u001b[0m_maybe_update_cacher\u001b[0m\u001b[1;33m(\u001b[0m\u001b[0mclear\u001b[0m\u001b[1;33m=\u001b[0m\u001b[1;32mTrue\u001b[0m\u001b[1;33m)\u001b[0m\u001b[1;33m\u001b[0m\u001b[1;33m\u001b[0m\u001b[0m\n\u001b[0m\u001b[0;32m   1804\u001b[0m \u001b[1;33m\u001b[0m\u001b[0m\n\u001b[0;32m   1805\u001b[0m     \u001b[1;32mdef\u001b[0m \u001b[0m_setitem_with_indexer_missing\u001b[0m\u001b[1;33m(\u001b[0m\u001b[0mself\u001b[0m\u001b[1;33m,\u001b[0m \u001b[0mindexer\u001b[0m\u001b[1;33m,\u001b[0m \u001b[0mvalue\u001b[0m\u001b[1;33m)\u001b[0m\u001b[1;33m:\u001b[0m\u001b[1;33m\u001b[0m\u001b[1;33m\u001b[0m\u001b[0m\n",
      "\u001b[1;32m~\\anaconda3\\lib\\site-packages\\pandas\\core\\generic.py\u001b[0m in \u001b[0;36m_maybe_update_cacher\u001b[1;34m(self, clear, verify_is_copy)\u001b[0m\n\u001b[0;32m   3236\u001b[0m                 \u001b[1;32mif\u001b[0m \u001b[0mlen\u001b[0m\u001b[1;33m(\u001b[0m\u001b[0mself\u001b[0m\u001b[1;33m)\u001b[0m \u001b[1;33m==\u001b[0m \u001b[0mlen\u001b[0m\u001b[1;33m(\u001b[0m\u001b[0mref\u001b[0m\u001b[1;33m)\u001b[0m\u001b[1;33m:\u001b[0m\u001b[1;33m\u001b[0m\u001b[1;33m\u001b[0m\u001b[0m\n\u001b[0;32m   3237\u001b[0m                     \u001b[1;31m# otherwise, either self or ref has swapped in new arrays\u001b[0m\u001b[1;33m\u001b[0m\u001b[1;33m\u001b[0m\u001b[1;33m\u001b[0m\u001b[0m\n\u001b[1;32m-> 3238\u001b[1;33m                     \u001b[0mref\u001b[0m\u001b[1;33m.\u001b[0m\u001b[0m_maybe_cache_changed\u001b[0m\u001b[1;33m(\u001b[0m\u001b[0mcacher\u001b[0m\u001b[1;33m[\u001b[0m\u001b[1;36m0\u001b[0m\u001b[1;33m]\u001b[0m\u001b[1;33m,\u001b[0m \u001b[0mself\u001b[0m\u001b[1;33m)\u001b[0m\u001b[1;33m\u001b[0m\u001b[1;33m\u001b[0m\u001b[0m\n\u001b[0m\u001b[0;32m   3239\u001b[0m                 \u001b[1;32melse\u001b[0m\u001b[1;33m:\u001b[0m\u001b[1;33m\u001b[0m\u001b[1;33m\u001b[0m\u001b[0m\n\u001b[0;32m   3240\u001b[0m                     \u001b[1;31m# GH#33675 we have swapped in a new array, so parent\u001b[0m\u001b[1;33m\u001b[0m\u001b[1;33m\u001b[0m\u001b[1;33m\u001b[0m\u001b[0m\n",
      "\u001b[1;32m~\\anaconda3\\lib\\site-packages\\pandas\\core\\generic.py\u001b[0m in \u001b[0;36m_maybe_cache_changed\u001b[1;34m(self, item, value)\u001b[0m\n\u001b[0;32m   3197\u001b[0m         \"\"\"\n\u001b[0;32m   3198\u001b[0m         \u001b[0mloc\u001b[0m \u001b[1;33m=\u001b[0m \u001b[0mself\u001b[0m\u001b[1;33m.\u001b[0m\u001b[0m_info_axis\u001b[0m\u001b[1;33m.\u001b[0m\u001b[0mget_loc\u001b[0m\u001b[1;33m(\u001b[0m\u001b[0mitem\u001b[0m\u001b[1;33m)\u001b[0m\u001b[1;33m\u001b[0m\u001b[1;33m\u001b[0m\u001b[0m\n\u001b[1;32m-> 3199\u001b[1;33m         \u001b[0mself\u001b[0m\u001b[1;33m.\u001b[0m\u001b[0m_mgr\u001b[0m\u001b[1;33m.\u001b[0m\u001b[0miset\u001b[0m\u001b[1;33m(\u001b[0m\u001b[0mloc\u001b[0m\u001b[1;33m,\u001b[0m \u001b[0mvalue\u001b[0m\u001b[1;33m)\u001b[0m\u001b[1;33m\u001b[0m\u001b[1;33m\u001b[0m\u001b[0m\n\u001b[0m\u001b[0;32m   3200\u001b[0m \u001b[1;33m\u001b[0m\u001b[0m\n\u001b[0;32m   3201\u001b[0m     \u001b[1;33m@\u001b[0m\u001b[0mproperty\u001b[0m\u001b[1;33m\u001b[0m\u001b[1;33m\u001b[0m\u001b[0m\n",
      "\u001b[1;32m~\\anaconda3\\lib\\site-packages\\pandas\\core\\internals\\managers.py\u001b[0m in \u001b[0;36miset\u001b[1;34m(self, loc, value)\u001b[0m\n\u001b[0;32m   1084\u001b[0m \u001b[1;33m\u001b[0m\u001b[0m\n\u001b[0;32m   1085\u001b[0m         \u001b[1;31m# Accessing public blknos ensures the public versions are initialized\u001b[0m\u001b[1;33m\u001b[0m\u001b[1;33m\u001b[0m\u001b[1;33m\u001b[0m\u001b[0m\n\u001b[1;32m-> 1086\u001b[1;33m         \u001b[0mblknos\u001b[0m \u001b[1;33m=\u001b[0m \u001b[0mself\u001b[0m\u001b[1;33m.\u001b[0m\u001b[0mblknos\u001b[0m\u001b[1;33m[\u001b[0m\u001b[0mloc\u001b[0m\u001b[1;33m]\u001b[0m\u001b[1;33m\u001b[0m\u001b[1;33m\u001b[0m\u001b[0m\n\u001b[0m\u001b[0;32m   1087\u001b[0m         \u001b[0mblklocs\u001b[0m \u001b[1;33m=\u001b[0m \u001b[0mself\u001b[0m\u001b[1;33m.\u001b[0m\u001b[0mblklocs\u001b[0m\u001b[1;33m[\u001b[0m\u001b[0mloc\u001b[0m\u001b[1;33m]\u001b[0m\u001b[1;33m.\u001b[0m\u001b[0mcopy\u001b[0m\u001b[1;33m(\u001b[0m\u001b[1;33m)\u001b[0m\u001b[1;33m\u001b[0m\u001b[1;33m\u001b[0m\u001b[0m\n\u001b[0;32m   1088\u001b[0m \u001b[1;33m\u001b[0m\u001b[0m\n",
      "\u001b[1;31mKeyboardInterrupt\u001b[0m: "
     ]
    }
   ],
   "metadata": {}
  },
  {
   "cell_type": "code",
   "execution_count": 67,
   "source": [
    "##Wafle Chart\r\n",
    "\r\n",
    "proportion = list()\r\n",
    "freq = Data_Reshaped[\"SAT Geral\"].value_counts(sort = False)\r\n",
    "\r\n",
    "print()\r\n",
    "for i in range(11):\r\n",
    "    proportion.append((freq.iloc[i]/147777))\r\n",
    "\r\n",
    "print(proportion)\r\n",
    "\r\n",
    "tiles_per_category = [round(prop * 100) for prop in proportion]\r\n",
    "\r\n",
    "waffle = np.zeros((10, 10))\r\n",
    "category_index = 0\r\n",
    "tile_index = 0\r\n",
    "for col in range(10):\r\n",
    "    for row in range(10):\r\n",
    "        tile_index += 1\r\n",
    "        if tile_index > sum(tiles_per_category[0:category_index]):\r\n",
    "            category_index += 1\r\n",
    "        waffle[row, col] = category_index\r\n",
    "\r\n",
    "fig = plt.figure()\r\n",
    "colormap = plt.cm.RdYlGn\r\n",
    "plt.matshow(waffle, cmap=colormap, vmin=0, vmax=10)\r\n",
    "\r\n",
    "ax = plt.gca()\r\n",
    "ax.set_xticks(np.arange(-0.5, (10), 1), minor=True)\r\n",
    "ax.set_yticks(np.arange(-0.5, (10), 1), minor=True)\r\n",
    "ax.grid(which='minor', color='k', linestyle='-', linewidth=2)\r\n",
    "plt.rcParams[\"figure.dpi\"] = 100\r\n",
    "plt.title(\"Proporção Satisfação Geral\")\r\n",
    "plt.xticks([])\r\n",
    "plt.yticks([])\r\n",
    "plt.colorbar()"
   ],
   "outputs": [
    {
     "output_type": "stream",
     "name": "stdout",
     "text": [
      "\n",
      "[0.04912807811770438, 0.012694803656861351, 0.024557272105943415, 0.0347550701394669, 0.050508536511094416, 0.14767521332819045, 0.09662532058439405, 0.17651596662538827, 0.21250262219425214, 0.08173125723218091, 0.11275096936600418]\n"
     ]
    },
    {
     "output_type": "execute_result",
     "data": {
      "text/plain": [
       "<matplotlib.colorbar.Colorbar at 0x133b8261ee0>"
      ]
     },
     "metadata": {},
     "execution_count": 67
    },
    {
     "output_type": "display_data",
     "data": {
      "text/plain": [
       "<Figure size 600x400 with 0 Axes>"
      ]
     },
     "metadata": {}
    },
    {
     "output_type": "display_data",
     "data": {
      "text/plain": [
       "<Figure size 400x400 with 2 Axes>"
      ],
      "image/svg+xml": "<?xml version=\"1.0\" encoding=\"utf-8\" standalone=\"no\"?>\r\n<!DOCTYPE svg PUBLIC \"-//W3C//DTD SVG 1.1//EN\"\r\n  \"http://www.w3.org/Graphics/SVG/1.1/DTD/svg11.dtd\">\r\n<svg height=\"247.278125pt\" version=\"1.1\" viewBox=\"0 0 238.505 247.278125\" width=\"238.505pt\" xmlns=\"http://www.w3.org/2000/svg\" xmlns:xlink=\"http://www.w3.org/1999/xlink\">\r\n <metadata>\r\n  <rdf:RDF xmlns:cc=\"http://creativecommons.org/ns#\" xmlns:dc=\"http://purl.org/dc/elements/1.1/\" xmlns:rdf=\"http://www.w3.org/1999/02/22-rdf-syntax-ns#\">\r\n   <cc:Work>\r\n    <dc:type rdf:resource=\"http://purl.org/dc/dcmitype/StillImage\"/>\r\n    <dc:date>2021-08-16T11:58:44.511848</dc:date>\r\n    <dc:format>image/svg+xml</dc:format>\r\n    <dc:creator>\r\n     <cc:Agent>\r\n      <dc:title>Matplotlib v3.4.2, https://matplotlib.org/</dc:title>\r\n     </cc:Agent>\r\n    </dc:creator>\r\n   </cc:Work>\r\n  </rdf:RDF>\r\n </metadata>\r\n <defs>\r\n  <style type=\"text/css\">*{stroke-linecap:butt;stroke-linejoin:round;}</style>\r\n </defs>\r\n <g id=\"figure_1\">\r\n  <g id=\"patch_1\">\r\n   <path d=\"M 0 247.278125 \r\nL 238.505 247.278125 \r\nL 238.505 0 \r\nL 0 0 \r\nz\r\n\" style=\"fill:none;\"/>\r\n  </g>\r\n  <g id=\"axes_1\">\r\n   <g id=\"patch_2\">\r\n    <path d=\"M 10.7 211.879219 \r\nL 189.26 211.879219 \r\nL 189.26 33.319219 \r\nL 10.7 33.319219 \r\nz\r\n\" style=\"fill:#ffffff;\"/>\r\n   </g>\r\n   <g clip-path=\"url(#pe2a26f9dda)\">\r\n    <image height=\"178.56\" id=\"image3e1308c32c\" transform=\"scale(1 -1)translate(0 -178.56)\" width=\"178.56\" x=\"10.7\" xlink:href=\"data:image/png;base64,\r\niVBORw0KGgoAAAANSUhEUgAAAPgAAAD4CAYAAADB0SsLAAADeUlEQVR4nO3dMWpVYRRG0Ru5/WsE+0AkYO0IrG3sM6IMxxHktZGAhY2BIJGggTTpJMXTAZjSkxc3aw3gfn+zOeU92H07/b0Mu9xML8w7v70a39jePIxvfPx6N75R8OPzz30/4Z94se8HAHMEDmEChzCBQ5jAIUzgECZwCBM4hAkcwgQOYQKHMIFDmMAhTOAQJnAIEziECRzCBA5hAocwgUOYwCFM4BAmcAgTOISt+34AT+v965fjG36u8Hy44BAmcAgTOIQJHMIEDmEChzCBQ5jAIUzgECZwCBM4hAkcwgQOYQKHMIFDmMAhTOAQJnAIEziECRzCBA5hAocwgUOYwCFs3X36Mr/y7s38BvAXFxzCBA5hAocwgUOYwCFM4BAmcAgTOIQJHMIEDmEChzCBQ5jAIUzgECZwCBM4hAkcwgQOYQKHMIFDmMAhTOAQJnAIEziECRzCBA5hAocwgUOYwCFM4BAmcAgTOIQJHMIEDmEChzCBQ5jAIUzgECZwCBM4hAkcwgQOYQKHMIFDmMAhTOAQJnAIEziErb/Ovo+PHH04Gd+4vL8Y34D/jQsOYQKHMIFDmMAhTOAQJnAIEziECRzCBA5hAocwgUOYwCFM4BAmcAgTOIQJHMIEDmEChzCBQ5jAIUzgECZwCBM4hAkcwtbr7fyPD47HF4DHuOAQJnAIEziECRzCBA5hAocwgUOYwCFM4BAmcAgTOIQJHMIEDmEChzCBQ5jAIUzgECZwCBM4hAkcwgQOYQKHMIFDmMAhTOAQJnAIEziECRzCBA5hAocwgUOYwCFM4BAmcAgTOIQJHMIEDmEChzCBQ5jAIUzgECZwCBM4hAkcwgQOYQKHMIFDmMAhTOAQJnAIEziECRzCBA5hAocwgUOYwCFM4BAmcAgTOIQJHMIEDmEChzCBQ5jAIUzgECZwCBM4hAkcwgQOYQKHMIFDmMAhTOAQJnAIEziECRzCBA5hAocwgUOYwCFM4BAmcAgTOIQJHMIEDmEChzCBQ5jAIUzgECZwCBM4hAkcwgQOYQKHMIFDmMAhTOAQJnAIW59k5fpifmMz+/m3rw5nB5ZlWZar8YXtzcP4Bs+HCw5hAocwgUOYwCFM4BAmcAgTOIQJHMIEDmEChzCBQ5jAIUzgECZwCBM4hAkcwgQOYQKHMIFDmMAhTOAQJnAIEziECRzC/gAUpyUKtBow7wAAAABJRU5ErkJggg==\" y=\"-33.319219\"/>\r\n   </g>\r\n   <g id=\"matplotlib.axis_1\">\r\n    <g id=\"xtick_1\">\r\n     <g id=\"line2d_1\">\r\n      <path clip-path=\"url(#pe2a26f9dda)\" d=\"M 10.7 211.879219 \r\nL 10.7 33.319219 \r\n\" style=\"fill:none;stroke:#000000;stroke-linecap:square;stroke-width:2;\"/>\r\n     </g>\r\n     <g id=\"line2d_2\">\r\n      <defs>\r\n       <path d=\"M 0 0 \r\nL 0 2 \r\n\" id=\"mccc9b10542\" style=\"stroke:#000000;stroke-width:0.6;\"/>\r\n      </defs>\r\n      <g>\r\n       <use style=\"stroke:#000000;stroke-width:0.6;\" x=\"10.7\" xlink:href=\"#mccc9b10542\" y=\"211.879219\"/>\r\n      </g>\r\n     </g>\r\n     <g id=\"line2d_3\">\r\n      <defs>\r\n       <path d=\"M 0 0 \r\nL 0 -2 \r\n\" id=\"md4391fd06b\" style=\"stroke:#000000;stroke-width:0.6;\"/>\r\n      </defs>\r\n      <g>\r\n       <use style=\"stroke:#000000;stroke-width:0.6;\" x=\"10.7\" xlink:href=\"#md4391fd06b\" y=\"33.319219\"/>\r\n      </g>\r\n     </g>\r\n    </g>\r\n    <g id=\"xtick_2\">\r\n     <g id=\"line2d_4\">\r\n      <path clip-path=\"url(#pe2a26f9dda)\" d=\"M 28.556 211.879219 \r\nL 28.556 33.319219 \r\n\" style=\"fill:none;stroke:#000000;stroke-linecap:square;stroke-width:2;\"/>\r\n     </g>\r\n     <g id=\"line2d_5\">\r\n      <g>\r\n       <use style=\"stroke:#000000;stroke-width:0.6;\" x=\"28.556\" xlink:href=\"#mccc9b10542\" y=\"211.879219\"/>\r\n      </g>\r\n     </g>\r\n     <g id=\"line2d_6\">\r\n      <g>\r\n       <use style=\"stroke:#000000;stroke-width:0.6;\" x=\"28.556\" xlink:href=\"#md4391fd06b\" y=\"33.319219\"/>\r\n      </g>\r\n     </g>\r\n    </g>\r\n    <g id=\"xtick_3\">\r\n     <g id=\"line2d_7\">\r\n      <path clip-path=\"url(#pe2a26f9dda)\" d=\"M 46.412 211.879219 \r\nL 46.412 33.319219 \r\n\" style=\"fill:none;stroke:#000000;stroke-linecap:square;stroke-width:2;\"/>\r\n     </g>\r\n     <g id=\"line2d_8\">\r\n      <g>\r\n       <use style=\"stroke:#000000;stroke-width:0.6;\" x=\"46.412\" xlink:href=\"#mccc9b10542\" y=\"211.879219\"/>\r\n      </g>\r\n     </g>\r\n     <g id=\"line2d_9\">\r\n      <g>\r\n       <use style=\"stroke:#000000;stroke-width:0.6;\" x=\"46.412\" xlink:href=\"#md4391fd06b\" y=\"33.319219\"/>\r\n      </g>\r\n     </g>\r\n    </g>\r\n    <g id=\"xtick_4\">\r\n     <g id=\"line2d_10\">\r\n      <path clip-path=\"url(#pe2a26f9dda)\" d=\"M 64.268 211.879219 \r\nL 64.268 33.319219 \r\n\" style=\"fill:none;stroke:#000000;stroke-linecap:square;stroke-width:2;\"/>\r\n     </g>\r\n     <g id=\"line2d_11\">\r\n      <g>\r\n       <use style=\"stroke:#000000;stroke-width:0.6;\" x=\"64.268\" xlink:href=\"#mccc9b10542\" y=\"211.879219\"/>\r\n      </g>\r\n     </g>\r\n     <g id=\"line2d_12\">\r\n      <g>\r\n       <use style=\"stroke:#000000;stroke-width:0.6;\" x=\"64.268\" xlink:href=\"#md4391fd06b\" y=\"33.319219\"/>\r\n      </g>\r\n     </g>\r\n    </g>\r\n    <g id=\"xtick_5\">\r\n     <g id=\"line2d_13\">\r\n      <path clip-path=\"url(#pe2a26f9dda)\" d=\"M 82.124 211.879219 \r\nL 82.124 33.319219 \r\n\" style=\"fill:none;stroke:#000000;stroke-linecap:square;stroke-width:2;\"/>\r\n     </g>\r\n     <g id=\"line2d_14\">\r\n      <g>\r\n       <use style=\"stroke:#000000;stroke-width:0.6;\" x=\"82.124\" xlink:href=\"#mccc9b10542\" y=\"211.879219\"/>\r\n      </g>\r\n     </g>\r\n     <g id=\"line2d_15\">\r\n      <g>\r\n       <use style=\"stroke:#000000;stroke-width:0.6;\" x=\"82.124\" xlink:href=\"#md4391fd06b\" y=\"33.319219\"/>\r\n      </g>\r\n     </g>\r\n    </g>\r\n    <g id=\"xtick_6\">\r\n     <g id=\"line2d_16\">\r\n      <path clip-path=\"url(#pe2a26f9dda)\" d=\"M 99.98 211.879219 \r\nL 99.98 33.319219 \r\n\" style=\"fill:none;stroke:#000000;stroke-linecap:square;stroke-width:2;\"/>\r\n     </g>\r\n     <g id=\"line2d_17\">\r\n      <g>\r\n       <use style=\"stroke:#000000;stroke-width:0.6;\" x=\"99.98\" xlink:href=\"#mccc9b10542\" y=\"211.879219\"/>\r\n      </g>\r\n     </g>\r\n     <g id=\"line2d_18\">\r\n      <g>\r\n       <use style=\"stroke:#000000;stroke-width:0.6;\" x=\"99.98\" xlink:href=\"#md4391fd06b\" y=\"33.319219\"/>\r\n      </g>\r\n     </g>\r\n    </g>\r\n    <g id=\"xtick_7\">\r\n     <g id=\"line2d_19\">\r\n      <path clip-path=\"url(#pe2a26f9dda)\" d=\"M 117.836 211.879219 \r\nL 117.836 33.319219 \r\n\" style=\"fill:none;stroke:#000000;stroke-linecap:square;stroke-width:2;\"/>\r\n     </g>\r\n     <g id=\"line2d_20\">\r\n      <g>\r\n       <use style=\"stroke:#000000;stroke-width:0.6;\" x=\"117.836\" xlink:href=\"#mccc9b10542\" y=\"211.879219\"/>\r\n      </g>\r\n     </g>\r\n     <g id=\"line2d_21\">\r\n      <g>\r\n       <use style=\"stroke:#000000;stroke-width:0.6;\" x=\"117.836\" xlink:href=\"#md4391fd06b\" y=\"33.319219\"/>\r\n      </g>\r\n     </g>\r\n    </g>\r\n    <g id=\"xtick_8\">\r\n     <g id=\"line2d_22\">\r\n      <path clip-path=\"url(#pe2a26f9dda)\" d=\"M 135.692 211.879219 \r\nL 135.692 33.319219 \r\n\" style=\"fill:none;stroke:#000000;stroke-linecap:square;stroke-width:2;\"/>\r\n     </g>\r\n     <g id=\"line2d_23\">\r\n      <g>\r\n       <use style=\"stroke:#000000;stroke-width:0.6;\" x=\"135.692\" xlink:href=\"#mccc9b10542\" y=\"211.879219\"/>\r\n      </g>\r\n     </g>\r\n     <g id=\"line2d_24\">\r\n      <g>\r\n       <use style=\"stroke:#000000;stroke-width:0.6;\" x=\"135.692\" xlink:href=\"#md4391fd06b\" y=\"33.319219\"/>\r\n      </g>\r\n     </g>\r\n    </g>\r\n    <g id=\"xtick_9\">\r\n     <g id=\"line2d_25\">\r\n      <path clip-path=\"url(#pe2a26f9dda)\" d=\"M 153.548 211.879219 \r\nL 153.548 33.319219 \r\n\" style=\"fill:none;stroke:#000000;stroke-linecap:square;stroke-width:2;\"/>\r\n     </g>\r\n     <g id=\"line2d_26\">\r\n      <g>\r\n       <use style=\"stroke:#000000;stroke-width:0.6;\" x=\"153.548\" xlink:href=\"#mccc9b10542\" y=\"211.879219\"/>\r\n      </g>\r\n     </g>\r\n     <g id=\"line2d_27\">\r\n      <g>\r\n       <use style=\"stroke:#000000;stroke-width:0.6;\" x=\"153.548\" xlink:href=\"#md4391fd06b\" y=\"33.319219\"/>\r\n      </g>\r\n     </g>\r\n    </g>\r\n    <g id=\"xtick_10\">\r\n     <g id=\"line2d_28\">\r\n      <path clip-path=\"url(#pe2a26f9dda)\" d=\"M 171.404 211.879219 \r\nL 171.404 33.319219 \r\n\" style=\"fill:none;stroke:#000000;stroke-linecap:square;stroke-width:2;\"/>\r\n     </g>\r\n     <g id=\"line2d_29\">\r\n      <g>\r\n       <use style=\"stroke:#000000;stroke-width:0.6;\" x=\"171.404\" xlink:href=\"#mccc9b10542\" y=\"211.879219\"/>\r\n      </g>\r\n     </g>\r\n     <g id=\"line2d_30\">\r\n      <g>\r\n       <use style=\"stroke:#000000;stroke-width:0.6;\" x=\"171.404\" xlink:href=\"#md4391fd06b\" y=\"33.319219\"/>\r\n      </g>\r\n     </g>\r\n    </g>\r\n    <g id=\"xtick_11\">\r\n     <g id=\"line2d_31\">\r\n      <path clip-path=\"url(#pe2a26f9dda)\" d=\"M 189.26 211.879219 \r\nL 189.26 33.319219 \r\n\" style=\"fill:none;stroke:#000000;stroke-linecap:square;stroke-width:2;\"/>\r\n     </g>\r\n     <g id=\"line2d_32\">\r\n      <g>\r\n       <use style=\"stroke:#000000;stroke-width:0.6;\" x=\"189.26\" xlink:href=\"#mccc9b10542\" y=\"211.879219\"/>\r\n      </g>\r\n     </g>\r\n     <g id=\"line2d_33\">\r\n      <g>\r\n       <use style=\"stroke:#000000;stroke-width:0.6;\" x=\"189.26\" xlink:href=\"#md4391fd06b\" y=\"33.319219\"/>\r\n      </g>\r\n     </g>\r\n    </g>\r\n   </g>\r\n   <g id=\"matplotlib.axis_2\">\r\n    <g id=\"ytick_1\">\r\n     <g id=\"line2d_34\">\r\n      <path clip-path=\"url(#pe2a26f9dda)\" d=\"M 10.7 33.319219 \r\nL 189.26 33.319219 \r\n\" style=\"fill:none;stroke:#000000;stroke-linecap:square;stroke-width:2;\"/>\r\n     </g>\r\n     <g id=\"line2d_35\">\r\n      <defs>\r\n       <path d=\"M 0 0 \r\nL -2 0 \r\n\" id=\"m11e098b80a\" style=\"stroke:#000000;stroke-width:0.6;\"/>\r\n      </defs>\r\n      <g>\r\n       <use style=\"stroke:#000000;stroke-width:0.6;\" x=\"10.7\" xlink:href=\"#m11e098b80a\" y=\"33.319219\"/>\r\n      </g>\r\n     </g>\r\n    </g>\r\n    <g id=\"ytick_2\">\r\n     <g id=\"line2d_36\">\r\n      <path clip-path=\"url(#pe2a26f9dda)\" d=\"M 10.7 51.175219 \r\nL 189.26 51.175219 \r\n\" style=\"fill:none;stroke:#000000;stroke-linecap:square;stroke-width:2;\"/>\r\n     </g>\r\n     <g id=\"line2d_37\">\r\n      <g>\r\n       <use style=\"stroke:#000000;stroke-width:0.6;\" x=\"10.7\" xlink:href=\"#m11e098b80a\" y=\"51.175219\"/>\r\n      </g>\r\n     </g>\r\n    </g>\r\n    <g id=\"ytick_3\">\r\n     <g id=\"line2d_38\">\r\n      <path clip-path=\"url(#pe2a26f9dda)\" d=\"M 10.7 69.031219 \r\nL 189.26 69.031219 \r\n\" style=\"fill:none;stroke:#000000;stroke-linecap:square;stroke-width:2;\"/>\r\n     </g>\r\n     <g id=\"line2d_39\">\r\n      <g>\r\n       <use style=\"stroke:#000000;stroke-width:0.6;\" x=\"10.7\" xlink:href=\"#m11e098b80a\" y=\"69.031219\"/>\r\n      </g>\r\n     </g>\r\n    </g>\r\n    <g id=\"ytick_4\">\r\n     <g id=\"line2d_40\">\r\n      <path clip-path=\"url(#pe2a26f9dda)\" d=\"M 10.7 86.887219 \r\nL 189.26 86.887219 \r\n\" style=\"fill:none;stroke:#000000;stroke-linecap:square;stroke-width:2;\"/>\r\n     </g>\r\n     <g id=\"line2d_41\">\r\n      <g>\r\n       <use style=\"stroke:#000000;stroke-width:0.6;\" x=\"10.7\" xlink:href=\"#m11e098b80a\" y=\"86.887219\"/>\r\n      </g>\r\n     </g>\r\n    </g>\r\n    <g id=\"ytick_5\">\r\n     <g id=\"line2d_42\">\r\n      <path clip-path=\"url(#pe2a26f9dda)\" d=\"M 10.7 104.743219 \r\nL 189.26 104.743219 \r\n\" style=\"fill:none;stroke:#000000;stroke-linecap:square;stroke-width:2;\"/>\r\n     </g>\r\n     <g id=\"line2d_43\">\r\n      <g>\r\n       <use style=\"stroke:#000000;stroke-width:0.6;\" x=\"10.7\" xlink:href=\"#m11e098b80a\" y=\"104.743219\"/>\r\n      </g>\r\n     </g>\r\n    </g>\r\n    <g id=\"ytick_6\">\r\n     <g id=\"line2d_44\">\r\n      <path clip-path=\"url(#pe2a26f9dda)\" d=\"M 10.7 122.599219 \r\nL 189.26 122.599219 \r\n\" style=\"fill:none;stroke:#000000;stroke-linecap:square;stroke-width:2;\"/>\r\n     </g>\r\n     <g id=\"line2d_45\">\r\n      <g>\r\n       <use style=\"stroke:#000000;stroke-width:0.6;\" x=\"10.7\" xlink:href=\"#m11e098b80a\" y=\"122.599219\"/>\r\n      </g>\r\n     </g>\r\n    </g>\r\n    <g id=\"ytick_7\">\r\n     <g id=\"line2d_46\">\r\n      <path clip-path=\"url(#pe2a26f9dda)\" d=\"M 10.7 140.455219 \r\nL 189.26 140.455219 \r\n\" style=\"fill:none;stroke:#000000;stroke-linecap:square;stroke-width:2;\"/>\r\n     </g>\r\n     <g id=\"line2d_47\">\r\n      <g>\r\n       <use style=\"stroke:#000000;stroke-width:0.6;\" x=\"10.7\" xlink:href=\"#m11e098b80a\" y=\"140.455219\"/>\r\n      </g>\r\n     </g>\r\n    </g>\r\n    <g id=\"ytick_8\">\r\n     <g id=\"line2d_48\">\r\n      <path clip-path=\"url(#pe2a26f9dda)\" d=\"M 10.7 158.311219 \r\nL 189.26 158.311219 \r\n\" style=\"fill:none;stroke:#000000;stroke-linecap:square;stroke-width:2;\"/>\r\n     </g>\r\n     <g id=\"line2d_49\">\r\n      <g>\r\n       <use style=\"stroke:#000000;stroke-width:0.6;\" x=\"10.7\" xlink:href=\"#m11e098b80a\" y=\"158.311219\"/>\r\n      </g>\r\n     </g>\r\n    </g>\r\n    <g id=\"ytick_9\">\r\n     <g id=\"line2d_50\">\r\n      <path clip-path=\"url(#pe2a26f9dda)\" d=\"M 10.7 176.167219 \r\nL 189.26 176.167219 \r\n\" style=\"fill:none;stroke:#000000;stroke-linecap:square;stroke-width:2;\"/>\r\n     </g>\r\n     <g id=\"line2d_51\">\r\n      <g>\r\n       <use style=\"stroke:#000000;stroke-width:0.6;\" x=\"10.7\" xlink:href=\"#m11e098b80a\" y=\"176.167219\"/>\r\n      </g>\r\n     </g>\r\n    </g>\r\n    <g id=\"ytick_10\">\r\n     <g id=\"line2d_52\">\r\n      <path clip-path=\"url(#pe2a26f9dda)\" d=\"M 10.7 194.023219 \r\nL 189.26 194.023219 \r\n\" style=\"fill:none;stroke:#000000;stroke-linecap:square;stroke-width:2;\"/>\r\n     </g>\r\n     <g id=\"line2d_53\">\r\n      <g>\r\n       <use style=\"stroke:#000000;stroke-width:0.6;\" x=\"10.7\" xlink:href=\"#m11e098b80a\" y=\"194.023219\"/>\r\n      </g>\r\n     </g>\r\n    </g>\r\n    <g id=\"ytick_11\">\r\n     <g id=\"line2d_54\">\r\n      <path clip-path=\"url(#pe2a26f9dda)\" d=\"M 10.7 211.879219 \r\nL 189.26 211.879219 \r\n\" style=\"fill:none;stroke:#000000;stroke-linecap:square;stroke-width:2;\"/>\r\n     </g>\r\n     <g id=\"line2d_55\">\r\n      <g>\r\n       <use style=\"stroke:#000000;stroke-width:0.6;\" x=\"10.7\" xlink:href=\"#m11e098b80a\" y=\"211.879219\"/>\r\n      </g>\r\n     </g>\r\n    </g>\r\n   </g>\r\n   <g id=\"patch_3\">\r\n    <path d=\"M 10.7 211.879219 \r\nL 10.7 33.319219 \r\n\" style=\"fill:none;stroke:#000000;stroke-linecap:square;stroke-linejoin:miter;stroke-width:0.8;\"/>\r\n   </g>\r\n   <g id=\"patch_4\">\r\n    <path d=\"M 189.26 211.879219 \r\nL 189.26 33.319219 \r\n\" style=\"fill:none;stroke:#000000;stroke-linecap:square;stroke-linejoin:miter;stroke-width:0.8;\"/>\r\n   </g>\r\n   <g id=\"patch_5\">\r\n    <path d=\"M 10.7 211.879219 \r\nL 189.26 211.879219 \r\n\" style=\"fill:none;stroke:#000000;stroke-linecap:square;stroke-linejoin:miter;stroke-width:0.8;\"/>\r\n   </g>\r\n   <g id=\"patch_6\">\r\n    <path d=\"M 10.7 33.319219 \r\nL 189.26 33.319219 \r\n\" style=\"fill:none;stroke:#000000;stroke-linecap:square;stroke-linejoin:miter;stroke-width:0.8;\"/>\r\n   </g>\r\n   <g id=\"text_1\">\r\n    <!-- Proporção Satisfação Geral -->\r\n    <g transform=\"translate(18.973437 27.319219)scale(0.12 -0.12)\">\r\n     <defs>\r\n      <path d=\"M 1259 4147 \r\nL 1259 2394 \r\nL 2053 2394 \r\nQ 2494 2394 2734 2622 \r\nQ 2975 2850 2975 3272 \r\nQ 2975 3691 2734 3919 \r\nQ 2494 4147 2053 4147 \r\nL 1259 4147 \r\nz\r\nM 628 4666 \r\nL 2053 4666 \r\nQ 2838 4666 3239 4311 \r\nQ 3641 3956 3641 3272 \r\nQ 3641 2581 3239 2228 \r\nQ 2838 1875 2053 1875 \r\nL 1259 1875 \r\nL 1259 0 \r\nL 628 0 \r\nL 628 4666 \r\nz\r\n\" id=\"DejaVuSans-50\" transform=\"scale(0.015625)\"/>\r\n      <path d=\"M 2631 2963 \r\nQ 2534 3019 2420 3045 \r\nQ 2306 3072 2169 3072 \r\nQ 1681 3072 1420 2755 \r\nQ 1159 2438 1159 1844 \r\nL 1159 0 \r\nL 581 0 \r\nL 581 3500 \r\nL 1159 3500 \r\nL 1159 2956 \r\nQ 1341 3275 1631 3429 \r\nQ 1922 3584 2338 3584 \r\nQ 2397 3584 2469 3576 \r\nQ 2541 3569 2628 3553 \r\nL 2631 2963 \r\nz\r\n\" id=\"DejaVuSans-72\" transform=\"scale(0.015625)\"/>\r\n      <path d=\"M 1959 3097 \r\nQ 1497 3097 1228 2736 \r\nQ 959 2375 959 1747 \r\nQ 959 1119 1226 758 \r\nQ 1494 397 1959 397 \r\nQ 2419 397 2687 759 \r\nQ 2956 1122 2956 1747 \r\nQ 2956 2369 2687 2733 \r\nQ 2419 3097 1959 3097 \r\nz\r\nM 1959 3584 \r\nQ 2709 3584 3137 3096 \r\nQ 3566 2609 3566 1747 \r\nQ 3566 888 3137 398 \r\nQ 2709 -91 1959 -91 \r\nQ 1206 -91 779 398 \r\nQ 353 888 353 1747 \r\nQ 353 2609 779 3096 \r\nQ 1206 3584 1959 3584 \r\nz\r\n\" id=\"DejaVuSans-6f\" transform=\"scale(0.015625)\"/>\r\n      <path d=\"M 1159 525 \r\nL 1159 -1331 \r\nL 581 -1331 \r\nL 581 3500 \r\nL 1159 3500 \r\nL 1159 2969 \r\nQ 1341 3281 1617 3432 \r\nQ 1894 3584 2278 3584 \r\nQ 2916 3584 3314 3078 \r\nQ 3713 2572 3713 1747 \r\nQ 3713 922 3314 415 \r\nQ 2916 -91 2278 -91 \r\nQ 1894 -91 1617 61 \r\nQ 1341 213 1159 525 \r\nz\r\nM 3116 1747 \r\nQ 3116 2381 2855 2742 \r\nQ 2594 3103 2138 3103 \r\nQ 1681 3103 1420 2742 \r\nQ 1159 2381 1159 1747 \r\nQ 1159 1113 1420 752 \r\nQ 1681 391 2138 391 \r\nQ 2594 391 2855 752 \r\nQ 3116 1113 3116 1747 \r\nz\r\n\" id=\"DejaVuSans-70\" transform=\"scale(0.015625)\"/>\r\n      <path d=\"M 3122 3366 \r\nL 3122 2828 \r\nQ 2878 2963 2633 3030 \r\nQ 2388 3097 2138 3097 \r\nQ 1578 3097 1268 2742 \r\nQ 959 2388 959 1747 \r\nQ 959 1106 1268 751 \r\nQ 1578 397 2138 397 \r\nQ 2388 397 2633 464 \r\nQ 2878 531 3122 666 \r\nL 3122 134 \r\nQ 2881 22 2623 -34 \r\nQ 2366 -91 2075 -91 \r\nQ 1284 -91 818 406 \r\nQ 353 903 353 1747 \r\nQ 353 2603 823 3093 \r\nQ 1294 3584 2113 3584 \r\nQ 2378 3584 2631 3529 \r\nQ 2884 3475 3122 3366 \r\nz\r\nM 2311 0 \r\nQ 2482 -194 2566 -358 \r\nQ 2651 -522 2651 -672 \r\nQ 2651 -950 2463 -1092 \r\nQ 2276 -1234 1907 -1234 \r\nQ 1764 -1234 1628 -1215 \r\nQ 1492 -1197 1357 -1159 \r\nL 1357 -750 \r\nQ 1464 -803 1579 -826 \r\nQ 1695 -850 1842 -850 \r\nQ 2026 -850 2120 -775 \r\nQ 2214 -700 2214 -556 \r\nQ 2214 -463 2146 -327 \r\nQ 2079 -191 1939 0 \r\nL 2311 0 \r\nz\r\n\" id=\"DejaVuSans-e7\" transform=\"scale(0.015625)\"/>\r\n      <path d=\"M 2194 1759 \r\nQ 1497 1759 1228 1600 \r\nQ 959 1441 959 1056 \r\nQ 959 750 1161 570 \r\nQ 1363 391 1709 391 \r\nQ 2188 391 2477 730 \r\nQ 2766 1069 2766 1631 \r\nL 2766 1759 \r\nL 2194 1759 \r\nz\r\nM 3341 1997 \r\nL 3341 0 \r\nL 2766 0 \r\nL 2766 531 \r\nQ 2569 213 2275 61 \r\nQ 1981 -91 1556 -91 \r\nQ 1019 -91 701 211 \r\nQ 384 513 384 1019 \r\nQ 384 1609 779 1909 \r\nQ 1175 2209 1959 2209 \r\nL 2766 2209 \r\nL 2766 2266 \r\nQ 2766 2663 2505 2880 \r\nQ 2244 3097 1772 3097 \r\nQ 1472 3097 1187 3025 \r\nQ 903 2953 641 2809 \r\nL 641 3341 \r\nQ 956 3463 1253 3523 \r\nQ 1550 3584 1831 3584 \r\nQ 2591 3584 2966 3190 \r\nQ 3341 2797 3341 1997 \r\nz\r\nM 1844 4281 \r\nL 1665 4453 \r\nQ 1597 4516 1545 4545 \r\nQ 1494 4575 1453 4575 \r\nQ 1334 4575 1278 4461 \r\nQ 1222 4347 1215 4091 \r\nL 825 4091 \r\nQ 831 4513 990 4742 \r\nQ 1150 4972 1434 4972 \r\nQ 1553 4972 1653 4928 \r\nQ 1753 4884 1869 4781 \r\nL 2047 4609 \r\nQ 2115 4547 2167 4517 \r\nQ 2219 4488 2259 4488 \r\nQ 2378 4488 2434 4602 \r\nQ 2490 4716 2497 4972 \r\nL 2887 4972 \r\nQ 2881 4550 2721 4320 \r\nQ 2562 4091 2278 4091 \r\nQ 2159 4091 2059 4134 \r\nQ 1959 4178 1844 4281 \r\nz\r\n\" id=\"DejaVuSans-e3\" transform=\"scale(0.015625)\"/>\r\n      <path id=\"DejaVuSans-20\" transform=\"scale(0.015625)\"/>\r\n      <path d=\"M 3425 4513 \r\nL 3425 3897 \r\nQ 3066 4069 2747 4153 \r\nQ 2428 4238 2131 4238 \r\nQ 1616 4238 1336 4038 \r\nQ 1056 3838 1056 3469 \r\nQ 1056 3159 1242 3001 \r\nQ 1428 2844 1947 2747 \r\nL 2328 2669 \r\nQ 3034 2534 3370 2195 \r\nQ 3706 1856 3706 1288 \r\nQ 3706 609 3251 259 \r\nQ 2797 -91 1919 -91 \r\nQ 1588 -91 1214 -16 \r\nQ 841 59 441 206 \r\nL 441 856 \r\nQ 825 641 1194 531 \r\nQ 1563 422 1919 422 \r\nQ 2459 422 2753 634 \r\nQ 3047 847 3047 1241 \r\nQ 3047 1584 2836 1778 \r\nQ 2625 1972 2144 2069 \r\nL 1759 2144 \r\nQ 1053 2284 737 2584 \r\nQ 422 2884 422 3419 \r\nQ 422 4038 858 4394 \r\nQ 1294 4750 2059 4750 \r\nQ 2388 4750 2728 4690 \r\nQ 3069 4631 3425 4513 \r\nz\r\n\" id=\"DejaVuSans-53\" transform=\"scale(0.015625)\"/>\r\n      <path d=\"M 2194 1759 \r\nQ 1497 1759 1228 1600 \r\nQ 959 1441 959 1056 \r\nQ 959 750 1161 570 \r\nQ 1363 391 1709 391 \r\nQ 2188 391 2477 730 \r\nQ 2766 1069 2766 1631 \r\nL 2766 1759 \r\nL 2194 1759 \r\nz\r\nM 3341 1997 \r\nL 3341 0 \r\nL 2766 0 \r\nL 2766 531 \r\nQ 2569 213 2275 61 \r\nQ 1981 -91 1556 -91 \r\nQ 1019 -91 701 211 \r\nQ 384 513 384 1019 \r\nQ 384 1609 779 1909 \r\nQ 1175 2209 1959 2209 \r\nL 2766 2209 \r\nL 2766 2266 \r\nQ 2766 2663 2505 2880 \r\nQ 2244 3097 1772 3097 \r\nQ 1472 3097 1187 3025 \r\nQ 903 2953 641 2809 \r\nL 641 3341 \r\nQ 956 3463 1253 3523 \r\nQ 1550 3584 1831 3584 \r\nQ 2591 3584 2966 3190 \r\nQ 3341 2797 3341 1997 \r\nz\r\n\" id=\"DejaVuSans-61\" transform=\"scale(0.015625)\"/>\r\n      <path d=\"M 1172 4494 \r\nL 1172 3500 \r\nL 2356 3500 \r\nL 2356 3053 \r\nL 1172 3053 \r\nL 1172 1153 \r\nQ 1172 725 1289 603 \r\nQ 1406 481 1766 481 \r\nL 2356 481 \r\nL 2356 0 \r\nL 1766 0 \r\nQ 1100 0 847 248 \r\nQ 594 497 594 1153 \r\nL 594 3053 \r\nL 172 3053 \r\nL 172 3500 \r\nL 594 3500 \r\nL 594 4494 \r\nL 1172 4494 \r\nz\r\n\" id=\"DejaVuSans-74\" transform=\"scale(0.015625)\"/>\r\n      <path d=\"M 603 3500 \r\nL 1178 3500 \r\nL 1178 0 \r\nL 603 0 \r\nL 603 3500 \r\nz\r\nM 603 4863 \r\nL 1178 4863 \r\nL 1178 4134 \r\nL 603 4134 \r\nL 603 4863 \r\nz\r\n\" id=\"DejaVuSans-69\" transform=\"scale(0.015625)\"/>\r\n      <path d=\"M 2834 3397 \r\nL 2834 2853 \r\nQ 2591 2978 2328 3040 \r\nQ 2066 3103 1784 3103 \r\nQ 1356 3103 1142 2972 \r\nQ 928 2841 928 2578 \r\nQ 928 2378 1081 2264 \r\nQ 1234 2150 1697 2047 \r\nL 1894 2003 \r\nQ 2506 1872 2764 1633 \r\nQ 3022 1394 3022 966 \r\nQ 3022 478 2636 193 \r\nQ 2250 -91 1575 -91 \r\nQ 1294 -91 989 -36 \r\nQ 684 19 347 128 \r\nL 347 722 \r\nQ 666 556 975 473 \r\nQ 1284 391 1588 391 \r\nQ 1994 391 2212 530 \r\nQ 2431 669 2431 922 \r\nQ 2431 1156 2273 1281 \r\nQ 2116 1406 1581 1522 \r\nL 1381 1569 \r\nQ 847 1681 609 1914 \r\nQ 372 2147 372 2553 \r\nQ 372 3047 722 3315 \r\nQ 1072 3584 1716 3584 \r\nQ 2034 3584 2315 3537 \r\nQ 2597 3491 2834 3397 \r\nz\r\n\" id=\"DejaVuSans-73\" transform=\"scale(0.015625)\"/>\r\n      <path d=\"M 2375 4863 \r\nL 2375 4384 \r\nL 1825 4384 \r\nQ 1516 4384 1395 4259 \r\nQ 1275 4134 1275 3809 \r\nL 1275 3500 \r\nL 2222 3500 \r\nL 2222 3053 \r\nL 1275 3053 \r\nL 1275 0 \r\nL 697 0 \r\nL 697 3053 \r\nL 147 3053 \r\nL 147 3500 \r\nL 697 3500 \r\nL 697 3744 \r\nQ 697 4328 969 4595 \r\nQ 1241 4863 1831 4863 \r\nL 2375 4863 \r\nz\r\n\" id=\"DejaVuSans-66\" transform=\"scale(0.015625)\"/>\r\n      <path d=\"M 3809 666 \r\nL 3809 1919 \r\nL 2778 1919 \r\nL 2778 2438 \r\nL 4434 2438 \r\nL 4434 434 \r\nQ 4069 175 3628 42 \r\nQ 3188 -91 2688 -91 \r\nQ 1594 -91 976 548 \r\nQ 359 1188 359 2328 \r\nQ 359 3472 976 4111 \r\nQ 1594 4750 2688 4750 \r\nQ 3144 4750 3555 4637 \r\nQ 3966 4525 4313 4306 \r\nL 4313 3634 \r\nQ 3963 3931 3569 4081 \r\nQ 3175 4231 2741 4231 \r\nQ 1884 4231 1454 3753 \r\nQ 1025 3275 1025 2328 \r\nQ 1025 1384 1454 906 \r\nQ 1884 428 2741 428 \r\nQ 3075 428 3337 486 \r\nQ 3600 544 3809 666 \r\nz\r\n\" id=\"DejaVuSans-47\" transform=\"scale(0.015625)\"/>\r\n      <path d=\"M 3597 1894 \r\nL 3597 1613 \r\nL 953 1613 \r\nQ 991 1019 1311 708 \r\nQ 1631 397 2203 397 \r\nQ 2534 397 2845 478 \r\nQ 3156 559 3463 722 \r\nL 3463 178 \r\nQ 3153 47 2828 -22 \r\nQ 2503 -91 2169 -91 \r\nQ 1331 -91 842 396 \r\nQ 353 884 353 1716 \r\nQ 353 2575 817 3079 \r\nQ 1281 3584 2069 3584 \r\nQ 2775 3584 3186 3129 \r\nQ 3597 2675 3597 1894 \r\nz\r\nM 3022 2063 \r\nQ 3016 2534 2758 2815 \r\nQ 2500 3097 2075 3097 \r\nQ 1594 3097 1305 2825 \r\nQ 1016 2553 972 2059 \r\nL 3022 2063 \r\nz\r\n\" id=\"DejaVuSans-65\" transform=\"scale(0.015625)\"/>\r\n      <path d=\"M 603 4863 \r\nL 1178 4863 \r\nL 1178 0 \r\nL 603 0 \r\nL 603 4863 \r\nz\r\n\" id=\"DejaVuSans-6c\" transform=\"scale(0.015625)\"/>\r\n     </defs>\r\n     <use xlink:href=\"#DejaVuSans-50\"/>\r\n     <use x=\"58.552734\" xlink:href=\"#DejaVuSans-72\"/>\r\n     <use x=\"97.416016\" xlink:href=\"#DejaVuSans-6f\"/>\r\n     <use x=\"158.597656\" xlink:href=\"#DejaVuSans-70\"/>\r\n     <use x=\"222.074219\" xlink:href=\"#DejaVuSans-6f\"/>\r\n     <use x=\"283.255859\" xlink:href=\"#DejaVuSans-72\"/>\r\n     <use x=\"322.119141\" xlink:href=\"#DejaVuSans-e7\"/>\r\n     <use x=\"377.099609\" xlink:href=\"#DejaVuSans-e3\"/>\r\n     <use x=\"438.378906\" xlink:href=\"#DejaVuSans-6f\"/>\r\n     <use x=\"499.560547\" xlink:href=\"#DejaVuSans-20\"/>\r\n     <use x=\"531.347656\" xlink:href=\"#DejaVuSans-53\"/>\r\n     <use x=\"594.824219\" xlink:href=\"#DejaVuSans-61\"/>\r\n     <use x=\"656.103516\" xlink:href=\"#DejaVuSans-74\"/>\r\n     <use x=\"695.3125\" xlink:href=\"#DejaVuSans-69\"/>\r\n     <use x=\"723.095703\" xlink:href=\"#DejaVuSans-73\"/>\r\n     <use x=\"775.195312\" xlink:href=\"#DejaVuSans-66\"/>\r\n     <use x=\"810.400391\" xlink:href=\"#DejaVuSans-61\"/>\r\n     <use x=\"871.679688\" xlink:href=\"#DejaVuSans-e7\"/>\r\n     <use x=\"926.660156\" xlink:href=\"#DejaVuSans-e3\"/>\r\n     <use x=\"987.939453\" xlink:href=\"#DejaVuSans-6f\"/>\r\n     <use x=\"1049.121094\" xlink:href=\"#DejaVuSans-20\"/>\r\n     <use x=\"1080.908203\" xlink:href=\"#DejaVuSans-47\"/>\r\n     <use x=\"1158.398438\" xlink:href=\"#DejaVuSans-65\"/>\r\n     <use x=\"1219.921875\" xlink:href=\"#DejaVuSans-72\"/>\r\n     <use x=\"1261.035156\" xlink:href=\"#DejaVuSans-61\"/>\r\n     <use x=\"1322.314453\" xlink:href=\"#DejaVuSans-6c\"/>\r\n    </g>\r\n   </g>\r\n  </g>\r\n  <g id=\"axes_2\">\r\n   <g id=\"patch_7\">\r\n    <path d=\"M 200.42 234.199219 \r\nL 211.58 234.199219 \r\nL 211.58 10.999219 \r\nL 200.42 10.999219 \r\nz\r\n\" style=\"fill:#ffffff;\"/>\r\n   </g>\r\n   <g id=\"patch_8\">\r\n    <path clip-path=\"url(#pe45b79e810)\" d=\"M 200.42 234.199219 \r\nL 200.42 233.327344 \r\nL 200.42 11.871094 \r\nL 200.42 10.999219 \r\nL 211.58 10.999219 \r\nL 211.58 11.871094 \r\nL 211.58 233.327344 \r\nL 211.58 234.199219 \r\nL 211.58 234.199219 \r\nz\r\n\" style=\"fill:#ffffff;stroke:#ffffff;stroke-linejoin:miter;stroke-width:0.01;\"/>\r\n   </g>\r\n   <image height=\"223.2\" id=\"image80295deb13\" transform=\"scale(1 -1)translate(0 -223.2)\" width=\"11.52\" x=\"200.16\" xlink:href=\"data:image/png;base64,\r\niVBORw0KGgoAAAANSUhEUgAAABAAAAE2CAYAAABocRL+AAABqUlEQVR4nO2a2w3DMAwD5SSzdPOO2bhDHAFShvpvguZRSl/rW59d4PVcFzleBY8LHCQILLODoZAgEEBhLVbFCXEEqjIouJeqX0BBAe6DdVMB7MB9BU7BfgVBD6CAIETeRGbigFkIoGBvoh9jAAU+C5TCNVuZOyi3A06hbtjEsmPEDijGgFnAGP2zcAQFXGXzeyTBQrGH6B+mqXLGc4HlmDALdB8IBA6g0D2DiBC7Z8C/nE+gcECVh4I9A/8VEigsu4C/yv4M3CFiB0NB83S+kcBQmFkQCUyIAQKb/v9g7xcJcAovdPDsggL9HXAKtAfPSzPgDtwYI2bh53Zgr/I0MWKhuK9wwEpTLBT0z3sBBe6g8BWYQMBaF2A09yChyrxI3TEmUGgfIn4uRFDwC0yIWODHzicsFMEVsAOMETtgAopZgAI8RLYOAoqkmIXuTZyFInEALZyxULAD98OVjrNgFvhSpSHyKmMH6HzCWp8QFVcIoIDOcwcJFNqHmLDW3eMc0QM3BfyJZdMM7AKK3527Z+AXEFBwXyFBwL5QAjJoL3AEBfdOPCJEKPAHRbpfF5KpHncAAAAASUVORK5CYII=\" y=\"-10.8\"/>\r\n   <g id=\"matplotlib.axis_3\"/>\r\n   <g id=\"matplotlib.axis_4\">\r\n    <g id=\"ytick_12\">\r\n     <g id=\"line2d_56\">\r\n      <defs>\r\n       <path d=\"M 0 0 \r\nL 3.5 0 \r\n\" id=\"m2476c74697\" style=\"stroke:#000000;stroke-width:0.8;\"/>\r\n      </defs>\r\n      <g>\r\n       <use style=\"stroke:#000000;stroke-width:0.8;\" x=\"211.58\" xlink:href=\"#m2476c74697\" y=\"234.199219\"/>\r\n      </g>\r\n     </g>\r\n     <g id=\"text_2\">\r\n      <!-- 0 -->\r\n      <g transform=\"translate(218.58 237.998438)scale(0.1 -0.1)\">\r\n       <defs>\r\n        <path d=\"M 2034 4250 \r\nQ 1547 4250 1301 3770 \r\nQ 1056 3291 1056 2328 \r\nQ 1056 1369 1301 889 \r\nQ 1547 409 2034 409 \r\nQ 2525 409 2770 889 \r\nQ 3016 1369 3016 2328 \r\nQ 3016 3291 2770 3770 \r\nQ 2525 4250 2034 4250 \r\nz\r\nM 2034 4750 \r\nQ 2819 4750 3233 4129 \r\nQ 3647 3509 3647 2328 \r\nQ 3647 1150 3233 529 \r\nQ 2819 -91 2034 -91 \r\nQ 1250 -91 836 529 \r\nQ 422 1150 422 2328 \r\nQ 422 3509 836 4129 \r\nQ 1250 4750 2034 4750 \r\nz\r\n\" id=\"DejaVuSans-30\" transform=\"scale(0.015625)\"/>\r\n       </defs>\r\n       <use xlink:href=\"#DejaVuSans-30\"/>\r\n      </g>\r\n     </g>\r\n    </g>\r\n    <g id=\"ytick_13\">\r\n     <g id=\"line2d_57\">\r\n      <g>\r\n       <use style=\"stroke:#000000;stroke-width:0.8;\" x=\"211.58\" xlink:href=\"#m2476c74697\" y=\"189.559219\"/>\r\n      </g>\r\n     </g>\r\n     <g id=\"text_3\">\r\n      <!-- 2 -->\r\n      <g transform=\"translate(218.58 193.358438)scale(0.1 -0.1)\">\r\n       <defs>\r\n        <path d=\"M 1228 531 \r\nL 3431 531 \r\nL 3431 0 \r\nL 469 0 \r\nL 469 531 \r\nQ 828 903 1448 1529 \r\nQ 2069 2156 2228 2338 \r\nQ 2531 2678 2651 2914 \r\nQ 2772 3150 2772 3378 \r\nQ 2772 3750 2511 3984 \r\nQ 2250 4219 1831 4219 \r\nQ 1534 4219 1204 4116 \r\nQ 875 4013 500 3803 \r\nL 500 4441 \r\nQ 881 4594 1212 4672 \r\nQ 1544 4750 1819 4750 \r\nQ 2544 4750 2975 4387 \r\nQ 3406 4025 3406 3419 \r\nQ 3406 3131 3298 2873 \r\nQ 3191 2616 2906 2266 \r\nQ 2828 2175 2409 1742 \r\nQ 1991 1309 1228 531 \r\nz\r\n\" id=\"DejaVuSans-32\" transform=\"scale(0.015625)\"/>\r\n       </defs>\r\n       <use xlink:href=\"#DejaVuSans-32\"/>\r\n      </g>\r\n     </g>\r\n    </g>\r\n    <g id=\"ytick_14\">\r\n     <g id=\"line2d_58\">\r\n      <g>\r\n       <use style=\"stroke:#000000;stroke-width:0.8;\" x=\"211.58\" xlink:href=\"#m2476c74697\" y=\"144.919219\"/>\r\n      </g>\r\n     </g>\r\n     <g id=\"text_4\">\r\n      <!-- 4 -->\r\n      <g transform=\"translate(218.58 148.718438)scale(0.1 -0.1)\">\r\n       <defs>\r\n        <path d=\"M 2419 4116 \r\nL 825 1625 \r\nL 2419 1625 \r\nL 2419 4116 \r\nz\r\nM 2253 4666 \r\nL 3047 4666 \r\nL 3047 1625 \r\nL 3713 1625 \r\nL 3713 1100 \r\nL 3047 1100 \r\nL 3047 0 \r\nL 2419 0 \r\nL 2419 1100 \r\nL 313 1100 \r\nL 313 1709 \r\nL 2253 4666 \r\nz\r\n\" id=\"DejaVuSans-34\" transform=\"scale(0.015625)\"/>\r\n       </defs>\r\n       <use xlink:href=\"#DejaVuSans-34\"/>\r\n      </g>\r\n     </g>\r\n    </g>\r\n    <g id=\"ytick_15\">\r\n     <g id=\"line2d_59\">\r\n      <g>\r\n       <use style=\"stroke:#000000;stroke-width:0.8;\" x=\"211.58\" xlink:href=\"#m2476c74697\" y=\"100.279219\"/>\r\n      </g>\r\n     </g>\r\n     <g id=\"text_5\">\r\n      <!-- 6 -->\r\n      <g transform=\"translate(218.58 104.078438)scale(0.1 -0.1)\">\r\n       <defs>\r\n        <path d=\"M 2113 2584 \r\nQ 1688 2584 1439 2293 \r\nQ 1191 2003 1191 1497 \r\nQ 1191 994 1439 701 \r\nQ 1688 409 2113 409 \r\nQ 2538 409 2786 701 \r\nQ 3034 994 3034 1497 \r\nQ 3034 2003 2786 2293 \r\nQ 2538 2584 2113 2584 \r\nz\r\nM 3366 4563 \r\nL 3366 3988 \r\nQ 3128 4100 2886 4159 \r\nQ 2644 4219 2406 4219 \r\nQ 1781 4219 1451 3797 \r\nQ 1122 3375 1075 2522 \r\nQ 1259 2794 1537 2939 \r\nQ 1816 3084 2150 3084 \r\nQ 2853 3084 3261 2657 \r\nQ 3669 2231 3669 1497 \r\nQ 3669 778 3244 343 \r\nQ 2819 -91 2113 -91 \r\nQ 1303 -91 875 529 \r\nQ 447 1150 447 2328 \r\nQ 447 3434 972 4092 \r\nQ 1497 4750 2381 4750 \r\nQ 2619 4750 2861 4703 \r\nQ 3103 4656 3366 4563 \r\nz\r\n\" id=\"DejaVuSans-36\" transform=\"scale(0.015625)\"/>\r\n       </defs>\r\n       <use xlink:href=\"#DejaVuSans-36\"/>\r\n      </g>\r\n     </g>\r\n    </g>\r\n    <g id=\"ytick_16\">\r\n     <g id=\"line2d_60\">\r\n      <g>\r\n       <use style=\"stroke:#000000;stroke-width:0.8;\" x=\"211.58\" xlink:href=\"#m2476c74697\" y=\"55.639219\"/>\r\n      </g>\r\n     </g>\r\n     <g id=\"text_6\">\r\n      <!-- 8 -->\r\n      <g transform=\"translate(218.58 59.438438)scale(0.1 -0.1)\">\r\n       <defs>\r\n        <path d=\"M 2034 2216 \r\nQ 1584 2216 1326 1975 \r\nQ 1069 1734 1069 1313 \r\nQ 1069 891 1326 650 \r\nQ 1584 409 2034 409 \r\nQ 2484 409 2743 651 \r\nQ 3003 894 3003 1313 \r\nQ 3003 1734 2745 1975 \r\nQ 2488 2216 2034 2216 \r\nz\r\nM 1403 2484 \r\nQ 997 2584 770 2862 \r\nQ 544 3141 544 3541 \r\nQ 544 4100 942 4425 \r\nQ 1341 4750 2034 4750 \r\nQ 2731 4750 3128 4425 \r\nQ 3525 4100 3525 3541 \r\nQ 3525 3141 3298 2862 \r\nQ 3072 2584 2669 2484 \r\nQ 3125 2378 3379 2068 \r\nQ 3634 1759 3634 1313 \r\nQ 3634 634 3220 271 \r\nQ 2806 -91 2034 -91 \r\nQ 1263 -91 848 271 \r\nQ 434 634 434 1313 \r\nQ 434 1759 690 2068 \r\nQ 947 2378 1403 2484 \r\nz\r\nM 1172 3481 \r\nQ 1172 3119 1398 2916 \r\nQ 1625 2713 2034 2713 \r\nQ 2441 2713 2670 2916 \r\nQ 2900 3119 2900 3481 \r\nQ 2900 3844 2670 4047 \r\nQ 2441 4250 2034 4250 \r\nQ 1625 4250 1398 4047 \r\nQ 1172 3844 1172 3481 \r\nz\r\n\" id=\"DejaVuSans-38\" transform=\"scale(0.015625)\"/>\r\n       </defs>\r\n       <use xlink:href=\"#DejaVuSans-38\"/>\r\n      </g>\r\n     </g>\r\n    </g>\r\n    <g id=\"ytick_17\">\r\n     <g id=\"line2d_61\">\r\n      <g>\r\n       <use style=\"stroke:#000000;stroke-width:0.8;\" x=\"211.58\" xlink:href=\"#m2476c74697\" y=\"10.999219\"/>\r\n      </g>\r\n     </g>\r\n     <g id=\"text_7\">\r\n      <!-- 10 -->\r\n      <g transform=\"translate(218.58 14.798438)scale(0.1 -0.1)\">\r\n       <defs>\r\n        <path d=\"M 794 531 \r\nL 1825 531 \r\nL 1825 4091 \r\nL 703 3866 \r\nL 703 4441 \r\nL 1819 4666 \r\nL 2450 4666 \r\nL 2450 531 \r\nL 3481 531 \r\nL 3481 0 \r\nL 794 0 \r\nL 794 531 \r\nz\r\n\" id=\"DejaVuSans-31\" transform=\"scale(0.015625)\"/>\r\n       </defs>\r\n       <use xlink:href=\"#DejaVuSans-31\"/>\r\n       <use x=\"63.623047\" xlink:href=\"#DejaVuSans-30\"/>\r\n      </g>\r\n     </g>\r\n    </g>\r\n   </g>\r\n   <g id=\"LineCollection_1\"/>\r\n   <g id=\"patch_9\">\r\n    <path d=\"M 200.42 234.199219 \r\nL 200.42 233.327344 \r\nL 200.42 11.871094 \r\nL 200.42 10.999219 \r\nL 211.58 10.999219 \r\nL 211.58 11.871094 \r\nL 211.58 233.327344 \r\nL 211.58 234.199219 \r\nz\r\n\" style=\"fill:none;stroke:#000000;stroke-linecap:square;stroke-linejoin:miter;stroke-width:0.8;\"/>\r\n   </g>\r\n  </g>\r\n </g>\r\n <defs>\r\n  <clipPath id=\"pe2a26f9dda\">\r\n   <rect height=\"178.56\" width=\"178.56\" x=\"10.7\" y=\"33.319219\"/>\r\n  </clipPath>\r\n  <clipPath id=\"pe45b79e810\">\r\n   <rect height=\"223.2\" width=\"11.16\" x=\"200.42\" y=\"10.999219\"/>\r\n  </clipPath>\r\n </defs>\r\n</svg>\r\n",
      "image/png": "[encoded data removed]"
     },
     "metadata": {
      "needs_background": "light"
     }
    }
   ],
   "metadata": {}
  },
  {
   "cell_type": "code",
   "execution_count": 89,
   "source": [
    "##Likert vs Likert\r\n",
    "\r\n",
    "SatCobran= Data_Reshaped[\"SAT Cobrança Funcionamento\"]\r\n",
    "SatGeral = Data_Reshaped[\"SAT Geral\"]\r\n",
    "\r\n",
    "Matrix_Geral_Cobran = np.zeros((10, 10))\r\n",
    "\r\n",
    "print(SatGeral.loc(1))\r\n",
    "#for idx in SatGeral.index:\r\n",
    " #       i = SatGeral.loc(idx)\r\n",
    "  #      j = SatCobran.loc(idx)\r\n",
    "   #     print(i)\r\n",
    "    #    print(j)\r\n",
    "        #Matrix_Geral_Cobran[i,j] = Matrix_Geral_Cobran[i,j] + 1\r\n",
    "\r\n"
   ],
   "outputs": [
    {
     "output_type": "error",
     "ename": "ValueError",
     "evalue": "No axis named 1 for object type Series",
     "traceback": [
      "\u001b[1;31m---------------------------------------------------------------------------\u001b[0m",
      "\u001b[1;31mKeyError\u001b[0m                                  Traceback (most recent call last)",
      "\u001b[1;32m~\\anaconda3\\lib\\site-packages\\pandas\\core\\generic.py\u001b[0m in \u001b[0;36m_get_axis_number\u001b[1;34m(cls, axis)\u001b[0m\n\u001b[0;32m    367\u001b[0m         \u001b[1;32mtry\u001b[0m\u001b[1;33m:\u001b[0m\u001b[1;33m\u001b[0m\u001b[1;33m\u001b[0m\u001b[0m\n\u001b[1;32m--> 368\u001b[1;33m             \u001b[1;32mreturn\u001b[0m \u001b[0mcls\u001b[0m\u001b[1;33m.\u001b[0m\u001b[0m_AXIS_TO_AXIS_NUMBER\u001b[0m\u001b[1;33m[\u001b[0m\u001b[0maxis\u001b[0m\u001b[1;33m]\u001b[0m\u001b[1;33m\u001b[0m\u001b[1;33m\u001b[0m\u001b[0m\n\u001b[0m\u001b[0;32m    369\u001b[0m         \u001b[1;32mexcept\u001b[0m \u001b[0mKeyError\u001b[0m\u001b[1;33m:\u001b[0m\u001b[1;33m\u001b[0m\u001b[1;33m\u001b[0m\u001b[0m\n",
      "\u001b[1;31mKeyError\u001b[0m: 1",
      "\nDuring handling of the above exception, another exception occurred:\n",
      "\u001b[1;31mValueError\u001b[0m                                Traceback (most recent call last)",
      "\u001b[1;32m<ipython-input-89-8a1b9068d0e0>\u001b[0m in \u001b[0;36m<module>\u001b[1;34m\u001b[0m\n\u001b[0;32m      6\u001b[0m \u001b[0mMatrix_Geral_Cobran\u001b[0m \u001b[1;33m=\u001b[0m \u001b[0mnp\u001b[0m\u001b[1;33m.\u001b[0m\u001b[0mzeros\u001b[0m\u001b[1;33m(\u001b[0m\u001b[1;33m(\u001b[0m\u001b[1;36m10\u001b[0m\u001b[1;33m,\u001b[0m \u001b[1;36m10\u001b[0m\u001b[1;33m)\u001b[0m\u001b[1;33m)\u001b[0m\u001b[1;33m\u001b[0m\u001b[1;33m\u001b[0m\u001b[0m\n\u001b[0;32m      7\u001b[0m \u001b[1;33m\u001b[0m\u001b[0m\n\u001b[1;32m----> 8\u001b[1;33m \u001b[0mprint\u001b[0m\u001b[1;33m(\u001b[0m\u001b[0mSatGeral\u001b[0m\u001b[1;33m.\u001b[0m\u001b[0mloc\u001b[0m\u001b[1;33m(\u001b[0m\u001b[1;36m1\u001b[0m\u001b[1;33m)\u001b[0m\u001b[1;33m)\u001b[0m\u001b[1;33m\u001b[0m\u001b[1;33m\u001b[0m\u001b[0m\n\u001b[0m\u001b[0;32m      9\u001b[0m \u001b[1;31m#for idx in SatGeral.index:\u001b[0m\u001b[1;33m\u001b[0m\u001b[1;33m\u001b[0m\u001b[1;33m\u001b[0m\u001b[0m\n\u001b[0;32m     10\u001b[0m  \u001b[1;31m#       i = SatGeral.loc(idx)\u001b[0m\u001b[1;33m\u001b[0m\u001b[1;33m\u001b[0m\u001b[1;33m\u001b[0m\u001b[0m\n",
      "\u001b[1;32m~\\anaconda3\\lib\\site-packages\\pandas\\core\\indexing.py\u001b[0m in \u001b[0;36m__call__\u001b[1;34m(self, axis)\u001b[0m\n\u001b[0;32m    582\u001b[0m \u001b[1;33m\u001b[0m\u001b[0m\n\u001b[0;32m    583\u001b[0m         \u001b[1;32mif\u001b[0m \u001b[0maxis\u001b[0m \u001b[1;32mis\u001b[0m \u001b[1;32mnot\u001b[0m \u001b[1;32mNone\u001b[0m\u001b[1;33m:\u001b[0m\u001b[1;33m\u001b[0m\u001b[1;33m\u001b[0m\u001b[0m\n\u001b[1;32m--> 584\u001b[1;33m             \u001b[0maxis\u001b[0m \u001b[1;33m=\u001b[0m \u001b[0mself\u001b[0m\u001b[1;33m.\u001b[0m\u001b[0mobj\u001b[0m\u001b[1;33m.\u001b[0m\u001b[0m_get_axis_number\u001b[0m\u001b[1;33m(\u001b[0m\u001b[0maxis\u001b[0m\u001b[1;33m)\u001b[0m\u001b[1;33m\u001b[0m\u001b[1;33m\u001b[0m\u001b[0m\n\u001b[0m\u001b[0;32m    585\u001b[0m         \u001b[0mnew_self\u001b[0m\u001b[1;33m.\u001b[0m\u001b[0maxis\u001b[0m \u001b[1;33m=\u001b[0m \u001b[0maxis\u001b[0m\u001b[1;33m\u001b[0m\u001b[1;33m\u001b[0m\u001b[0m\n\u001b[0;32m    586\u001b[0m         \u001b[1;32mreturn\u001b[0m \u001b[0mnew_self\u001b[0m\u001b[1;33m\u001b[0m\u001b[1;33m\u001b[0m\u001b[0m\n",
      "\u001b[1;32m~\\anaconda3\\lib\\site-packages\\pandas\\core\\generic.py\u001b[0m in \u001b[0;36m_get_axis_number\u001b[1;34m(cls, axis)\u001b[0m\n\u001b[0;32m    368\u001b[0m             \u001b[1;32mreturn\u001b[0m \u001b[0mcls\u001b[0m\u001b[1;33m.\u001b[0m\u001b[0m_AXIS_TO_AXIS_NUMBER\u001b[0m\u001b[1;33m[\u001b[0m\u001b[0maxis\u001b[0m\u001b[1;33m]\u001b[0m\u001b[1;33m\u001b[0m\u001b[1;33m\u001b[0m\u001b[0m\n\u001b[0;32m    369\u001b[0m         \u001b[1;32mexcept\u001b[0m \u001b[0mKeyError\u001b[0m\u001b[1;33m:\u001b[0m\u001b[1;33m\u001b[0m\u001b[1;33m\u001b[0m\u001b[0m\n\u001b[1;32m--> 370\u001b[1;33m             \u001b[1;32mraise\u001b[0m \u001b[0mValueError\u001b[0m\u001b[1;33m(\u001b[0m\u001b[1;34mf\"No axis named {axis} for object type {cls.__name__}\"\u001b[0m\u001b[1;33m)\u001b[0m\u001b[1;33m\u001b[0m\u001b[1;33m\u001b[0m\u001b[0m\n\u001b[0m\u001b[0;32m    371\u001b[0m \u001b[1;33m\u001b[0m\u001b[0m\n\u001b[0;32m    372\u001b[0m     \u001b[1;33m@\u001b[0m\u001b[0mclassmethod\u001b[0m\u001b[1;33m\u001b[0m\u001b[1;33m\u001b[0m\u001b[0m\n",
      "\u001b[1;31mValueError\u001b[0m: No axis named 1 for object type Series"
     ]
    }
   ],
   "metadata": {}
  },
  {
   "cell_type": "code",
   "execution_count": null,
   "source": [],
   "outputs": [],
   "metadata": {}
  }
 ],
 "metadata": {
  "orig_nbformat": 4,
  "language_info": {
   "name": "python",
   "version": "3.8.5",
   "mimetype": "text/x-python",
   "codemirror_mode": {
    "name": "ipython",
    "version": 3
   },
   "pygments_lexer": "ipython3",
   "nbconvert_exporter": "python",
   "file_extension": ".py"
  },
  "kernelspec": {
   "name": "python3",
   "display_name": "Python 3.8.5 64-bit ('base': conda)"
  },
  "interpreter": {
   "hash": "11ffc019a02cc0e21e59860b66c88ea81995ce9237607e8ab2c087a287ee4867"
  }
 },
 "nbformat": 4,
 "nbformat_minor": 2
}